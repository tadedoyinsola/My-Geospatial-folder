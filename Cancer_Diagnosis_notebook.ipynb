{
 "cells": [
  {
   "cell_type": "markdown",
   "id": "5b839425",
   "metadata": {
    "id": "5b839425"
   },
   "source": [
    "# Cancer Diagnosis"
   ]
  },
  {
   "cell_type": "code",
   "execution_count": 2,
   "id": "2e81287b",
   "metadata": {},
   "outputs": [],
   "source": [
    "# for result reproducibility\n",
    "from numpy.random import seed\n",
    "seed(42)\n",
    "import tensorflow as tf\n",
    "tf.random.set_seed(42)"
   ]
  },
  {
   "cell_type": "code",
   "execution_count": 1,
   "id": "782c7955",
   "metadata": {
    "id": "782c7955"
   },
   "outputs": [],
   "source": [
    "import os\n",
    "import pandas as pd\n",
    "import numpy as np\n",
    "import seaborn as sns\n",
    "import matplotlib.pyplot as plt\n",
    "from mlxtend.plotting import plot_confusion_matrix\n",
    "\n",
    "from sklearn.model_selection import GridSearchCV\n",
    "from sklearn.preprocessing import StandardScaler\n",
    "from sklearn.model_selection import StratifiedShuffleSplit\n",
    "\n",
    "# evaluation metrics\n",
    "from sklearn import metrics \n",
    "\n",
    "# Model Algorithms\n",
    "from sklearn.svm import SVC\n",
    "from sklearn.linear_model import LogisticRegression \n",
    "from sklearn.neighbors import KNeighborsClassifier\n",
    "from sklearn.ensemble import RandomForestClassifier\n",
    "from sklearn.ensemble import GradientBoostingClassifier\n",
    "from xgboost import XGBClassifier\n",
    "from tensorflow import keras\n",
    "from tensorflow.keras.utils import to_categorical\n",
    "from tensorflow.keras.models import Sequential\n",
    "from tensorflow.keras.layers import Dense, Dropout\n",
    "from tensorflow.keras import regularizers\n",
    "from tensorflow.keras.optimizers import Adam\n",
    "\n",
    "import warnings\n",
    "warnings.filterwarnings(\"ignore\")\n",
    "\n",
    "#check that the data loaded in is in the correct format\n",
    "pd.set_option('display.max_columns', 500)"
   ]
  },
  {
   "cell_type": "markdown",
   "id": "39aa5fd9",
   "metadata": {
    "id": "39aa5fd9"
   },
   "source": [
    "# 1. Read-In Data"
   ]
  },
  {
   "cell_type": "code",
   "execution_count": 4,
   "id": "nNKGHSQ72KA6",
   "metadata": {
    "colab": {
     "base_uri": "https://localhost:8080/",
     "height": 239
    },
    "id": "nNKGHSQ72KA6",
    "outputId": "3daf83e5-58fe-48fb-a9d4-1348a5a4f64a"
   },
   "outputs": [
    {
     "data": {
      "text/html": [
       "<div>\n",
       "<style scoped>\n",
       "    .dataframe tbody tr th:only-of-type {\n",
       "        vertical-align: middle;\n",
       "    }\n",
       "\n",
       "    .dataframe tbody tr th {\n",
       "        vertical-align: top;\n",
       "    }\n",
       "\n",
       "    .dataframe thead th {\n",
       "        text-align: right;\n",
       "    }\n",
       "</style>\n",
       "<table border=\"1\" class=\"dataframe\">\n",
       "  <thead>\n",
       "    <tr style=\"text-align: right;\">\n",
       "      <th></th>\n",
       "      <th>GENDER</th>\n",
       "      <th>AGE</th>\n",
       "      <th>SMOKING</th>\n",
       "      <th>YELLOW_FINGERS</th>\n",
       "      <th>ANXIETY</th>\n",
       "      <th>PEER_PRESSURE</th>\n",
       "      <th>CHRONIC DISEASE</th>\n",
       "      <th>FATIGUE</th>\n",
       "      <th>ALLERGY</th>\n",
       "      <th>WHEEZING</th>\n",
       "      <th>ALCOHOL CONSUMING</th>\n",
       "      <th>COUGHING</th>\n",
       "      <th>SHORTNESS OF BREATH</th>\n",
       "      <th>SWALLOWING DIFFICULTY</th>\n",
       "      <th>CHEST PAIN</th>\n",
       "      <th>LUNG_CANCER</th>\n",
       "    </tr>\n",
       "  </thead>\n",
       "  <tbody>\n",
       "    <tr>\n",
       "      <th>0</th>\n",
       "      <td>M</td>\n",
       "      <td>69</td>\n",
       "      <td>1</td>\n",
       "      <td>2</td>\n",
       "      <td>2</td>\n",
       "      <td>1</td>\n",
       "      <td>1</td>\n",
       "      <td>2</td>\n",
       "      <td>1</td>\n",
       "      <td>2</td>\n",
       "      <td>2</td>\n",
       "      <td>2</td>\n",
       "      <td>2</td>\n",
       "      <td>2</td>\n",
       "      <td>2</td>\n",
       "      <td>YES</td>\n",
       "    </tr>\n",
       "    <tr>\n",
       "      <th>1</th>\n",
       "      <td>M</td>\n",
       "      <td>74</td>\n",
       "      <td>2</td>\n",
       "      <td>1</td>\n",
       "      <td>1</td>\n",
       "      <td>1</td>\n",
       "      <td>2</td>\n",
       "      <td>2</td>\n",
       "      <td>2</td>\n",
       "      <td>1</td>\n",
       "      <td>1</td>\n",
       "      <td>1</td>\n",
       "      <td>2</td>\n",
       "      <td>2</td>\n",
       "      <td>2</td>\n",
       "      <td>YES</td>\n",
       "    </tr>\n",
       "    <tr>\n",
       "      <th>2</th>\n",
       "      <td>F</td>\n",
       "      <td>59</td>\n",
       "      <td>1</td>\n",
       "      <td>1</td>\n",
       "      <td>1</td>\n",
       "      <td>2</td>\n",
       "      <td>1</td>\n",
       "      <td>2</td>\n",
       "      <td>1</td>\n",
       "      <td>2</td>\n",
       "      <td>1</td>\n",
       "      <td>2</td>\n",
       "      <td>2</td>\n",
       "      <td>1</td>\n",
       "      <td>2</td>\n",
       "      <td>NO</td>\n",
       "    </tr>\n",
       "    <tr>\n",
       "      <th>3</th>\n",
       "      <td>M</td>\n",
       "      <td>63</td>\n",
       "      <td>2</td>\n",
       "      <td>2</td>\n",
       "      <td>2</td>\n",
       "      <td>1</td>\n",
       "      <td>1</td>\n",
       "      <td>1</td>\n",
       "      <td>1</td>\n",
       "      <td>1</td>\n",
       "      <td>2</td>\n",
       "      <td>1</td>\n",
       "      <td>1</td>\n",
       "      <td>2</td>\n",
       "      <td>2</td>\n",
       "      <td>NO</td>\n",
       "    </tr>\n",
       "    <tr>\n",
       "      <th>4</th>\n",
       "      <td>F</td>\n",
       "      <td>63</td>\n",
       "      <td>1</td>\n",
       "      <td>2</td>\n",
       "      <td>1</td>\n",
       "      <td>1</td>\n",
       "      <td>1</td>\n",
       "      <td>1</td>\n",
       "      <td>1</td>\n",
       "      <td>2</td>\n",
       "      <td>1</td>\n",
       "      <td>2</td>\n",
       "      <td>2</td>\n",
       "      <td>1</td>\n",
       "      <td>1</td>\n",
       "      <td>NO</td>\n",
       "    </tr>\n",
       "  </tbody>\n",
       "</table>\n",
       "</div>"
      ],
      "text/plain": [
       "  GENDER  AGE  SMOKING  YELLOW_FINGERS  ANXIETY  PEER_PRESSURE  \\\n",
       "0      M   69        1               2        2              1   \n",
       "1      M   74        2               1        1              1   \n",
       "2      F   59        1               1        1              2   \n",
       "3      M   63        2               2        2              1   \n",
       "4      F   63        1               2        1              1   \n",
       "\n",
       "   CHRONIC DISEASE  FATIGUE   ALLERGY   WHEEZING  ALCOHOL CONSUMING  COUGHING  \\\n",
       "0                1         2         1         2                  2         2   \n",
       "1                2         2         2         1                  1         1   \n",
       "2                1         2         1         2                  1         2   \n",
       "3                1         1         1         1                  2         1   \n",
       "4                1         1         1         2                  1         2   \n",
       "\n",
       "   SHORTNESS OF BREATH  SWALLOWING DIFFICULTY  CHEST PAIN LUNG_CANCER  \n",
       "0                    2                      2           2         YES  \n",
       "1                    2                      2           2         YES  \n",
       "2                    2                      1           2          NO  \n",
       "3                    1                      2           2          NO  \n",
       "4                    2                      1           1          NO  "
      ]
     },
     "execution_count": 4,
     "metadata": {},
     "output_type": "execute_result"
    }
   ],
   "source": [
    "df = pd.read_csv(\"Lung.csv\")\n",
    "\n",
    "df.head()"
   ]
  },
  {
   "cell_type": "markdown",
   "id": "7749ac75",
   "metadata": {
    "id": "7749ac75"
   },
   "source": [
    "# 2. Initial Data Exploration"
   ]
  },
  {
   "cell_type": "code",
   "execution_count": 4,
   "id": "9bcaf422",
   "metadata": {
    "colab": {
     "base_uri": "https://localhost:8080/",
     "height": 274
    },
    "id": "9bcaf422",
    "outputId": "adf80676-af43-441d-a362-e9c4f68f664f"
   },
   "outputs": [
    {
     "name": "stdout",
     "output_type": "stream",
     "text": [
      "The dataset contains 309 rows and 16 columns \n",
      "\n"
     ]
    },
    {
     "data": {
      "text/html": [
       "<div>\n",
       "<style scoped>\n",
       "    .dataframe tbody tr th:only-of-type {\n",
       "        vertical-align: middle;\n",
       "    }\n",
       "\n",
       "    .dataframe tbody tr th {\n",
       "        vertical-align: top;\n",
       "    }\n",
       "\n",
       "    .dataframe thead th {\n",
       "        text-align: right;\n",
       "    }\n",
       "</style>\n",
       "<table border=\"1\" class=\"dataframe\">\n",
       "  <thead>\n",
       "    <tr style=\"text-align: right;\">\n",
       "      <th></th>\n",
       "      <th>GENDER</th>\n",
       "      <th>AGE</th>\n",
       "      <th>SMOKING</th>\n",
       "      <th>YELLOW_FINGERS</th>\n",
       "      <th>ANXIETY</th>\n",
       "      <th>PEER_PRESSURE</th>\n",
       "      <th>CHRONIC DISEASE</th>\n",
       "      <th>FATIGUE</th>\n",
       "      <th>ALLERGY</th>\n",
       "      <th>WHEEZING</th>\n",
       "      <th>ALCOHOL CONSUMING</th>\n",
       "      <th>COUGHING</th>\n",
       "      <th>SHORTNESS OF BREATH</th>\n",
       "      <th>SWALLOWING DIFFICULTY</th>\n",
       "      <th>CHEST PAIN</th>\n",
       "      <th>LUNG_CANCER</th>\n",
       "    </tr>\n",
       "  </thead>\n",
       "  <tbody>\n",
       "    <tr>\n",
       "      <th>0</th>\n",
       "      <td>M</td>\n",
       "      <td>69</td>\n",
       "      <td>1</td>\n",
       "      <td>2</td>\n",
       "      <td>2</td>\n",
       "      <td>1</td>\n",
       "      <td>1</td>\n",
       "      <td>2</td>\n",
       "      <td>1</td>\n",
       "      <td>2</td>\n",
       "      <td>2</td>\n",
       "      <td>2</td>\n",
       "      <td>2</td>\n",
       "      <td>2</td>\n",
       "      <td>2</td>\n",
       "      <td>YES</td>\n",
       "    </tr>\n",
       "    <tr>\n",
       "      <th>1</th>\n",
       "      <td>M</td>\n",
       "      <td>74</td>\n",
       "      <td>2</td>\n",
       "      <td>1</td>\n",
       "      <td>1</td>\n",
       "      <td>1</td>\n",
       "      <td>2</td>\n",
       "      <td>2</td>\n",
       "      <td>2</td>\n",
       "      <td>1</td>\n",
       "      <td>1</td>\n",
       "      <td>1</td>\n",
       "      <td>2</td>\n",
       "      <td>2</td>\n",
       "      <td>2</td>\n",
       "      <td>YES</td>\n",
       "    </tr>\n",
       "    <tr>\n",
       "      <th>2</th>\n",
       "      <td>F</td>\n",
       "      <td>59</td>\n",
       "      <td>1</td>\n",
       "      <td>1</td>\n",
       "      <td>1</td>\n",
       "      <td>2</td>\n",
       "      <td>1</td>\n",
       "      <td>2</td>\n",
       "      <td>1</td>\n",
       "      <td>2</td>\n",
       "      <td>1</td>\n",
       "      <td>2</td>\n",
       "      <td>2</td>\n",
       "      <td>1</td>\n",
       "      <td>2</td>\n",
       "      <td>NO</td>\n",
       "    </tr>\n",
       "    <tr>\n",
       "      <th>3</th>\n",
       "      <td>M</td>\n",
       "      <td>63</td>\n",
       "      <td>2</td>\n",
       "      <td>2</td>\n",
       "      <td>2</td>\n",
       "      <td>1</td>\n",
       "      <td>1</td>\n",
       "      <td>1</td>\n",
       "      <td>1</td>\n",
       "      <td>1</td>\n",
       "      <td>2</td>\n",
       "      <td>1</td>\n",
       "      <td>1</td>\n",
       "      <td>2</td>\n",
       "      <td>2</td>\n",
       "      <td>NO</td>\n",
       "    </tr>\n",
       "  </tbody>\n",
       "</table>\n",
       "</div>"
      ],
      "text/plain": [
       "  GENDER  AGE  SMOKING  YELLOW_FINGERS  ANXIETY  PEER_PRESSURE  \\\n",
       "0      M   69        1               2        2              1   \n",
       "1      M   74        2               1        1              1   \n",
       "2      F   59        1               1        1              2   \n",
       "3      M   63        2               2        2              1   \n",
       "\n",
       "   CHRONIC DISEASE  FATIGUE   ALLERGY   WHEEZING  ALCOHOL CONSUMING  COUGHING  \\\n",
       "0                1         2         1         2                  2         2   \n",
       "1                2         2         2         1                  1         1   \n",
       "2                1         2         1         2                  1         2   \n",
       "3                1         1         1         1                  2         1   \n",
       "\n",
       "   SHORTNESS OF BREATH  SWALLOWING DIFFICULTY  CHEST PAIN LUNG_CANCER  \n",
       "0                    2                      2           2         YES  \n",
       "1                    2                      2           2         YES  \n",
       "2                    2                      1           2          NO  \n",
       "3                    1                      2           2          NO  "
      ]
     },
     "execution_count": 4,
     "metadata": {},
     "output_type": "execute_result"
    }
   ],
   "source": [
    "#print the dimension of the dataset\n",
    "print(\"The dataset contains %s rows and %s columns \\n\"%(df.shape[0],df.shape[1]))\n",
    "\n",
    "# show the first 10 rows using dataframe.head() method\n",
    "df.head(4)"
   ]
  },
  {
   "cell_type": "code",
   "execution_count": 5,
   "id": "3806236d",
   "metadata": {},
   "outputs": [
    {
     "name": "stdout",
     "output_type": "stream",
     "text": [
      "<class 'pandas.core.frame.DataFrame'>\n",
      "RangeIndex: 309 entries, 0 to 308\n",
      "Data columns (total 16 columns):\n",
      " #   Column                 Non-Null Count  Dtype \n",
      "---  ------                 --------------  ----- \n",
      " 0   GENDER                 309 non-null    object\n",
      " 1   AGE                    309 non-null    int64 \n",
      " 2   SMOKING                309 non-null    int64 \n",
      " 3   YELLOW_FINGERS         309 non-null    int64 \n",
      " 4   ANXIETY                309 non-null    int64 \n",
      " 5   PEER_PRESSURE          309 non-null    int64 \n",
      " 6   CHRONIC DISEASE        309 non-null    int64 \n",
      " 7   FATIGUE                309 non-null    int64 \n",
      " 8   ALLERGY                309 non-null    int64 \n",
      " 9   WHEEZING               309 non-null    int64 \n",
      " 10  ALCOHOL CONSUMING      309 non-null    int64 \n",
      " 11  COUGHING               309 non-null    int64 \n",
      " 12  SHORTNESS OF BREATH    309 non-null    int64 \n",
      " 13  SWALLOWING DIFFICULTY  309 non-null    int64 \n",
      " 14  CHEST PAIN             309 non-null    int64 \n",
      " 15  LUNG_CANCER            309 non-null    object\n",
      "dtypes: int64(14), object(2)\n",
      "memory usage: 38.8+ KB\n"
     ]
    }
   ],
   "source": [
    "df.info()"
   ]
  },
  {
   "cell_type": "code",
   "execution_count": 11,
   "id": "6cbee593",
   "metadata": {
    "colab": {
     "base_uri": "https://localhost:8080/"
    },
    "id": "6cbee593",
    "outputId": "3209f07d-f8d5-4a37-85df-828205961f9d"
   },
   "outputs": [
    {
     "name": "stdout",
     "output_type": "stream",
     "text": [
      "GENDER                   object\n",
      "AGE                       int64\n",
      "SMOKING                   int64\n",
      "YELLOW_FINGERS            int64\n",
      "ANXIETY                   int64\n",
      "PEER_PRESSURE             int64\n",
      "CHRONIC DISEASE           int64\n",
      "FATIGUE                   int64\n",
      "ALLERGY                   int64\n",
      "WHEEZING                  int64\n",
      "ALCOHOL CONSUMING         int64\n",
      "COUGHING                  int64\n",
      "SHORTNESS OF BREATH       int64\n",
      "SWALLOWING DIFFICULTY     int64\n",
      "CHEST PAIN                int64\n",
      "LUNG_CANCER              object\n",
      "dtype: object\n"
     ]
    }
   ],
   "source": [
    "#get the data type of each column \n",
    "D_types = df.dtypes\n",
    "\n",
    "print(D_types)"
   ]
  },
  {
   "cell_type": "markdown",
   "id": "55237265",
   "metadata": {
    "id": "55237265"
   },
   "source": [
    "Datatype check above would help in deciding the best exploration approach to use on each variable."
   ]
  },
  {
   "cell_type": "code",
   "execution_count": 13,
   "id": "a447b6ac",
   "metadata": {
    "colab": {
     "base_uri": "https://localhost:8080/"
    },
    "id": "a447b6ac",
    "outputId": "1a42fd51-8d33-40e0-93f6-6ad79b09299f"
   },
   "outputs": [
    {
     "name": "stdout",
     "output_type": "stream",
     "text": [
      "GENDER                   0\n",
      "AGE                      0\n",
      "SMOKING                  0\n",
      "YELLOW_FINGERS           0\n",
      "ANXIETY                  0\n",
      "PEER_PRESSURE            0\n",
      "CHRONIC DISEASE          0\n",
      "FATIGUE                  0\n",
      "ALLERGY                  0\n",
      "WHEEZING                 0\n",
      "ALCOHOL CONSUMING        0\n",
      "COUGHING                 0\n",
      "SHORTNESS OF BREATH      0\n",
      "SWALLOWING DIFFICULTY    0\n",
      "CHEST PAIN               0\n",
      "LUNG_CANCER              0\n",
      "dtype: int64\n"
     ]
    }
   ],
   "source": [
    "#get the number of missing values in each column of the dataset\n",
    "missing_count = df.isna().sum().sort_values(ascending=False)\n",
    "print(missing_count)"
   ]
  },
  {
   "cell_type": "code",
   "execution_count": 8,
   "id": "fda37316",
   "metadata": {
    "colab": {
     "base_uri": "https://localhost:8080/"
    },
    "id": "fda37316",
    "outputId": "6db75841-328f-4998-edea-4b674190a83f"
   },
   "outputs": [
    {
     "name": "stdout",
     "output_type": "stream",
     "text": [
      "GENDER                    2\n",
      "AGE                      39\n",
      "SMOKING                   2\n",
      "YELLOW_FINGERS            2\n",
      "ANXIETY                   2\n",
      "PEER_PRESSURE             2\n",
      "CHRONIC DISEASE           2\n",
      "FATIGUE                   2\n",
      "ALLERGY                   2\n",
      "WHEEZING                  2\n",
      "ALCOHOL CONSUMING         2\n",
      "COUGHING                  2\n",
      "SHORTNESS OF BREATH       2\n",
      "SWALLOWING DIFFICULTY     2\n",
      "CHEST PAIN                2\n",
      "LUNG_CANCER               2\n",
      "dtype: int64\n"
     ]
    }
   ],
   "source": [
    "#get the number of unique values in each column \n",
    "n_unique = df.nunique()\n",
    "print(n_unique)"
   ]
  },
  {
   "cell_type": "markdown",
   "id": "a00bcdf6",
   "metadata": {
    "id": "a00bcdf6"
   },
   "source": [
    "<p>\n",
    "\n",
    "**Data Types** <br>\n",
    "* From the result shown above, it is clear to see that the data type of all variables/columns is <code>integer</code> which is appropriate for our model to use. However, the `GENDER` and the `LUNG_CANCER` variables are categorical and need to be encoded.\n",
    "\n",
    "**Missing Values**<br>\n",
    "* As reported, it could be seen that there are no missing values.\n",
    "\n",
    "**no_uniques**<br>\n",
    "* All variables are categorical/discretized quantitative variables except `AGE` which is a quantitative variable.\n",
    "* All categorical/discretized quantitative variables have two levels including the target variable\n",
    "</p>\n"
   ]
  },
  {
   "cell_type": "markdown",
   "id": "b3aa3644",
   "metadata": {
    "id": "b3aa3644"
   },
   "source": [
    "Now, let's see the **basic descriptive statistics** of the data:"
   ]
  },
  {
   "cell_type": "code",
   "execution_count": 15,
   "id": "fc5a1e46",
   "metadata": {
    "colab": {
     "base_uri": "https://localhost:8080/",
     "height": 739
    },
    "id": "fc5a1e46",
    "outputId": "4cc8348e-6283-4e95-f557-ea7c389ab4ba"
   },
   "outputs": [
    {
     "data": {
      "text/html": [
       "<div>\n",
       "<style scoped>\n",
       "    .dataframe tbody tr th:only-of-type {\n",
       "        vertical-align: middle;\n",
       "    }\n",
       "\n",
       "    .dataframe tbody tr th {\n",
       "        vertical-align: top;\n",
       "    }\n",
       "\n",
       "    .dataframe thead th {\n",
       "        text-align: right;\n",
       "    }\n",
       "</style>\n",
       "<table border=\"1\" class=\"dataframe\">\n",
       "  <thead>\n",
       "    <tr style=\"text-align: right;\">\n",
       "      <th></th>\n",
       "      <th>count</th>\n",
       "      <th>mean</th>\n",
       "      <th>std</th>\n",
       "      <th>min</th>\n",
       "      <th>25%</th>\n",
       "      <th>50%</th>\n",
       "      <th>75%</th>\n",
       "      <th>max</th>\n",
       "    </tr>\n",
       "  </thead>\n",
       "  <tbody>\n",
       "    <tr>\n",
       "      <th>AGE</th>\n",
       "      <td>309.0</td>\n",
       "      <td>62.673139</td>\n",
       "      <td>8.210301</td>\n",
       "      <td>21.0</td>\n",
       "      <td>57.0</td>\n",
       "      <td>62.0</td>\n",
       "      <td>69.0</td>\n",
       "      <td>87.0</td>\n",
       "    </tr>\n",
       "    <tr>\n",
       "      <th>SMOKING</th>\n",
       "      <td>309.0</td>\n",
       "      <td>1.563107</td>\n",
       "      <td>0.496806</td>\n",
       "      <td>1.0</td>\n",
       "      <td>1.0</td>\n",
       "      <td>2.0</td>\n",
       "      <td>2.0</td>\n",
       "      <td>2.0</td>\n",
       "    </tr>\n",
       "    <tr>\n",
       "      <th>YELLOW_FINGERS</th>\n",
       "      <td>309.0</td>\n",
       "      <td>1.569579</td>\n",
       "      <td>0.495938</td>\n",
       "      <td>1.0</td>\n",
       "      <td>1.0</td>\n",
       "      <td>2.0</td>\n",
       "      <td>2.0</td>\n",
       "      <td>2.0</td>\n",
       "    </tr>\n",
       "    <tr>\n",
       "      <th>ANXIETY</th>\n",
       "      <td>309.0</td>\n",
       "      <td>1.498382</td>\n",
       "      <td>0.500808</td>\n",
       "      <td>1.0</td>\n",
       "      <td>1.0</td>\n",
       "      <td>1.0</td>\n",
       "      <td>2.0</td>\n",
       "      <td>2.0</td>\n",
       "    </tr>\n",
       "    <tr>\n",
       "      <th>PEER_PRESSURE</th>\n",
       "      <td>309.0</td>\n",
       "      <td>1.501618</td>\n",
       "      <td>0.500808</td>\n",
       "      <td>1.0</td>\n",
       "      <td>1.0</td>\n",
       "      <td>2.0</td>\n",
       "      <td>2.0</td>\n",
       "      <td>2.0</td>\n",
       "    </tr>\n",
       "    <tr>\n",
       "      <th>CHRONIC DISEASE</th>\n",
       "      <td>309.0</td>\n",
       "      <td>1.504854</td>\n",
       "      <td>0.500787</td>\n",
       "      <td>1.0</td>\n",
       "      <td>1.0</td>\n",
       "      <td>2.0</td>\n",
       "      <td>2.0</td>\n",
       "      <td>2.0</td>\n",
       "    </tr>\n",
       "    <tr>\n",
       "      <th>FATIGUE</th>\n",
       "      <td>309.0</td>\n",
       "      <td>1.673139</td>\n",
       "      <td>0.469827</td>\n",
       "      <td>1.0</td>\n",
       "      <td>1.0</td>\n",
       "      <td>2.0</td>\n",
       "      <td>2.0</td>\n",
       "      <td>2.0</td>\n",
       "    </tr>\n",
       "    <tr>\n",
       "      <th>ALLERGY</th>\n",
       "      <td>309.0</td>\n",
       "      <td>1.556634</td>\n",
       "      <td>0.497588</td>\n",
       "      <td>1.0</td>\n",
       "      <td>1.0</td>\n",
       "      <td>2.0</td>\n",
       "      <td>2.0</td>\n",
       "      <td>2.0</td>\n",
       "    </tr>\n",
       "    <tr>\n",
       "      <th>WHEEZING</th>\n",
       "      <td>309.0</td>\n",
       "      <td>1.556634</td>\n",
       "      <td>0.497588</td>\n",
       "      <td>1.0</td>\n",
       "      <td>1.0</td>\n",
       "      <td>2.0</td>\n",
       "      <td>2.0</td>\n",
       "      <td>2.0</td>\n",
       "    </tr>\n",
       "    <tr>\n",
       "      <th>ALCOHOL CONSUMING</th>\n",
       "      <td>309.0</td>\n",
       "      <td>1.556634</td>\n",
       "      <td>0.497588</td>\n",
       "      <td>1.0</td>\n",
       "      <td>1.0</td>\n",
       "      <td>2.0</td>\n",
       "      <td>2.0</td>\n",
       "      <td>2.0</td>\n",
       "    </tr>\n",
       "    <tr>\n",
       "      <th>COUGHING</th>\n",
       "      <td>309.0</td>\n",
       "      <td>1.579288</td>\n",
       "      <td>0.494474</td>\n",
       "      <td>1.0</td>\n",
       "      <td>1.0</td>\n",
       "      <td>2.0</td>\n",
       "      <td>2.0</td>\n",
       "      <td>2.0</td>\n",
       "    </tr>\n",
       "    <tr>\n",
       "      <th>SHORTNESS OF BREATH</th>\n",
       "      <td>309.0</td>\n",
       "      <td>1.640777</td>\n",
       "      <td>0.480551</td>\n",
       "      <td>1.0</td>\n",
       "      <td>1.0</td>\n",
       "      <td>2.0</td>\n",
       "      <td>2.0</td>\n",
       "      <td>2.0</td>\n",
       "    </tr>\n",
       "    <tr>\n",
       "      <th>SWALLOWING DIFFICULTY</th>\n",
       "      <td>309.0</td>\n",
       "      <td>1.469256</td>\n",
       "      <td>0.499863</td>\n",
       "      <td>1.0</td>\n",
       "      <td>1.0</td>\n",
       "      <td>1.0</td>\n",
       "      <td>2.0</td>\n",
       "      <td>2.0</td>\n",
       "    </tr>\n",
       "    <tr>\n",
       "      <th>CHEST PAIN</th>\n",
       "      <td>309.0</td>\n",
       "      <td>1.556634</td>\n",
       "      <td>0.497588</td>\n",
       "      <td>1.0</td>\n",
       "      <td>1.0</td>\n",
       "      <td>2.0</td>\n",
       "      <td>2.0</td>\n",
       "      <td>2.0</td>\n",
       "    </tr>\n",
       "  </tbody>\n",
       "</table>\n",
       "</div>"
      ],
      "text/plain": [
       "                       count       mean       std   min   25%   50%   75%  \\\n",
       "AGE                    309.0  62.673139  8.210301  21.0  57.0  62.0  69.0   \n",
       "SMOKING                309.0   1.563107  0.496806   1.0   1.0   2.0   2.0   \n",
       "YELLOW_FINGERS         309.0   1.569579  0.495938   1.0   1.0   2.0   2.0   \n",
       "ANXIETY                309.0   1.498382  0.500808   1.0   1.0   1.0   2.0   \n",
       "PEER_PRESSURE          309.0   1.501618  0.500808   1.0   1.0   2.0   2.0   \n",
       "CHRONIC DISEASE        309.0   1.504854  0.500787   1.0   1.0   2.0   2.0   \n",
       "FATIGUE                309.0   1.673139  0.469827   1.0   1.0   2.0   2.0   \n",
       "ALLERGY                309.0   1.556634  0.497588   1.0   1.0   2.0   2.0   \n",
       "WHEEZING               309.0   1.556634  0.497588   1.0   1.0   2.0   2.0   \n",
       "ALCOHOL CONSUMING      309.0   1.556634  0.497588   1.0   1.0   2.0   2.0   \n",
       "COUGHING               309.0   1.579288  0.494474   1.0   1.0   2.0   2.0   \n",
       "SHORTNESS OF BREATH    309.0   1.640777  0.480551   1.0   1.0   2.0   2.0   \n",
       "SWALLOWING DIFFICULTY  309.0   1.469256  0.499863   1.0   1.0   1.0   2.0   \n",
       "CHEST PAIN             309.0   1.556634  0.497588   1.0   1.0   2.0   2.0   \n",
       "\n",
       "                        max  \n",
       "AGE                    87.0  \n",
       "SMOKING                 2.0  \n",
       "YELLOW_FINGERS          2.0  \n",
       "ANXIETY                 2.0  \n",
       "PEER_PRESSURE           2.0  \n",
       "CHRONIC DISEASE         2.0  \n",
       "FATIGUE                 2.0  \n",
       "ALLERGY                 2.0  \n",
       "WHEEZING                2.0  \n",
       "ALCOHOL CONSUMING       2.0  \n",
       "COUGHING                2.0  \n",
       "SHORTNESS OF BREATH     2.0  \n",
       "SWALLOWING DIFFICULTY   2.0  \n",
       "CHEST PAIN              2.0  "
      ]
     },
     "execution_count": 15,
     "metadata": {},
     "output_type": "execute_result"
    }
   ],
   "source": [
    "df.describe().T  #T transposes the resulting dataframe"
   ]
  },
  {
   "cell_type": "markdown",
   "id": "b45def24",
   "metadata": {
    "id": "b45def24"
   },
   "source": [
    "<p>\n",
    "This shows the statistical summary of all the columns.<br>\n",
    "\n",
    "The **count** gives the total number of non-missing values (as seen from the earlier report, there were no missing value thereby, it returned 309 for all columns)\n",
    "\n",
    "The **min** presents the minimum value in each column . \n",
    "\n",
    "**percentile (25%, 50%,75%)** is a score below which a given percentage of scores in its frequency distribution fall or a score at or below which a given percentage fall. For example, the 25th percentile for `AGE` was 57, which infers that 25 percentage of the respondents were 57 years old or less. "
   ]
  },
  {
   "cell_type": "markdown",
   "id": "00b27d4c",
   "metadata": {
    "id": "00b27d4c"
   },
   "source": [
    "# 3. Exploratory Data Analysis"
   ]
  },
  {
   "cell_type": "markdown",
   "id": "36242914",
   "metadata": {
    "id": "36242914"
   },
   "source": [
    "## Univariate exploration"
   ]
  },
  {
   "cell_type": "markdown",
   "id": "8c835a4a",
   "metadata": {
    "id": "8c835a4a"
   },
   "source": [
    "### Target/Class distribution"
   ]
  },
  {
   "cell_type": "code",
   "execution_count": 10,
   "id": "1ac0553f",
   "metadata": {
    "colab": {
     "base_uri": "https://localhost:8080/",
     "height": 441
    },
    "id": "1ac0553f",
    "outputId": "4ec1f30d-167a-492d-8054-5310007f75dc"
   },
   "outputs": [
    {
     "data": {
      "image/png": "[encoded data removed]",
      "text/plain": [
       "<Figure size 576x432 with 1 Axes>"
      ]
     },
     "metadata": {
      "needs_background": "light"
     },
     "output_type": "display_data"
    }
   ],
   "source": [
    "#plot the distribution of the target variable\n",
    "plt.figure(figsize=(8,6))\n",
    "total = float(len(df))\n",
    "ax = sns.countplot(x='LUNG_CANCER', data=df)\n",
    "plt.title(\"Target variable Class Distribution\")\n",
    "plt.xlabel(\"Lung Cancer Status\")\n",
    "for p in ax.patches:\n",
    "    percentage = '{:.1f}%'.format(100 * p.get_height()/total)\n",
    "    x = (p.get_x() + p.get_width())/1.5\n",
    "    y = p.get_height()\n",
    "    ax.annotate(percentage, (x, y),ha='right')\n",
    "plt.tight_layout()\n",
    "\n",
    "plt.savefig(\"class_distr.jpeg\")\n",
    "plt.show()"
   ]
  },
  {
   "cell_type": "markdown",
   "id": "5f1f1ea9",
   "metadata": {
    "id": "5f1f1ea9"
   },
   "source": [
    "It could be seen that the class distribution isn't uniform (the frequency of class \"YES\" is greatly greater than class \"NO\"). There are approximately seven times the record of patients with lung cancer than those without. Hence, we have an **imbalanced dataset**. This is going to be an issue for our machine learning model and so, it is going to be treated/handled later on using SMOTE algorithm.\n",
    "<br>\n",
    "<br>\n",
    "<br>\n",
    "Now, let's ssee the distribution for other variables/potential features"
   ]
  },
  {
   "cell_type": "code",
   "execution_count": 11,
   "id": "ce2fc80c",
   "metadata": {
    "colab": {
     "base_uri": "https://localhost:8080/",
     "height": 1000
    },
    "id": "ce2fc80c",
    "outputId": "abd534a8-d2bf-456b-c673-7b95a1411580"
   },
   "outputs": [
    {
     "data": {
      "image/png": "[encoded data removed]",
      "text/plain": [
       "<Figure size 1440x1440 with 15 Axes>"
      ]
     },
     "metadata": {
      "needs_background": "light"
     },
     "output_type": "display_data"
    }
   ],
   "source": [
    "fig = plt.figure(figsize=(20,20))\n",
    "\n",
    "for i, col in enumerate(df.drop(columns=\"LUNG_CANCER\").columns.to_list()):\n",
    "    ax1 = fig.add_subplot(5, 3, i+1)\n",
    "    sns.countplot(x=col, data=df, ax=ax1)\n",
    "plt.tight_layout()\n",
    "\n",
    "fig.savefig('univariate_plots.jpeg')\n",
    "plt.show()"
   ]
  },
  {
   "cell_type": "markdown",
   "id": "c38032b8",
   "metadata": {
    "id": "c38032b8"
   },
   "source": [
    "The AGE variable which is the only quantitative variable has a guassian distribution which is of better advanatge to our model"
   ]
  },
  {
   "cell_type": "markdown",
   "id": "1e3275de",
   "metadata": {
    "id": "1e3275de"
   },
   "source": [
    "## Bi-variate exploration\n",
    "\n",
    "Plots and inferences would be made from the proportion/ratio of the target variable among the categories of all other variables:"
   ]
  },
  {
   "cell_type": "code",
   "execution_count": 12,
   "id": "8a9d9da3",
   "metadata": {
    "colab": {
     "base_uri": "https://localhost:8080/",
     "height": 1000
    },
    "id": "8a9d9da3",
    "outputId": "8539f677-c86e-4500-bfa8-bfac0e381906"
   },
   "outputs": [
    {
     "data": {
      "image/png": "[encoded data removed]",
      "text/plain": [
       "<Figure size 1440x1440 with 15 Axes>"
      ]
     },
     "metadata": {
      "needs_background": "light"
     },
     "output_type": "display_data"
    }
   ],
   "source": [
    "fig = plt.figure(figsize=(20,20))\n",
    "\n",
    "for i, col in enumerate(df.drop(columns=\"LUNG_CANCER\").columns.to_list()):\n",
    "    ax1 = fig.add_subplot(5, 3, i+1)\n",
    "    x, y, hue = col, \"proportion\", \"LUNG_CANCER\"\n",
    "    (df[x]\n",
    "     .groupby(df[hue])\n",
    "     .value_counts(normalize=True)\n",
    "     .rename(y)\n",
    "     .reset_index()\n",
    "     .pipe((sns.barplot, \"data\"), x=x, y=y, hue=hue, ax=ax1))\n",
    "plt.title(\"Proportion plots for independent variables against dependent variable \")\n",
    "plt.tight_layout()\n",
    "fig.savefig('bivariate.jpeg')\n",
    "plt.show()"
   ]
  },
  {
   "cell_type": "markdown",
   "id": "b0dc09b6",
   "metadata": {
    "id": "b0dc09b6"
   },
   "source": [
    "All variables appeared to have variations in the distribution of the target variable among their categories e.g. proportion plot for `GENDER` against `LUNG_CANCER` above showed lung cancer to be more prevalent among Men than Women.\n",
    "<br>\n",
    "<br>\n",
    "<br>\n",
    "Now let’s test for multicollinearity using Pearson Correlation:"
   ]
  },
  {
   "cell_type": "code",
   "execution_count": 13,
   "id": "4ec316cf",
   "metadata": {
    "colab": {
     "base_uri": "https://localhost:8080/",
     "height": 1000
    },
    "id": "4ec316cf",
    "outputId": "0293bffa-aacf-4565-a734-e82c34327882"
   },
   "outputs": [
    {
     "data": {
      "image/png": "[encoded data removed]",
      "text/plain": [
       "<Figure size 1440x1296 with 2 Axes>"
      ]
     },
     "metadata": {
      "needs_background": "light"
     },
     "output_type": "display_data"
    }
   ],
   "source": [
    "# correlation plot\n",
    "plt.figure(figsize = [20, 18])\n",
    "sns.heatmap(df.corr(), annot = True, fmt = '.3f',\n",
    "           cmap = 'vlag_r')\n",
    "plt.tight_layout()\n",
    "plt.savefig('multi.jpeg') # save the plot\n",
    "plt.show()"
   ]
  },
  {
   "cell_type": "markdown",
   "id": "9b82f9e3",
   "metadata": {
    "id": "9b82f9e3"
   },
   "source": [
    "There are no multicollinearity"
   ]
  },
  {
   "cell_type": "markdown",
   "id": "45eb5866",
   "metadata": {
    "id": "45eb5866"
   },
   "source": [
    "## NB: \n",
    "This round of exploration is not absolutely thorough; the point is to start off on the right foot\n",
    "and quickly gain insights that will help us get a first reasonably good prototype. But this is an iterative\n",
    "process: once we get a prototype up and running, we can analyze its output to gain more insights and\n",
    "come back to this exploration step."
   ]
  },
  {
   "cell_type": "markdown",
   "id": "5dd1d046",
   "metadata": {
    "id": "5dd1d046"
   },
   "source": [
    "# 4. Data Partitioning\n",
    " This is necessary to have a set of data that will be used to evaluate our models to get the actual generalization score. \n",
    "To avoid a model that will be highly prone to overfitting: say we look at the test set, we may stumble upon some seemingly\n",
    "interesting pattern in the test data that leads us to select a particular kind of Machine Learning mode and when we estimate the generalization score using the test set, our prediction will be too optimistic and we will launch a system that will not perform as well as expected. This is called data snooping bias.\n",
    "\n",
    "Creating a test set is theoretically quite simple: just pick some instances randomly and ensured it is stratified (i.e equal ration of the target variable are assigned to the training and the test set). The test set is typically 20% of the\n",
    "dataset which are set aside:"
   ]
  },
  {
   "cell_type": "code",
   "execution_count": 19,
   "id": "c7019f49",
   "metadata": {
    "id": "c7019f49"
   },
   "outputs": [],
   "source": [
    "split = StratifiedShuffleSplit(n_splits=1, test_size=0.2, random_state=42)\n",
    "\n",
    "\n",
    "for train_index, test_index in split.split(df, df[\"LUNG_CANCER\"]):\n",
    "    strat_train_set = df.loc[train_index]\n",
    "    strat_test_set = df.loc[test_index]"
   ]
  },
  {
   "cell_type": "code",
   "execution_count": 20,
   "id": "0083435a",
   "metadata": {
    "colab": {
     "base_uri": "https://localhost:8080/"
    },
    "id": "0083435a",
    "outputId": "382cf866-3259-480d-8f65-d3aeec3e5999"
   },
   "outputs": [
    {
     "name": "stdout",
     "output_type": "stream",
     "text": [
      "General dataset:\n",
      " YES    270\n",
      "NO      39\n",
      "Name: LUNG_CANCER, dtype: int64\n",
      "\n",
      "strat_train_set:\n",
      " YES    216\n",
      "NO      31\n",
      "Name: LUNG_CANCER, dtype: int64\n",
      "\n",
      "strat_test_set:\n",
      " YES    54\n",
      "NO      8\n",
      "Name: LUNG_CANCER, dtype: int64\n"
     ]
    }
   ],
   "source": [
    "# check for the distribution of the classes among the sets\n",
    "print(\"General dataset:\\n\",df[\"LUNG_CANCER\"].value_counts())\n",
    "print(\"\\nstrat_train_set:\\n\",strat_train_set[\"LUNG_CANCER\"].value_counts())\n",
    "print(\"\\nstrat_test_set:\\n\",strat_test_set[\"LUNG_CANCER\"].value_counts())"
   ]
  },
  {
   "cell_type": "markdown",
   "id": "4f15e394",
   "metadata": {
    "id": "4f15e394"
   },
   "source": [
    "# 5. Data Cleaning and Preparation"
   ]
  },
  {
   "cell_type": "code",
   "execution_count": 21,
   "id": "d4acee4d",
   "metadata": {
    "colab": {
     "base_uri": "https://localhost:8080/"
    },
    "id": "d4acee4d",
    "outputId": "184cb59d-7de4-4392-bf49-326c254287a9"
   },
   "outputs": [
    {
     "data": {
      "text/html": [
       "<div>\n",
       "<style scoped>\n",
       "    .dataframe tbody tr th:only-of-type {\n",
       "        vertical-align: middle;\n",
       "    }\n",
       "\n",
       "    .dataframe tbody tr th {\n",
       "        vertical-align: top;\n",
       "    }\n",
       "\n",
       "    .dataframe thead th {\n",
       "        text-align: right;\n",
       "    }\n",
       "</style>\n",
       "<table border=\"1\" class=\"dataframe\">\n",
       "  <thead>\n",
       "    <tr style=\"text-align: right;\">\n",
       "      <th></th>\n",
       "      <th>GENDER</th>\n",
       "      <th>AGE</th>\n",
       "      <th>SMOKING</th>\n",
       "      <th>YELLOW_FINGERS</th>\n",
       "      <th>ANXIETY</th>\n",
       "      <th>PEER_PRESSURE</th>\n",
       "      <th>CHRONIC DISEASE</th>\n",
       "      <th>FATIGUE</th>\n",
       "      <th>ALLERGY</th>\n",
       "      <th>WHEEZING</th>\n",
       "      <th>ALCOHOL CONSUMING</th>\n",
       "      <th>COUGHING</th>\n",
       "      <th>SHORTNESS OF BREATH</th>\n",
       "      <th>SWALLOWING DIFFICULTY</th>\n",
       "      <th>CHEST PAIN</th>\n",
       "      <th>LUNG_CANCER</th>\n",
       "    </tr>\n",
       "  </thead>\n",
       "  <tbody>\n",
       "    <tr>\n",
       "      <th>26</th>\n",
       "      <td>F</td>\n",
       "      <td>61</td>\n",
       "      <td>2</td>\n",
       "      <td>2</td>\n",
       "      <td>2</td>\n",
       "      <td>1</td>\n",
       "      <td>1</td>\n",
       "      <td>2</td>\n",
       "      <td>2</td>\n",
       "      <td>1</td>\n",
       "      <td>2</td>\n",
       "      <td>1</td>\n",
       "      <td>2</td>\n",
       "      <td>2</td>\n",
       "      <td>2</td>\n",
       "      <td>YES</td>\n",
       "    </tr>\n",
       "    <tr>\n",
       "      <th>47</th>\n",
       "      <td>F</td>\n",
       "      <td>64</td>\n",
       "      <td>2</td>\n",
       "      <td>2</td>\n",
       "      <td>1</td>\n",
       "      <td>2</td>\n",
       "      <td>1</td>\n",
       "      <td>2</td>\n",
       "      <td>1</td>\n",
       "      <td>2</td>\n",
       "      <td>2</td>\n",
       "      <td>2</td>\n",
       "      <td>1</td>\n",
       "      <td>2</td>\n",
       "      <td>2</td>\n",
       "      <td>YES</td>\n",
       "    </tr>\n",
       "    <tr>\n",
       "      <th>198</th>\n",
       "      <td>F</td>\n",
       "      <td>73</td>\n",
       "      <td>2</td>\n",
       "      <td>2</td>\n",
       "      <td>2</td>\n",
       "      <td>1</td>\n",
       "      <td>2</td>\n",
       "      <td>1</td>\n",
       "      <td>2</td>\n",
       "      <td>1</td>\n",
       "      <td>2</td>\n",
       "      <td>1</td>\n",
       "      <td>1</td>\n",
       "      <td>1</td>\n",
       "      <td>1</td>\n",
       "      <td>YES</td>\n",
       "    </tr>\n",
       "    <tr>\n",
       "      <th>90</th>\n",
       "      <td>F</td>\n",
       "      <td>62</td>\n",
       "      <td>1</td>\n",
       "      <td>1</td>\n",
       "      <td>1</td>\n",
       "      <td>2</td>\n",
       "      <td>1</td>\n",
       "      <td>1</td>\n",
       "      <td>1</td>\n",
       "      <td>2</td>\n",
       "      <td>2</td>\n",
       "      <td>1</td>\n",
       "      <td>1</td>\n",
       "      <td>2</td>\n",
       "      <td>2</td>\n",
       "      <td>YES</td>\n",
       "    </tr>\n",
       "  </tbody>\n",
       "</table>\n",
       "</div>"
      ],
      "text/plain": [
       "    GENDER  AGE  SMOKING  YELLOW_FINGERS  ANXIETY  PEER_PRESSURE  \\\n",
       "26       F   61        2               2        2              1   \n",
       "47       F   64        2               2        1              2   \n",
       "198      F   73        2               2        2              1   \n",
       "90       F   62        1               1        1              2   \n",
       "\n",
       "     CHRONIC DISEASE  FATIGUE   ALLERGY   WHEEZING  ALCOHOL CONSUMING  \\\n",
       "26                 1         2         2         1                  2   \n",
       "47                 1         2         1         2                  2   \n",
       "198                2         1         2         1                  2   \n",
       "90                 1         1         1         2                  2   \n",
       "\n",
       "     COUGHING  SHORTNESS OF BREATH  SWALLOWING DIFFICULTY  CHEST PAIN  \\\n",
       "26          1                    2                      2           2   \n",
       "47          2                    1                      2           2   \n",
       "198         1                    1                      1           1   \n",
       "90          1                    1                      2           2   \n",
       "\n",
       "    LUNG_CANCER  \n",
       "26          YES  \n",
       "47          YES  \n",
       "198         YES  \n",
       "90          YES  "
      ]
     },
     "execution_count": 21,
     "metadata": {},
     "output_type": "execute_result"
    }
   ],
   "source": [
    "# Let’s create a copy so we can play with it without harming the training set\n",
    "train_set = strat_train_set.copy()\n",
    "test_set = strat_test_set.copy()\n",
    "\n",
    "train_set.head(n=4)"
   ]
  },
  {
   "cell_type": "code",
   "execution_count": 22,
   "id": "9a4843c1-c476-40e2-bfab-16e2c6c4ff11",
   "metadata": {
    "colab": {
     "base_uri": "https://localhost:8080/"
    },
    "id": "9a4843c1-c476-40e2-bfab-16e2c6c4ff11",
    "outputId": "e48ae74e-ae45-4cfe-e35f-626fef3bf1e0"
   },
   "outputs": [
    {
     "name": "stdout",
     "output_type": "stream",
     "text": [
      "train_set: (247, 16)\n",
      "test_set: (62, 16)\n"
     ]
    }
   ],
   "source": [
    "print(\"train_set:\", train_set.shape)\n",
    "print(\"test_set:\", test_set.shape)"
   ]
  },
  {
   "cell_type": "markdown",
   "id": "ba84f1e6",
   "metadata": {
    "id": "ba84f1e6"
   },
   "source": [
    "### Categorical Feature Encoding"
   ]
  },
  {
   "cell_type": "code",
   "execution_count": 18,
   "id": "b48b9bdd",
   "metadata": {
    "id": "b48b9bdd"
   },
   "outputs": [],
   "source": [
    "# Encode labels in column 'GENDER'.\n",
    "train_set['GENDER'] = train_set['GENDER'].map({'M': 1, 'F': 0})\n",
    "test_set['GENDER'] = test_set['GENDER'].map({'M': 1, 'F': 0})\n",
    "\n",
    "# Encode labels in column 'LUNG_CANCER'.\n",
    "train_set['LUNG_CANCER'] = train_set['LUNG_CANCER'].map({'YES': 1, 'NO': 0})\n",
    "test_set['LUNG_CANCER'] = test_set['LUNG_CANCER'].map({'YES': 1, 'NO': 0})"
   ]
  },
  {
   "cell_type": "code",
   "execution_count": 19,
   "id": "af26bab1",
   "metadata": {},
   "outputs": [
    {
     "data": {
      "text/html": [
       "<div>\n",
       "<style scoped>\n",
       "    .dataframe tbody tr th:only-of-type {\n",
       "        vertical-align: middle;\n",
       "    }\n",
       "\n",
       "    .dataframe tbody tr th {\n",
       "        vertical-align: top;\n",
       "    }\n",
       "\n",
       "    .dataframe thead th {\n",
       "        text-align: right;\n",
       "    }\n",
       "</style>\n",
       "<table border=\"1\" class=\"dataframe\">\n",
       "  <thead>\n",
       "    <tr style=\"text-align: right;\">\n",
       "      <th></th>\n",
       "      <th>GENDER</th>\n",
       "      <th>AGE</th>\n",
       "      <th>SMOKING</th>\n",
       "      <th>YELLOW_FINGERS</th>\n",
       "      <th>ANXIETY</th>\n",
       "      <th>PEER_PRESSURE</th>\n",
       "      <th>CHRONIC DISEASE</th>\n",
       "      <th>FATIGUE</th>\n",
       "      <th>ALLERGY</th>\n",
       "      <th>WHEEZING</th>\n",
       "      <th>ALCOHOL CONSUMING</th>\n",
       "      <th>COUGHING</th>\n",
       "      <th>SHORTNESS OF BREATH</th>\n",
       "      <th>SWALLOWING DIFFICULTY</th>\n",
       "      <th>CHEST PAIN</th>\n",
       "      <th>LUNG_CANCER</th>\n",
       "    </tr>\n",
       "  </thead>\n",
       "  <tbody>\n",
       "    <tr>\n",
       "      <th>26</th>\n",
       "      <td>0</td>\n",
       "      <td>61</td>\n",
       "      <td>2</td>\n",
       "      <td>2</td>\n",
       "      <td>2</td>\n",
       "      <td>1</td>\n",
       "      <td>1</td>\n",
       "      <td>2</td>\n",
       "      <td>2</td>\n",
       "      <td>1</td>\n",
       "      <td>2</td>\n",
       "      <td>1</td>\n",
       "      <td>2</td>\n",
       "      <td>2</td>\n",
       "      <td>2</td>\n",
       "      <td>1</td>\n",
       "    </tr>\n",
       "    <tr>\n",
       "      <th>47</th>\n",
       "      <td>0</td>\n",
       "      <td>64</td>\n",
       "      <td>2</td>\n",
       "      <td>2</td>\n",
       "      <td>1</td>\n",
       "      <td>2</td>\n",
       "      <td>1</td>\n",
       "      <td>2</td>\n",
       "      <td>1</td>\n",
       "      <td>2</td>\n",
       "      <td>2</td>\n",
       "      <td>2</td>\n",
       "      <td>1</td>\n",
       "      <td>2</td>\n",
       "      <td>2</td>\n",
       "      <td>1</td>\n",
       "    </tr>\n",
       "    <tr>\n",
       "      <th>198</th>\n",
       "      <td>0</td>\n",
       "      <td>73</td>\n",
       "      <td>2</td>\n",
       "      <td>2</td>\n",
       "      <td>2</td>\n",
       "      <td>1</td>\n",
       "      <td>2</td>\n",
       "      <td>1</td>\n",
       "      <td>2</td>\n",
       "      <td>1</td>\n",
       "      <td>2</td>\n",
       "      <td>1</td>\n",
       "      <td>1</td>\n",
       "      <td>1</td>\n",
       "      <td>1</td>\n",
       "      <td>1</td>\n",
       "    </tr>\n",
       "    <tr>\n",
       "      <th>90</th>\n",
       "      <td>0</td>\n",
       "      <td>62</td>\n",
       "      <td>1</td>\n",
       "      <td>1</td>\n",
       "      <td>1</td>\n",
       "      <td>2</td>\n",
       "      <td>1</td>\n",
       "      <td>1</td>\n",
       "      <td>1</td>\n",
       "      <td>2</td>\n",
       "      <td>2</td>\n",
       "      <td>1</td>\n",
       "      <td>1</td>\n",
       "      <td>2</td>\n",
       "      <td>2</td>\n",
       "      <td>1</td>\n",
       "    </tr>\n",
       "  </tbody>\n",
       "</table>\n",
       "</div>"
      ],
      "text/plain": [
       "     GENDER  AGE  SMOKING  YELLOW_FINGERS  ANXIETY  PEER_PRESSURE  \\\n",
       "26        0   61        2               2        2              1   \n",
       "47        0   64        2               2        1              2   \n",
       "198       0   73        2               2        2              1   \n",
       "90        0   62        1               1        1              2   \n",
       "\n",
       "     CHRONIC DISEASE  FATIGUE   ALLERGY   WHEEZING  ALCOHOL CONSUMING  \\\n",
       "26                 1         2         2         1                  2   \n",
       "47                 1         2         1         2                  2   \n",
       "198                2         1         2         1                  2   \n",
       "90                 1         1         1         2                  2   \n",
       "\n",
       "     COUGHING  SHORTNESS OF BREATH  SWALLOWING DIFFICULTY  CHEST PAIN  \\\n",
       "26          1                    2                      2           2   \n",
       "47          2                    1                      2           2   \n",
       "198         1                    1                      1           1   \n",
       "90          1                    1                      2           2   \n",
       "\n",
       "     LUNG_CANCER  \n",
       "26             1  \n",
       "47             1  \n",
       "198            1  \n",
       "90             1  "
      ]
     },
     "execution_count": 19,
     "metadata": {},
     "output_type": "execute_result"
    }
   ],
   "source": [
    "train_set.head(n=4)"
   ]
  },
  {
   "cell_type": "code",
   "execution_count": 20,
   "id": "73d9a130",
   "metadata": {},
   "outputs": [
    {
     "name": "stdout",
     "output_type": "stream",
     "text": [
      "1    128\n",
      "0    119\n",
      "Name: GENDER, dtype: int64\n",
      "1    34\n",
      "0    28\n",
      "Name: GENDER, dtype: int64\n",
      "\n",
      "\n",
      "1    216\n",
      "0     31\n",
      "Name: LUNG_CANCER, dtype: int64\n",
      "1    54\n",
      "0     8\n",
      "Name: LUNG_CANCER, dtype: int64\n"
     ]
    }
   ],
   "source": [
    "print(train_set['GENDER'].value_counts())\n",
    "print(test_set['GENDER'].value_counts())\n",
    "print(\"\\n\")\n",
    "print(train_set['LUNG_CANCER'].value_counts())\n",
    "print(test_set['LUNG_CANCER'].value_counts())"
   ]
  },
  {
   "cell_type": "markdown",
   "id": "4973c502",
   "metadata": {
    "id": "4973c502"
   },
   "source": [
    "### Feature Selection and Assignment of Independent and Dependent Variables"
   ]
  },
  {
   "cell_type": "code",
   "execution_count": 25,
   "id": "ad346d48",
   "metadata": {
    "id": "ad346d48"
   },
   "outputs": [],
   "source": [
    "feature_cols = train_set.drop(columns=[\"LUNG_CANCER\"]).columns\n",
    "X_train = train_set[feature_cols] # independent variables\n",
    "y_train = train_set[\"LUNG_CANCER\"]   # dependent variables"
   ]
  },
  {
   "cell_type": "code",
   "execution_count": 22,
   "id": "n9igDxIQ9P1d",
   "metadata": {
    "id": "n9igDxIQ9P1d"
   },
   "outputs": [],
   "source": [
    "X_test = test_set[feature_cols]\n",
    "y_test = test_set[\"LUNG_CANCER\"]"
   ]
  },
  {
   "cell_type": "code",
   "execution_count": 23,
   "id": "d1f43d80",
   "metadata": {
    "colab": {
     "base_uri": "https://localhost:8080/"
    },
    "id": "d1f43d80",
    "outputId": "7ba613d7-4611-45a0-fb76-af9c6d1f7d85"
   },
   "outputs": [
    {
     "data": {
      "text/html": [
       "<div>\n",
       "<style scoped>\n",
       "    .dataframe tbody tr th:only-of-type {\n",
       "        vertical-align: middle;\n",
       "    }\n",
       "\n",
       "    .dataframe tbody tr th {\n",
       "        vertical-align: top;\n",
       "    }\n",
       "\n",
       "    .dataframe thead th {\n",
       "        text-align: right;\n",
       "    }\n",
       "</style>\n",
       "<table border=\"1\" class=\"dataframe\">\n",
       "  <thead>\n",
       "    <tr style=\"text-align: right;\">\n",
       "      <th></th>\n",
       "      <th>GENDER</th>\n",
       "      <th>AGE</th>\n",
       "      <th>SMOKING</th>\n",
       "      <th>YELLOW_FINGERS</th>\n",
       "      <th>ANXIETY</th>\n",
       "      <th>PEER_PRESSURE</th>\n",
       "      <th>CHRONIC DISEASE</th>\n",
       "      <th>FATIGUE</th>\n",
       "      <th>ALLERGY</th>\n",
       "      <th>WHEEZING</th>\n",
       "      <th>ALCOHOL CONSUMING</th>\n",
       "      <th>COUGHING</th>\n",
       "      <th>SHORTNESS OF BREATH</th>\n",
       "      <th>SWALLOWING DIFFICULTY</th>\n",
       "      <th>CHEST PAIN</th>\n",
       "    </tr>\n",
       "  </thead>\n",
       "  <tbody>\n",
       "    <tr>\n",
       "      <th>26</th>\n",
       "      <td>0</td>\n",
       "      <td>61</td>\n",
       "      <td>2</td>\n",
       "      <td>2</td>\n",
       "      <td>2</td>\n",
       "      <td>1</td>\n",
       "      <td>1</td>\n",
       "      <td>2</td>\n",
       "      <td>2</td>\n",
       "      <td>1</td>\n",
       "      <td>2</td>\n",
       "      <td>1</td>\n",
       "      <td>2</td>\n",
       "      <td>2</td>\n",
       "      <td>2</td>\n",
       "    </tr>\n",
       "    <tr>\n",
       "      <th>47</th>\n",
       "      <td>0</td>\n",
       "      <td>64</td>\n",
       "      <td>2</td>\n",
       "      <td>2</td>\n",
       "      <td>1</td>\n",
       "      <td>2</td>\n",
       "      <td>1</td>\n",
       "      <td>2</td>\n",
       "      <td>1</td>\n",
       "      <td>2</td>\n",
       "      <td>2</td>\n",
       "      <td>2</td>\n",
       "      <td>1</td>\n",
       "      <td>2</td>\n",
       "      <td>2</td>\n",
       "    </tr>\n",
       "    <tr>\n",
       "      <th>198</th>\n",
       "      <td>0</td>\n",
       "      <td>73</td>\n",
       "      <td>2</td>\n",
       "      <td>2</td>\n",
       "      <td>2</td>\n",
       "      <td>1</td>\n",
       "      <td>2</td>\n",
       "      <td>1</td>\n",
       "      <td>2</td>\n",
       "      <td>1</td>\n",
       "      <td>2</td>\n",
       "      <td>1</td>\n",
       "      <td>1</td>\n",
       "      <td>1</td>\n",
       "      <td>1</td>\n",
       "    </tr>\n",
       "    <tr>\n",
       "      <th>90</th>\n",
       "      <td>0</td>\n",
       "      <td>62</td>\n",
       "      <td>1</td>\n",
       "      <td>1</td>\n",
       "      <td>1</td>\n",
       "      <td>2</td>\n",
       "      <td>1</td>\n",
       "      <td>1</td>\n",
       "      <td>1</td>\n",
       "      <td>2</td>\n",
       "      <td>2</td>\n",
       "      <td>1</td>\n",
       "      <td>1</td>\n",
       "      <td>2</td>\n",
       "      <td>2</td>\n",
       "    </tr>\n",
       "    <tr>\n",
       "      <th>303</th>\n",
       "      <td>1</td>\n",
       "      <td>51</td>\n",
       "      <td>1</td>\n",
       "      <td>2</td>\n",
       "      <td>1</td>\n",
       "      <td>1</td>\n",
       "      <td>2</td>\n",
       "      <td>2</td>\n",
       "      <td>2</td>\n",
       "      <td>2</td>\n",
       "      <td>2</td>\n",
       "      <td>2</td>\n",
       "      <td>2</td>\n",
       "      <td>1</td>\n",
       "      <td>2</td>\n",
       "    </tr>\n",
       "    <tr>\n",
       "      <th>...</th>\n",
       "      <td>...</td>\n",
       "      <td>...</td>\n",
       "      <td>...</td>\n",
       "      <td>...</td>\n",
       "      <td>...</td>\n",
       "      <td>...</td>\n",
       "      <td>...</td>\n",
       "      <td>...</td>\n",
       "      <td>...</td>\n",
       "      <td>...</td>\n",
       "      <td>...</td>\n",
       "      <td>...</td>\n",
       "      <td>...</td>\n",
       "      <td>...</td>\n",
       "      <td>...</td>\n",
       "    </tr>\n",
       "    <tr>\n",
       "      <th>171</th>\n",
       "      <td>0</td>\n",
       "      <td>57</td>\n",
       "      <td>1</td>\n",
       "      <td>2</td>\n",
       "      <td>2</td>\n",
       "      <td>1</td>\n",
       "      <td>1</td>\n",
       "      <td>1</td>\n",
       "      <td>1</td>\n",
       "      <td>1</td>\n",
       "      <td>1</td>\n",
       "      <td>2</td>\n",
       "      <td>1</td>\n",
       "      <td>1</td>\n",
       "      <td>1</td>\n",
       "    </tr>\n",
       "    <tr>\n",
       "      <th>32</th>\n",
       "      <td>1</td>\n",
       "      <td>56</td>\n",
       "      <td>2</td>\n",
       "      <td>2</td>\n",
       "      <td>2</td>\n",
       "      <td>1</td>\n",
       "      <td>1</td>\n",
       "      <td>1</td>\n",
       "      <td>1</td>\n",
       "      <td>1</td>\n",
       "      <td>1</td>\n",
       "      <td>1</td>\n",
       "      <td>2</td>\n",
       "      <td>2</td>\n",
       "      <td>1</td>\n",
       "    </tr>\n",
       "    <tr>\n",
       "      <th>77</th>\n",
       "      <td>1</td>\n",
       "      <td>56</td>\n",
       "      <td>2</td>\n",
       "      <td>1</td>\n",
       "      <td>1</td>\n",
       "      <td>1</td>\n",
       "      <td>1</td>\n",
       "      <td>2</td>\n",
       "      <td>2</td>\n",
       "      <td>2</td>\n",
       "      <td>2</td>\n",
       "      <td>2</td>\n",
       "      <td>2</td>\n",
       "      <td>1</td>\n",
       "      <td>2</td>\n",
       "    </tr>\n",
       "    <tr>\n",
       "      <th>146</th>\n",
       "      <td>1</td>\n",
       "      <td>51</td>\n",
       "      <td>1</td>\n",
       "      <td>2</td>\n",
       "      <td>1</td>\n",
       "      <td>1</td>\n",
       "      <td>2</td>\n",
       "      <td>2</td>\n",
       "      <td>2</td>\n",
       "      <td>2</td>\n",
       "      <td>2</td>\n",
       "      <td>2</td>\n",
       "      <td>2</td>\n",
       "      <td>1</td>\n",
       "      <td>2</td>\n",
       "    </tr>\n",
       "    <tr>\n",
       "      <th>280</th>\n",
       "      <td>0</td>\n",
       "      <td>59</td>\n",
       "      <td>2</td>\n",
       "      <td>1</td>\n",
       "      <td>1</td>\n",
       "      <td>1</td>\n",
       "      <td>2</td>\n",
       "      <td>2</td>\n",
       "      <td>2</td>\n",
       "      <td>1</td>\n",
       "      <td>1</td>\n",
       "      <td>1</td>\n",
       "      <td>2</td>\n",
       "      <td>1</td>\n",
       "      <td>1</td>\n",
       "    </tr>\n",
       "  </tbody>\n",
       "</table>\n",
       "<p>247 rows × 15 columns</p>\n",
       "</div>"
      ],
      "text/plain": [
       "     GENDER  AGE  SMOKING  YELLOW_FINGERS  ANXIETY  PEER_PRESSURE  \\\n",
       "26        0   61        2               2        2              1   \n",
       "47        0   64        2               2        1              2   \n",
       "198       0   73        2               2        2              1   \n",
       "90        0   62        1               1        1              2   \n",
       "303       1   51        1               2        1              1   \n",
       "..      ...  ...      ...             ...      ...            ...   \n",
       "171       0   57        1               2        2              1   \n",
       "32        1   56        2               2        2              1   \n",
       "77        1   56        2               1        1              1   \n",
       "146       1   51        1               2        1              1   \n",
       "280       0   59        2               1        1              1   \n",
       "\n",
       "     CHRONIC DISEASE  FATIGUE   ALLERGY   WHEEZING  ALCOHOL CONSUMING  \\\n",
       "26                 1         2         2         1                  2   \n",
       "47                 1         2         1         2                  2   \n",
       "198                2         1         2         1                  2   \n",
       "90                 1         1         1         2                  2   \n",
       "303                2         2         2         2                  2   \n",
       "..               ...       ...       ...       ...                ...   \n",
       "171                1         1         1         1                  1   \n",
       "32                 1         1         1         1                  1   \n",
       "77                 1         2         2         2                  2   \n",
       "146                2         2         2         2                  2   \n",
       "280                2         2         2         1                  1   \n",
       "\n",
       "     COUGHING  SHORTNESS OF BREATH  SWALLOWING DIFFICULTY  CHEST PAIN  \n",
       "26          1                    2                      2           2  \n",
       "47          2                    1                      2           2  \n",
       "198         1                    1                      1           1  \n",
       "90          1                    1                      2           2  \n",
       "303         2                    2                      1           2  \n",
       "..        ...                  ...                    ...         ...  \n",
       "171         2                    1                      1           1  \n",
       "32          1                    2                      2           1  \n",
       "77          2                    2                      1           2  \n",
       "146         2                    2                      1           2  \n",
       "280         1                    2                      1           1  \n",
       "\n",
       "[247 rows x 15 columns]"
      ]
     },
     "execution_count": 23,
     "metadata": {},
     "output_type": "execute_result"
    }
   ],
   "source": [
    "X_train"
   ]
  },
  {
   "cell_type": "markdown",
   "id": "23e40d9a",
   "metadata": {
    "id": "23e40d9a"
   },
   "source": [
    "###  Feature scaling"
   ]
  },
  {
   "cell_type": "code",
   "execution_count": 24,
   "id": "a5b3e2fe",
   "metadata": {
    "id": "a5b3e2fe"
   },
   "outputs": [],
   "source": [
    "# make a copy of X_train\n",
    "X_train_scaled = X_train.copy()\n",
    "\n",
    "# make a copy of X_test\n",
    "X_test_scaled = X_test.copy()"
   ]
  },
  {
   "cell_type": "code",
   "execution_count": 25,
   "id": "80fb8450",
   "metadata": {
    "colab": {
     "base_uri": "https://localhost:8080/"
    },
    "id": "80fb8450",
    "outputId": "7d6fcf80-58a5-4ee2-b4e8-91895c13b84d"
   },
   "outputs": [
    {
     "data": {
      "text/html": [
       "<style>#sk-container-id-1 {color: black;background-color: white;}#sk-container-id-1 pre{padding: 0;}#sk-container-id-1 div.sk-toggleable {background-color: white;}#sk-container-id-1 label.sk-toggleable__label {cursor: pointer;display: block;width: 100%;margin-bottom: 0;padding: 0.3em;box-sizing: border-box;text-align: center;}#sk-container-id-1 label.sk-toggleable__label-arrow:before {content: \"▸\";float: left;margin-right: 0.25em;color: #696969;}#sk-container-id-1 label.sk-toggleable__label-arrow:hover:before {color: black;}#sk-container-id-1 div.sk-estimator:hover label.sk-toggleable__label-arrow:before {color: black;}#sk-container-id-1 div.sk-toggleable__content {max-height: 0;max-width: 0;overflow: hidden;text-align: left;background-color: #f0f8ff;}#sk-container-id-1 div.sk-toggleable__content pre {margin: 0.2em;color: black;border-radius: 0.25em;background-color: #f0f8ff;}#sk-container-id-1 input.sk-toggleable__control:checked~div.sk-toggleable__content {max-height: 200px;max-width: 100%;overflow: auto;}#sk-container-id-1 input.sk-toggleable__control:checked~label.sk-toggleable__label-arrow:before {content: \"▾\";}#sk-container-id-1 div.sk-estimator input.sk-toggleable__control:checked~label.sk-toggleable__label {background-color: #d4ebff;}#sk-container-id-1 div.sk-label input.sk-toggleable__control:checked~label.sk-toggleable__label {background-color: #d4ebff;}#sk-container-id-1 input.sk-hidden--visually {border: 0;clip: rect(1px 1px 1px 1px);clip: rect(1px, 1px, 1px, 1px);height: 1px;margin: -1px;overflow: hidden;padding: 0;position: absolute;width: 1px;}#sk-container-id-1 div.sk-estimator {font-family: monospace;background-color: #f0f8ff;border: 1px dotted black;border-radius: 0.25em;box-sizing: border-box;margin-bottom: 0.5em;}#sk-container-id-1 div.sk-estimator:hover {background-color: #d4ebff;}#sk-container-id-1 div.sk-parallel-item::after {content: \"\";width: 100%;border-bottom: 1px solid gray;flex-grow: 1;}#sk-container-id-1 div.sk-label:hover label.sk-toggleable__label {background-color: #d4ebff;}#sk-container-id-1 div.sk-serial::before {content: \"\";position: absolute;border-left: 1px solid gray;box-sizing: border-box;top: 0;bottom: 0;left: 50%;z-index: 0;}#sk-container-id-1 div.sk-serial {display: flex;flex-direction: column;align-items: center;background-color: white;padding-right: 0.2em;padding-left: 0.2em;position: relative;}#sk-container-id-1 div.sk-item {position: relative;z-index: 1;}#sk-container-id-1 div.sk-parallel {display: flex;align-items: stretch;justify-content: center;background-color: white;position: relative;}#sk-container-id-1 div.sk-item::before, #sk-container-id-1 div.sk-parallel-item::before {content: \"\";position: absolute;border-left: 1px solid gray;box-sizing: border-box;top: 0;bottom: 0;left: 50%;z-index: -1;}#sk-container-id-1 div.sk-parallel-item {display: flex;flex-direction: column;z-index: 1;position: relative;background-color: white;}#sk-container-id-1 div.sk-parallel-item:first-child::after {align-self: flex-end;width: 50%;}#sk-container-id-1 div.sk-parallel-item:last-child::after {align-self: flex-start;width: 50%;}#sk-container-id-1 div.sk-parallel-item:only-child::after {width: 0;}#sk-container-id-1 div.sk-dashed-wrapped {border: 1px dashed gray;margin: 0 0.4em 0.5em 0.4em;box-sizing: border-box;padding-bottom: 0.4em;background-color: white;}#sk-container-id-1 div.sk-label label {font-family: monospace;font-weight: bold;display: inline-block;line-height: 1.2em;}#sk-container-id-1 div.sk-label-container {text-align: center;}#sk-container-id-1 div.sk-container {/* jupyter's `normalize.less` sets `[hidden] { display: none; }` but bootstrap.min.css set `[hidden] { display: none !important; }` so we also need the `!important` here to be able to override the default hidden behavior on the sphinx rendered scikit-learn.org. See: https://github.com/scikit-learn/scikit-learn/issues/21755 */display: inline-block !important;position: relative;}#sk-container-id-1 div.sk-text-repr-fallback {display: none;}</style><div id=\"sk-container-id-1\" class=\"sk-top-container\"><div class=\"sk-text-repr-fallback\"><pre>StandardScaler()</pre><b>In a Jupyter environment, please rerun this cell to show the HTML representation or trust the notebook. <br />On GitHub, the HTML representation is unable to render, please try loading this page with nbviewer.org.</b></div><div class=\"sk-container\" hidden><div class=\"sk-item\"><div class=\"sk-estimator sk-toggleable\"><input class=\"sk-toggleable__control sk-hidden--visually\" id=\"sk-estimator-id-1\" type=\"checkbox\" checked><label for=\"sk-estimator-id-1\" class=\"sk-toggleable__label sk-toggleable__label-arrow\">StandardScaler</label><div class=\"sk-toggleable__content\"><pre>StandardScaler()</pre></div></div></div></div></div>"
      ],
      "text/plain": [
       "StandardScaler()"
      ]
     },
     "execution_count": 25,
     "metadata": {},
     "output_type": "execute_result"
    }
   ],
   "source": [
    "scaler = StandardScaler()\n",
    "scaler.fit(X_train_scaled)"
   ]
  },
  {
   "cell_type": "code",
   "execution_count": 26,
   "id": "2c902fbd",
   "metadata": {
    "colab": {
     "base_uri": "https://localhost:8080/"
    },
    "id": "2c902fbd",
    "outputId": "a1b52ffe-9954-4afa-c67a-ed0e5aa8d25d"
   },
   "outputs": [
    {
     "data": {
      "text/html": [
       "<div>\n",
       "<style scoped>\n",
       "    .dataframe tbody tr th:only-of-type {\n",
       "        vertical-align: middle;\n",
       "    }\n",
       "\n",
       "    .dataframe tbody tr th {\n",
       "        vertical-align: top;\n",
       "    }\n",
       "\n",
       "    .dataframe thead th {\n",
       "        text-align: right;\n",
       "    }\n",
       "</style>\n",
       "<table border=\"1\" class=\"dataframe\">\n",
       "  <thead>\n",
       "    <tr style=\"text-align: right;\">\n",
       "      <th></th>\n",
       "      <th>GENDER</th>\n",
       "      <th>AGE</th>\n",
       "      <th>SMOKING</th>\n",
       "      <th>YELLOW_FINGERS</th>\n",
       "      <th>ANXIETY</th>\n",
       "      <th>PEER_PRESSURE</th>\n",
       "      <th>CHRONIC DISEASE</th>\n",
       "      <th>FATIGUE</th>\n",
       "      <th>ALLERGY</th>\n",
       "      <th>WHEEZING</th>\n",
       "      <th>ALCOHOL CONSUMING</th>\n",
       "      <th>COUGHING</th>\n",
       "      <th>SHORTNESS OF BREATH</th>\n",
       "      <th>SWALLOWING DIFFICULTY</th>\n",
       "      <th>CHEST PAIN</th>\n",
       "    </tr>\n",
       "  </thead>\n",
       "  <tbody>\n",
       "    <tr>\n",
       "      <th>26</th>\n",
       "      <td>-1.037126</td>\n",
       "      <td>-0.254584</td>\n",
       "      <td>0.903425</td>\n",
       "      <td>0.881464</td>\n",
       "      <td>1.071366</td>\n",
       "      <td>-0.987927</td>\n",
       "      <td>-0.972050</td>\n",
       "      <td>0.654023</td>\n",
       "      <td>0.838718</td>\n",
       "      <td>-1.182395</td>\n",
       "      <td>0.867048</td>\n",
       "      <td>-1.297992</td>\n",
       "      <td>0.737394</td>\n",
       "      <td>1.106899</td>\n",
       "      <td>0.874234</td>\n",
       "    </tr>\n",
       "    <tr>\n",
       "      <th>47</th>\n",
       "      <td>-1.037126</td>\n",
       "      <td>0.130410</td>\n",
       "      <td>0.903425</td>\n",
       "      <td>0.881464</td>\n",
       "      <td>-0.933387</td>\n",
       "      <td>1.012220</td>\n",
       "      <td>-0.972050</td>\n",
       "      <td>0.654023</td>\n",
       "      <td>-1.192296</td>\n",
       "      <td>0.845741</td>\n",
       "      <td>0.867048</td>\n",
       "      <td>0.770421</td>\n",
       "      <td>-1.356127</td>\n",
       "      <td>1.106899</td>\n",
       "      <td>0.874234</td>\n",
       "    </tr>\n",
       "    <tr>\n",
       "      <th>198</th>\n",
       "      <td>-1.037126</td>\n",
       "      <td>1.285392</td>\n",
       "      <td>0.903425</td>\n",
       "      <td>0.881464</td>\n",
       "      <td>1.071366</td>\n",
       "      <td>-0.987927</td>\n",
       "      <td>1.028753</td>\n",
       "      <td>-1.528999</td>\n",
       "      <td>0.838718</td>\n",
       "      <td>-1.182395</td>\n",
       "      <td>0.867048</td>\n",
       "      <td>-1.297992</td>\n",
       "      <td>-1.356127</td>\n",
       "      <td>-0.903425</td>\n",
       "      <td>-1.143858</td>\n",
       "    </tr>\n",
       "    <tr>\n",
       "      <th>90</th>\n",
       "      <td>-1.037126</td>\n",
       "      <td>-0.126253</td>\n",
       "      <td>-1.106899</td>\n",
       "      <td>-1.134477</td>\n",
       "      <td>-0.933387</td>\n",
       "      <td>1.012220</td>\n",
       "      <td>-0.972050</td>\n",
       "      <td>-1.528999</td>\n",
       "      <td>-1.192296</td>\n",
       "      <td>0.845741</td>\n",
       "      <td>0.867048</td>\n",
       "      <td>-1.297992</td>\n",
       "      <td>-1.356127</td>\n",
       "      <td>1.106899</td>\n",
       "      <td>0.874234</td>\n",
       "    </tr>\n",
       "    <tr>\n",
       "      <th>303</th>\n",
       "      <td>0.964203</td>\n",
       "      <td>-1.537898</td>\n",
       "      <td>-1.106899</td>\n",
       "      <td>0.881464</td>\n",
       "      <td>-0.933387</td>\n",
       "      <td>-0.987927</td>\n",
       "      <td>1.028753</td>\n",
       "      <td>0.654023</td>\n",
       "      <td>0.838718</td>\n",
       "      <td>0.845741</td>\n",
       "      <td>0.867048</td>\n",
       "      <td>0.770421</td>\n",
       "      <td>0.737394</td>\n",
       "      <td>-0.903425</td>\n",
       "      <td>0.874234</td>\n",
       "    </tr>\n",
       "  </tbody>\n",
       "</table>\n",
       "</div>"
      ],
      "text/plain": [
       "       GENDER       AGE   SMOKING  YELLOW_FINGERS   ANXIETY  PEER_PRESSURE  \\\n",
       "26  -1.037126 -0.254584  0.903425        0.881464  1.071366      -0.987927   \n",
       "47  -1.037126  0.130410  0.903425        0.881464 -0.933387       1.012220   \n",
       "198 -1.037126  1.285392  0.903425        0.881464  1.071366      -0.987927   \n",
       "90  -1.037126 -0.126253 -1.106899       -1.134477 -0.933387       1.012220   \n",
       "303  0.964203 -1.537898 -1.106899        0.881464 -0.933387      -0.987927   \n",
       "\n",
       "     CHRONIC DISEASE  FATIGUE   ALLERGY   WHEEZING  ALCOHOL CONSUMING  \\\n",
       "26         -0.972050  0.654023  0.838718 -1.182395           0.867048   \n",
       "47         -0.972050  0.654023 -1.192296  0.845741           0.867048   \n",
       "198         1.028753 -1.528999  0.838718 -1.182395           0.867048   \n",
       "90         -0.972050 -1.528999 -1.192296  0.845741           0.867048   \n",
       "303         1.028753  0.654023  0.838718  0.845741           0.867048   \n",
       "\n",
       "     COUGHING  SHORTNESS OF BREATH  SWALLOWING DIFFICULTY  CHEST PAIN  \n",
       "26  -1.297992             0.737394               1.106899    0.874234  \n",
       "47   0.770421            -1.356127               1.106899    0.874234  \n",
       "198 -1.297992            -1.356127              -0.903425   -1.143858  \n",
       "90  -1.297992            -1.356127               1.106899    0.874234  \n",
       "303  0.770421             0.737394              -0.903425    0.874234  "
      ]
     },
     "execution_count": 26,
     "metadata": {},
     "output_type": "execute_result"
    }
   ],
   "source": [
    "X_train_scaled[X_train_scaled.columns] = scaler.transform(X_train)\n",
    "X_train_scaled.head()"
   ]
  },
  {
   "cell_type": "code",
   "execution_count": 27,
   "id": "vgkOmUyS9o3m",
   "metadata": {
    "colab": {
     "base_uri": "https://localhost:8080/"
    },
    "id": "vgkOmUyS9o3m",
    "outputId": "290e00bc-3eb6-445d-bb23-d10d5566eb61"
   },
   "outputs": [
    {
     "data": {
      "text/html": [
       "<div>\n",
       "<style scoped>\n",
       "    .dataframe tbody tr th:only-of-type {\n",
       "        vertical-align: middle;\n",
       "    }\n",
       "\n",
       "    .dataframe tbody tr th {\n",
       "        vertical-align: top;\n",
       "    }\n",
       "\n",
       "    .dataframe thead th {\n",
       "        text-align: right;\n",
       "    }\n",
       "</style>\n",
       "<table border=\"1\" class=\"dataframe\">\n",
       "  <thead>\n",
       "    <tr style=\"text-align: right;\">\n",
       "      <th></th>\n",
       "      <th>GENDER</th>\n",
       "      <th>AGE</th>\n",
       "      <th>SMOKING</th>\n",
       "      <th>YELLOW_FINGERS</th>\n",
       "      <th>ANXIETY</th>\n",
       "      <th>PEER_PRESSURE</th>\n",
       "      <th>CHRONIC DISEASE</th>\n",
       "      <th>FATIGUE</th>\n",
       "      <th>ALLERGY</th>\n",
       "      <th>WHEEZING</th>\n",
       "      <th>ALCOHOL CONSUMING</th>\n",
       "      <th>COUGHING</th>\n",
       "      <th>SHORTNESS OF BREATH</th>\n",
       "      <th>SWALLOWING DIFFICULTY</th>\n",
       "      <th>CHEST PAIN</th>\n",
       "    </tr>\n",
       "  </thead>\n",
       "  <tbody>\n",
       "    <tr>\n",
       "      <th>68</th>\n",
       "      <td>-1.037126</td>\n",
       "      <td>1.670386</td>\n",
       "      <td>0.903425</td>\n",
       "      <td>0.881464</td>\n",
       "      <td>1.071366</td>\n",
       "      <td>1.012220</td>\n",
       "      <td>-0.972050</td>\n",
       "      <td>0.654023</td>\n",
       "      <td>0.838718</td>\n",
       "      <td>-1.182395</td>\n",
       "      <td>-1.153338</td>\n",
       "      <td>-1.297992</td>\n",
       "      <td>0.737394</td>\n",
       "      <td>1.106899</td>\n",
       "      <td>0.874234</td>\n",
       "    </tr>\n",
       "    <tr>\n",
       "      <th>274</th>\n",
       "      <td>0.964203</td>\n",
       "      <td>-0.896241</td>\n",
       "      <td>0.903425</td>\n",
       "      <td>-1.134477</td>\n",
       "      <td>-0.933387</td>\n",
       "      <td>-0.987927</td>\n",
       "      <td>1.028753</td>\n",
       "      <td>-1.528999</td>\n",
       "      <td>0.838718</td>\n",
       "      <td>0.845741</td>\n",
       "      <td>0.867048</td>\n",
       "      <td>0.770421</td>\n",
       "      <td>0.737394</td>\n",
       "      <td>-0.903425</td>\n",
       "      <td>0.874234</td>\n",
       "    </tr>\n",
       "    <tr>\n",
       "      <th>63</th>\n",
       "      <td>-1.037126</td>\n",
       "      <td>0.643735</td>\n",
       "      <td>-1.106899</td>\n",
       "      <td>-1.134477</td>\n",
       "      <td>1.071366</td>\n",
       "      <td>-0.987927</td>\n",
       "      <td>1.028753</td>\n",
       "      <td>-1.528999</td>\n",
       "      <td>0.838718</td>\n",
       "      <td>0.845741</td>\n",
       "      <td>0.867048</td>\n",
       "      <td>-1.297992</td>\n",
       "      <td>-1.356127</td>\n",
       "      <td>1.106899</td>\n",
       "      <td>-1.143858</td>\n",
       "    </tr>\n",
       "    <tr>\n",
       "      <th>283</th>\n",
       "      <td>0.964203</td>\n",
       "      <td>-0.382916</td>\n",
       "      <td>-1.106899</td>\n",
       "      <td>0.881464</td>\n",
       "      <td>1.071366</td>\n",
       "      <td>-0.987927</td>\n",
       "      <td>-0.972050</td>\n",
       "      <td>0.654023</td>\n",
       "      <td>-1.192296</td>\n",
       "      <td>0.845741</td>\n",
       "      <td>0.867048</td>\n",
       "      <td>0.770421</td>\n",
       "      <td>0.737394</td>\n",
       "      <td>1.106899</td>\n",
       "      <td>0.874234</td>\n",
       "    </tr>\n",
       "    <tr>\n",
       "      <th>286</th>\n",
       "      <td>-1.037126</td>\n",
       "      <td>0.002078</td>\n",
       "      <td>-1.106899</td>\n",
       "      <td>-1.134477</td>\n",
       "      <td>-0.933387</td>\n",
       "      <td>-0.987927</td>\n",
       "      <td>1.028753</td>\n",
       "      <td>0.654023</td>\n",
       "      <td>-1.192296</td>\n",
       "      <td>-1.182395</td>\n",
       "      <td>-1.153338</td>\n",
       "      <td>-1.297992</td>\n",
       "      <td>0.737394</td>\n",
       "      <td>-0.903425</td>\n",
       "      <td>-1.143858</td>\n",
       "    </tr>\n",
       "  </tbody>\n",
       "</table>\n",
       "</div>"
      ],
      "text/plain": [
       "       GENDER       AGE   SMOKING  YELLOW_FINGERS   ANXIETY  PEER_PRESSURE  \\\n",
       "68  -1.037126  1.670386  0.903425        0.881464  1.071366       1.012220   \n",
       "274  0.964203 -0.896241  0.903425       -1.134477 -0.933387      -0.987927   \n",
       "63  -1.037126  0.643735 -1.106899       -1.134477  1.071366      -0.987927   \n",
       "283  0.964203 -0.382916 -1.106899        0.881464  1.071366      -0.987927   \n",
       "286 -1.037126  0.002078 -1.106899       -1.134477 -0.933387      -0.987927   \n",
       "\n",
       "     CHRONIC DISEASE  FATIGUE   ALLERGY   WHEEZING  ALCOHOL CONSUMING  \\\n",
       "68         -0.972050  0.654023  0.838718 -1.182395          -1.153338   \n",
       "274         1.028753 -1.528999  0.838718  0.845741           0.867048   \n",
       "63          1.028753 -1.528999  0.838718  0.845741           0.867048   \n",
       "283        -0.972050  0.654023 -1.192296  0.845741           0.867048   \n",
       "286         1.028753  0.654023 -1.192296 -1.182395          -1.153338   \n",
       "\n",
       "     COUGHING  SHORTNESS OF BREATH  SWALLOWING DIFFICULTY  CHEST PAIN  \n",
       "68  -1.297992             0.737394               1.106899    0.874234  \n",
       "274  0.770421             0.737394              -0.903425    0.874234  \n",
       "63  -1.297992            -1.356127               1.106899   -1.143858  \n",
       "283  0.770421             0.737394               1.106899    0.874234  \n",
       "286 -1.297992             0.737394              -0.903425   -1.143858  "
      ]
     },
     "execution_count": 27,
     "metadata": {},
     "output_type": "execute_result"
    }
   ],
   "source": [
    "X_test_scaled[X_test_scaled.columns] = scaler.transform(X_test)\n",
    "X_test_scaled.head()"
   ]
  },
  {
   "cell_type": "code",
   "execution_count": 29,
   "id": "6def7b89",
   "metadata": {},
   "outputs": [
    {
     "data": {
      "text/plain": [
       "1    216\n",
       "0     31\n",
       "Name: LUNG_CANCER, dtype: int64"
      ]
     },
     "execution_count": 29,
     "metadata": {},
     "output_type": "execute_result"
    }
   ],
   "source": [
    "y_train.value_counts()"
   ]
  },
  {
   "cell_type": "markdown",
   "id": "77edbb6d",
   "metadata": {
    "id": "77edbb6d"
   },
   "source": [
    "# Model Development\n",
    "\n",
    "Metrics:\n",
    "\n",
    "- Accuracy\n",
    "- Precision\n",
    "- Sensitivity/Recall\n",
    "- Specificity\n",
    "- Balanced Accuracy\n",
    "- F1 score"
   ]
  },
  {
   "cell_type": "markdown",
   "id": "fe1cfc61",
   "metadata": {
    "id": "fe1cfc61"
   },
   "source": [
    "To follow the best convention and ensure a cleaner notebook, I would make functions to perform some of the model development operations which I can apply to the different algorithms.\n",
    "\n",
    "The functions are as below:"
   ]
  },
  {
   "cell_type": "code",
   "execution_count": 30,
   "id": "da9a5d06",
   "metadata": {},
   "outputs": [],
   "source": [
    "all_scores_dict = {} # scores for all models"
   ]
  },
  {
   "cell_type": "code",
   "execution_count": 31,
   "id": "270cbd46",
   "metadata": {
    "id": "270cbd46"
   },
   "outputs": [],
   "source": [
    "def evaluate_model(actual_target, pred, data_type= \"TEST\"):\n",
    "    \"\"\"\n",
    "    This function returns the evaluation metrics of a model on the test set\n",
    "    \n",
    "    params:\n",
    "        actual_target: actual target for the test set\n",
    "        pred: predicted target for the test \n",
    "    \"\"\"\n",
    "    \n",
    "    \n",
    "\n",
    "    class_report = metrics.classification_report(actual_target,pred, target_names=['NO', 'YES'])\n",
    "    conf_mat = metrics.confusion_matrix(y_true=actual_target, y_pred=pred)\n",
    "    \n",
    "    acc_score = metrics.accuracy_score(actual_target,pred)\n",
    "    prec = metrics.precision_score(actual_target,pred)\n",
    "    sensitivity = metrics.recall_score(actual_target,pred)\n",
    "    specificity = metrics.recall_score(actual_target,pred, pos_label=0)\n",
    "    bal_acc = metrics.balanced_accuracy_score(actual_target, pred)\n",
    "    f1_score = metrics.f1_score(actual_target,pred)\n",
    "    \n",
    "    \n",
    "    print(f\"\\n=========================={data_type}=====================================\")    \n",
    "    print(\"confusion matrix: \\n\", conf_mat)\n",
    "    print(\"\\nAccuracy: %.3f\"%(acc_score))\n",
    "    print(\"Precision: %.3f\"%(prec))\n",
    "    print(\"Sensitivity/recall: %.3f\"%(sensitivity))\n",
    "    print(\"Specificity: %.3f\"%(specificity))\n",
    "    print(\"Balanced Accuracy: %.3f\"%(bal_acc))\n",
    "    print(\"F1 score: %.3f\"%(f1_score))\n",
    "    print(\"Classification report: \\n\",class_report)\n",
    "    \n",
    "    return [acc_score, prec, sensitivity, specificity, bal_acc, f1_score], conf_mat\n",
    "\n",
    "def plot_confusion_matrix_heatmap(conf_mat, plot_name):\n",
    "    \"\"\"\n",
    "    plots the confusion matrix\n",
    "    \n",
    "    params:\n",
    "        conf_mat: confusion matrix\n",
    "        plot_name: name to save the plot with \n",
    "    \"\"\"\n",
    "    fig, ax = plot_confusion_matrix(conf_mat=conf_mat,\n",
    "                                    show_absolute=True,\n",
    "                                    show_normed=True,\n",
    "                                    colorbar=True)\n",
    "    plt.yticks([0, 1], ['NO', 'YES'])\n",
    "    plt.xticks([0, 1], ['NO', 'YES'])\n",
    "    fig.savefig(plot_name+\".jpeg\")\n",
    "    plt.show()"
   ]
  },
  {
   "cell_type": "markdown",
   "id": "5da92875",
   "metadata": {
    "id": "5da92875"
   },
   "source": [
    "### Algorithm 1: Support Vector Machine Model (SVM)"
   ]
  },
  {
   "cell_type": "code",
   "execution_count": 32,
   "id": "30d75feb",
   "metadata": {
    "colab": {
     "base_uri": "https://localhost:8080/"
    },
    "id": "30d75feb",
    "outputId": "0ff179fc-2736-4881-85c4-de7d77d2f95f"
   },
   "outputs": [
    {
     "name": "stdout",
     "output_type": "stream",
     "text": [
      "\n",
      "==========================TEST=====================================\n",
      "confusion matrix: \n",
      " [[ 2  6]\n",
      " [ 3 51]]\n",
      "\n",
      "Accuracy: 0.855\n",
      "Precision: 0.895\n",
      "Sensitivity/recall: 0.944\n",
      "Specificity: 0.250\n",
      "Balanced Accuracy: 0.597\n",
      "F1 score: 0.919\n",
      "Classification report: \n",
      "               precision    recall  f1-score   support\n",
      "\n",
      "          NO       0.40      0.25      0.31         8\n",
      "         YES       0.89      0.94      0.92        54\n",
      "\n",
      "    accuracy                           0.85        62\n",
      "   macro avg       0.65      0.60      0.61        62\n",
      "weighted avg       0.83      0.85      0.84        62\n",
      "\n"
     ]
    }
   ],
   "source": [
    "svc_model = SVC(random_state = 42)\n",
    "svc_model.fit(X_train_scaled, y_train)\n",
    "\n",
    "\n",
    "# evaluate test set/Generalization scores and add to the score dataframe\n",
    "svc_test_pred = svc_model.predict(X_test_scaled)\n",
    "all_scores_dict['SVC'], svc_cm = evaluate_model(y_test, svc_test_pred, 'TEST')"
   ]
  },
  {
   "cell_type": "markdown",
   "id": "a8ozXzL4yVeo",
   "metadata": {
    "id": "a8ozXzL4yVeo"
   },
   "source": [
    "Hyperparameter Tuning"
   ]
  },
  {
   "cell_type": "code",
   "execution_count": 34,
   "id": "e141fd40",
   "metadata": {
    "colab": {
     "base_uri": "https://localhost:8080/"
    },
    "id": "e141fd40",
    "outputId": "2f27f8a0-0c49-4c17-c570-279e766d3128"
   },
   "outputs": [
    {
     "name": "stdout",
     "output_type": "stream",
     "text": [
      "Parameter Grid:  {'kernel': ['rbf', 'linear', 'poly'], 'degree': [1, 2, 3, 4], 'C': [1, 2, 3, 4, 5, 6, 7, 8, 9, 10, 11, 12, 13, 14, 15, 16, 17, 18, 19], 'gamma': [0.01, 0.1, 1, 10]}\n",
      "Fitting 3 folds for each of 912 candidates, totalling 2736 fits\n",
      "\n",
      " Best parameters: \n",
      " {'C': 5, 'degree': 1, 'gamma': 0.1, 'kernel': 'poly'}\n",
      "\n",
      " Best Estimators: \n",
      " SVC(C=5, degree=1, gamma=0.1, kernel='poly')\n"
     ]
    }
   ],
   "source": [
    "# defining parameter range\n",
    "param_grid_svc = {'kernel': ['rbf','linear','poly'], 'degree':[1,2, 3, 4], 'C': list(range(1,20,1)),'gamma':[0.01 , 0.1, 1, 10]}\n",
    "\n",
    "print(\"Parameter Grid: \",param_grid_svc)\n",
    "\n",
    "# Define the scoring metric\n",
    "scorer = metrics.make_scorer(metrics.balanced_accuracy_score)\n",
    "\n",
    "svc_grid = GridSearchCV(SVC(), param_grid_svc, refit = True, scoring=scorer, cv=3, verbose = 3, n_jobs=-1)\n",
    " \n",
    "# fitting the model for grid search\n",
    "svc_grid.fit(X_train_scaled, y_train)\n",
    "\n",
    "\n",
    "# print best parameter after tuning\n",
    "print(\"\\n Best parameters: \\n\",svc_grid.best_params_)\n",
    " \n",
    "# print how our model looks after hyper-parameter tuning\n",
    "print(\"\\n Best Estimators: \\n\",svc_grid.best_estimator_)"
   ]
  },
  {
   "cell_type": "code",
   "execution_count": 33,
   "id": "2WalDMRSXKui",
   "metadata": {
    "colab": {
     "base_uri": "https://localhost:8080/"
    },
    "id": "2WalDMRSXKui",
    "outputId": "ea1f1fb3-d35a-4714-c863-f32a9ae53314"
   },
   "outputs": [
    {
     "name": "stdout",
     "output_type": "stream",
     "text": [
      "\n",
      "==========================TEST=====================================\n",
      "confusion matrix: \n",
      " [[ 5  3]\n",
      " [ 3 51]]\n",
      "\n",
      "Accuracy: 0.903\n",
      "Precision: 0.944\n",
      "Sensitivity/recall: 0.944\n",
      "Specificity: 0.625\n",
      "Balanced Accuracy: 0.785\n",
      "F1 score: 0.944\n",
      "Classification report: \n",
      "               precision    recall  f1-score   support\n",
      "\n",
      "          NO       0.62      0.62      0.62         8\n",
      "         YES       0.94      0.94      0.94        54\n",
      "\n",
      "    accuracy                           0.90        62\n",
      "   macro avg       0.78      0.78      0.78        62\n",
      "weighted avg       0.90      0.90      0.90        62\n",
      "\n"
     ]
    }
   ],
   "source": [
    "# try with the optimal parameter and evaluate on test set\n",
    "opt_svc = SVC(random_state = 42, degree=1, C=5, gamma=0.1, kernel='poly')\n",
    "opt_svc.fit(X_train_scaled, y_train)\n",
    "test_pred = opt_svc.predict(X_test_scaled)\n",
    "all_scores_dict['SVC_opt'], svc_opt_cm = evaluate_model(y_test, test_pred, 'TEST')"
   ]
  },
  {
   "cell_type": "code",
   "execution_count": 34,
   "id": "f884eca6",
   "metadata": {},
   "outputs": [
    {
     "data": {
      "image/png": "[encoded data removed]",
      "text/plain": [
       "<Figure size 432x288 with 2 Axes>"
      ]
     },
     "metadata": {
      "needs_background": "light"
     },
     "output_type": "display_data"
    }
   ],
   "source": [
    "plot_confusion_matrix_heatmap(svc_opt_cm, \"svc_opt_cm\")"
   ]
  },
  {
   "cell_type": "markdown",
   "id": "97fdc3a4",
   "metadata": {},
   "source": [
    "### Algorithm 2: Logistic Regression"
   ]
  },
  {
   "cell_type": "code",
   "execution_count": 35,
   "id": "166cc6f6",
   "metadata": {},
   "outputs": [
    {
     "name": "stdout",
     "output_type": "stream",
     "text": [
      "\n",
      "==========================TEST=====================================\n",
      "confusion matrix: \n",
      " [[ 5  3]\n",
      " [ 3 51]]\n",
      "\n",
      "Accuracy: 0.903\n",
      "Precision: 0.944\n",
      "Sensitivity/recall: 0.944\n",
      "Specificity: 0.625\n",
      "Balanced Accuracy: 0.785\n",
      "F1 score: 0.944\n",
      "Classification report: \n",
      "               precision    recall  f1-score   support\n",
      "\n",
      "          NO       0.62      0.62      0.62         8\n",
      "         YES       0.94      0.94      0.94        54\n",
      "\n",
      "    accuracy                           0.90        62\n",
      "   macro avg       0.78      0.78      0.78        62\n",
      "weighted avg       0.90      0.90      0.90        62\n",
      "\n"
     ]
    }
   ],
   "source": [
    "lr_model = LogisticRegression(random_state = 42)\n",
    "lr_model.fit(X_train_scaled, y_train)\n",
    "\n",
    "\n",
    "# evaluate test set/Generalization scores\n",
    "lr_test_pred = lr_model.predict(X_test_scaled)\n",
    "all_scores_dict['LR'], lr_cm = evaluate_model(y_test, lr_test_pred, 'TEST')"
   ]
  },
  {
   "cell_type": "code",
   "execution_count": 40,
   "id": "1d80b153",
   "metadata": {},
   "outputs": [
    {
     "name": "stdout",
     "output_type": "stream",
     "text": [
      "Parameter Grid:  {'penalty': ['l1', 'l2'], 'C': array([1.00000000e-04, 1.67683294e-04, 2.81176870e-04, 4.71486636e-04,\n",
      "       7.90604321e-04, 1.32571137e-03, 2.22299648e-03, 3.72759372e-03,\n",
      "       6.25055193e-03, 1.04811313e-02, 1.75751062e-02, 2.94705170e-02,\n",
      "       4.94171336e-02, 8.28642773e-02, 1.38949549e-01, 2.32995181e-01,\n",
      "       3.90693994e-01, 6.55128557e-01, 1.09854114e+00, 1.84206997e+00,\n",
      "       3.08884360e+00, 5.17947468e+00, 8.68511374e+00, 1.45634848e+01,\n",
      "       2.44205309e+01, 4.09491506e+01, 6.86648845e+01, 1.15139540e+02,\n",
      "       1.93069773e+02, 3.23745754e+02, 5.42867544e+02, 9.10298178e+02,\n",
      "       1.52641797e+03, 2.55954792e+03, 4.29193426e+03, 7.19685673e+03,\n",
      "       1.20679264e+04, 2.02358965e+04, 3.39322177e+04, 5.68986603e+04,\n",
      "       9.54095476e+04, 1.59985872e+05, 2.68269580e+05, 4.49843267e+05,\n",
      "       7.54312006e+05, 1.26485522e+06, 2.12095089e+06, 3.55648031e+06,\n",
      "       5.96362332e+06, 1.00000000e+07]), 'solver': ['lbfgs', 'liblinear']}\n",
      "Fitting 3 folds for each of 200 candidates, totalling 600 fits\n",
      "\n",
      " Best parameters: \n",
      " {'C': 1.0985411419875573, 'penalty': 'l2', 'solver': 'lbfgs'}\n",
      "\n",
      " Best Estimators: \n",
      " LogisticRegression(C=1.0985411419875573, random_state=42)\n"
     ]
    }
   ],
   "source": [
    "# defining parameter range\n",
    "lr_param_grid = {'penalty' : ['l1', 'l2'], \n",
    "                 'C' : np.logspace(-4, 7), \n",
    "                 'solver' : ['lbfgs', 'liblinear']}\n",
    "\n",
    "print(\"Parameter Grid: \",lr_param_grid)\n",
    "\n",
    "lr_grid = GridSearchCV(LogisticRegression(random_state = 42), lr_param_grid, refit = True, scoring='accuracy', cv=3, \n",
    "                       verbose = 3, n_jobs=-1)\n",
    " \n",
    "# fitting the model for grid search\n",
    "lr_grid.fit(X_train_scaled, y_train)\n",
    "\n",
    "\n",
    "# print best parameter after tuning\n",
    "print(\"\\n Best parameters: \\n\",lr_grid.best_params_)\n",
    " \n",
    "# print how our model looks after hyper-parameter tuning\n",
    "print(\"\\n Best Estimators: \\n\",lr_grid.best_estimator_)"
   ]
  },
  {
   "cell_type": "code",
   "execution_count": 36,
   "id": "0482752e",
   "metadata": {},
   "outputs": [
    {
     "name": "stdout",
     "output_type": "stream",
     "text": [
      "\n",
      "==========================TEST=====================================\n",
      "confusion matrix: \n",
      " [[ 5  3]\n",
      " [ 2 52]]\n",
      "\n",
      "Accuracy: 0.919\n",
      "Precision: 0.945\n",
      "Sensitivity/recall: 0.963\n",
      "Specificity: 0.625\n",
      "Balanced Accuracy: 0.794\n",
      "F1 score: 0.954\n",
      "Classification report: \n",
      "               precision    recall  f1-score   support\n",
      "\n",
      "          NO       0.71      0.62      0.67         8\n",
      "         YES       0.95      0.96      0.95        54\n",
      "\n",
      "    accuracy                           0.92        62\n",
      "   macro avg       0.83      0.79      0.81        62\n",
      "weighted avg       0.92      0.92      0.92        62\n",
      "\n"
     ]
    }
   ],
   "source": [
    "# try with the optimal parameter and evaluate on test set\n",
    "opt_lr = LogisticRegression(random_state = 42, C=1.0985411419875573, solver='liblinear', penalty='l2')\n",
    "\n",
    "opt_lr.fit(X_train_scaled, y_train)\n",
    "lr_test_pred = opt_lr.predict(X_test_scaled)\n",
    "all_scores_dict['LR_opt'], lr_opt_cm = evaluate_model(y_test, lr_test_pred, 'TEST')"
   ]
  },
  {
   "cell_type": "code",
   "execution_count": 37,
   "id": "1a65d2bc",
   "metadata": {},
   "outputs": [
    {
     "data": {
      "image/png": "[encoded data removed]",
      "text/plain": [
       "<Figure size 432x288 with 2 Axes>"
      ]
     },
     "metadata": {
      "needs_background": "light"
     },
     "output_type": "display_data"
    }
   ],
   "source": [
    "plot_confusion_matrix_heatmap(lr_opt_cm, \"lr_opt_cm\")"
   ]
  },
  {
   "cell_type": "markdown",
   "id": "12f35b09",
   "metadata": {},
   "source": [
    "### Algorithm 3: K-Neighbors (KNeighborsClassifier)"
   ]
  },
  {
   "cell_type": "code",
   "execution_count": 38,
   "id": "0fd9af17",
   "metadata": {},
   "outputs": [
    {
     "name": "stdout",
     "output_type": "stream",
     "text": [
      "\n",
      "==========================TEST=====================================\n",
      "confusion matrix: \n",
      " [[ 3  5]\n",
      " [ 3 51]]\n",
      "\n",
      "Accuracy: 0.871\n",
      "Precision: 0.911\n",
      "Sensitivity/recall: 0.944\n",
      "Specificity: 0.375\n",
      "Balanced Accuracy: 0.660\n",
      "F1 score: 0.927\n",
      "Classification report: \n",
      "               precision    recall  f1-score   support\n",
      "\n",
      "          NO       0.50      0.38      0.43         8\n",
      "         YES       0.91      0.94      0.93        54\n",
      "\n",
      "    accuracy                           0.87        62\n",
      "   macro avg       0.71      0.66      0.68        62\n",
      "weighted avg       0.86      0.87      0.86        62\n",
      "\n"
     ]
    }
   ],
   "source": [
    "kn_model = KNeighborsClassifier()\n",
    "kn_model.fit(X_train_scaled, y_train)\n",
    "\n",
    "\n",
    "# evaluate test set/Generalization scores\n",
    "kn_test_pred = kn_model.predict(X_test_scaled)\n",
    "all_scores_dict['KNN'], knn_cm = evaluate_model(y_test, kn_test_pred, 'TEST')"
   ]
  },
  {
   "cell_type": "code",
   "execution_count": 52,
   "id": "d219d5b2",
   "metadata": {},
   "outputs": [
    {
     "name": "stdout",
     "output_type": "stream",
     "text": [
      "Parameter Grid:  {'n_neighbors': [2, 3, 4, 5, 6, 7], 'p': [1, 2], 'weights': ['uniform', 'distance']}\n",
      "Fitting 5 folds for each of 24 candidates, totalling 120 fits\n",
      "\n",
      " Best parameters: \n",
      " {'n_neighbors': 2, 'p': 1, 'weights': 'uniform'}\n",
      "\n",
      " Best Estimators: \n",
      " KNeighborsClassifier(n_neighbors=2, p=1)\n"
     ]
    }
   ],
   "source": [
    "# defining parameter range\n",
    "kn_param_grid = {'n_neighbors' : list(range(2,8,1)), \n",
    "                 'p' : [1, 2], # p=1 - Manhattan Distance p=2 - Euclidean Distance\n",
    "                 'weights' : ['uniform', 'distance']           \n",
    "                 }\n",
    "\n",
    "print(\"Parameter Grid: \",kn_param_grid)\n",
    "# Define the scoring metric\n",
    "scorer = metrics.make_scorer(metrics.balanced_accuracy_score)\n",
    "kn_grid = GridSearchCV(KNeighborsClassifier(), kn_param_grid, scoring=scorer, refit = True, cv=5, verbose = 3, n_jobs=-1)\n",
    " \n",
    "# fitting the model for grid search\n",
    "kn_grid.fit(X_train_scaled, y_train)\n",
    "\n",
    "\n",
    "# print best parameter after tuning\n",
    "print(\"\\n Best parameters: \\n\",kn_grid.best_params_)\n",
    " \n",
    "# print how our model looks after hyper-parameter tuning\n",
    "print(\"\\n Best Estimators: \\n\",kn_grid.best_estimator_)"
   ]
  },
  {
   "cell_type": "code",
   "execution_count": 39,
   "id": "0756206f",
   "metadata": {},
   "outputs": [
    {
     "name": "stdout",
     "output_type": "stream",
     "text": [
      "\n",
      "==========================TEST=====================================\n",
      "confusion matrix: \n",
      " [[ 7  1]\n",
      " [ 7 47]]\n",
      "\n",
      "Accuracy: 0.871\n",
      "Precision: 0.979\n",
      "Sensitivity/recall: 0.870\n",
      "Specificity: 0.875\n",
      "Balanced Accuracy: 0.873\n",
      "F1 score: 0.922\n",
      "Classification report: \n",
      "               precision    recall  f1-score   support\n",
      "\n",
      "          NO       0.50      0.88      0.64         8\n",
      "         YES       0.98      0.87      0.92        54\n",
      "\n",
      "    accuracy                           0.87        62\n",
      "   macro avg       0.74      0.87      0.78        62\n",
      "weighted avg       0.92      0.87      0.88        62\n",
      "\n"
     ]
    }
   ],
   "source": [
    "# try with the optimal parameter and evaluate on test set\n",
    "opt_kn = KNeighborsClassifier(n_neighbors=2, p=1, weights='uniform')\n",
    "opt_kn.fit(X_train_scaled, y_train)\n",
    "kn_test_pred = opt_kn.predict(X_test_scaled)\n",
    "all_scores_dict['KNN_opt'], knn_opt_cm = evaluate_model(y_test, kn_test_pred, 'TEST')"
   ]
  },
  {
   "cell_type": "code",
   "execution_count": 40,
   "id": "3e988231",
   "metadata": {},
   "outputs": [
    {
     "data": {
      "image/png": "[encoded data removed]",
      "text/plain": [
       "<Figure size 432x288 with 2 Axes>"
      ]
     },
     "metadata": {
      "needs_background": "light"
     },
     "output_type": "display_data"
    }
   ],
   "source": [
    "plot_confusion_matrix_heatmap(knn_opt_cm, \"knn_opt_cm\")"
   ]
  },
  {
   "cell_type": "markdown",
   "id": "d1ede528",
   "metadata": {},
   "source": [
    "### Algorithm 4: Random Forest (RandomForestClassifier)"
   ]
  },
  {
   "cell_type": "code",
   "execution_count": 41,
   "id": "3fa4c589",
   "metadata": {},
   "outputs": [
    {
     "name": "stdout",
     "output_type": "stream",
     "text": [
      "\n",
      "==========================TEST=====================================\n",
      "confusion matrix: \n",
      " [[ 6  2]\n",
      " [ 3 51]]\n",
      "\n",
      "Accuracy: 0.919\n",
      "Precision: 0.962\n",
      "Sensitivity/recall: 0.944\n",
      "Specificity: 0.750\n",
      "Balanced Accuracy: 0.847\n",
      "F1 score: 0.953\n",
      "Classification report: \n",
      "               precision    recall  f1-score   support\n",
      "\n",
      "          NO       0.67      0.75      0.71         8\n",
      "         YES       0.96      0.94      0.95        54\n",
      "\n",
      "    accuracy                           0.92        62\n",
      "   macro avg       0.81      0.85      0.83        62\n",
      "weighted avg       0.92      0.92      0.92        62\n",
      "\n"
     ]
    }
   ],
   "source": [
    "rf_model = RandomForestClassifier(random_state = 42)\n",
    "rf_model.fit(X_train_scaled, y_train)\n",
    "\n",
    "\n",
    "# evaluate test set/Generalization scores\n",
    "rf_test_pred = rf_model.predict(X_test_scaled)\n",
    "all_scores_dict['RF'], rf_cm = evaluate_model(y_test, rf_test_pred, 'TEST')"
   ]
  },
  {
   "cell_type": "code",
   "execution_count": 58,
   "id": "3d28e8da",
   "metadata": {},
   "outputs": [
    {
     "name": "stdout",
     "output_type": "stream",
     "text": [
      "Parameter Grid:  {'n_estimators': [100, 110, 120, 130, 140, 150, 160, 170, 180, 190, 200, 210, 220, 230, 240], 'min_samples_split': [2, 3, 4, 5, 10], 'min_samples_leaf': [1, 2, 3, 4], 'max_features': [2, 3, 4, 5, 6, 7], 'criterion': ['gini', 'entropy']}\n",
      "Fitting 3 folds for each of 3600 candidates, totalling 10800 fits\n",
      "\n",
      " Best parameters: \n",
      " {'criterion': 'entropy', 'max_features': 3, 'min_samples_leaf': 1, 'min_samples_split': 2, 'n_estimators': 180}\n",
      "\n",
      " Best Estimators: \n",
      " RandomForestClassifier(criterion='entropy', max_features=3, n_estimators=180,\n",
      "                       random_state=42)\n"
     ]
    }
   ],
   "source": [
    "# defining parameter range\n",
    "rf_param_grid = {\n",
    "    'n_estimators': list(range(100,250,10)),\n",
    "    'min_samples_split': [2, 3, 4, 5, 10],\n",
    "    'min_samples_leaf': [1, 2, 3, 4],\n",
    "    'max_features': list(range(2,8,1)),\n",
    "    'criterion':[\"gini\", \"entropy\"]\n",
    "}\n",
    "\n",
    "print(\"Parameter Grid: \",rf_param_grid)\n",
    "\n",
    "rf_grid = GridSearchCV(RandomForestClassifier(random_state = 42), rf_param_grid, refit = True,\n",
    "                       scoring=\"accuracy\", cv=3, verbose = 3, n_jobs=-1)\n",
    " \n",
    "# fitting the model for grid search\n",
    "rf_grid.fit(X_train_scaled, y_train)\n",
    "\n",
    "\n",
    "# print best parameter after tuning\n",
    "print(\"\\n Best parameters: \\n\",rf_grid.best_params_)\n",
    " \n",
    "# print how our model looks after hyper-parameter tuning\n",
    "print(\"\\n Best Estimators: \\n\",rf_grid.best_estimator_)"
   ]
  },
  {
   "cell_type": "code",
   "execution_count": 42,
   "id": "6003c752",
   "metadata": {},
   "outputs": [
    {
     "name": "stdout",
     "output_type": "stream",
     "text": [
      "\n",
      "==========================TEST=====================================\n",
      "confusion matrix: \n",
      " [[ 6  2]\n",
      " [ 3 51]]\n",
      "\n",
      "Accuracy: 0.919\n",
      "Precision: 0.962\n",
      "Sensitivity/recall: 0.944\n",
      "Specificity: 0.750\n",
      "Balanced Accuracy: 0.847\n",
      "F1 score: 0.953\n",
      "Classification report: \n",
      "               precision    recall  f1-score   support\n",
      "\n",
      "          NO       0.67      0.75      0.71         8\n",
      "         YES       0.96      0.94      0.95        54\n",
      "\n",
      "    accuracy                           0.92        62\n",
      "   macro avg       0.81      0.85      0.83        62\n",
      "weighted avg       0.92      0.92      0.92        62\n",
      "\n"
     ]
    }
   ],
   "source": [
    "# try with the optimal parameter and evaluate on test set\n",
    "opt_rf = RandomForestClassifier(criterion='entropy', max_features=3, n_estimators=180, random_state=42)\n",
    "opt_rf.fit(X_train_scaled, y_train)\n",
    "rf_test_pred = opt_rf.predict(X_test_scaled)\n",
    "all_scores_dict['RF_opt'], rf_opt_cm = evaluate_model(y_test, rf_test_pred, 'TEST')"
   ]
  },
  {
   "cell_type": "code",
   "execution_count": 43,
   "id": "28181e8c",
   "metadata": {},
   "outputs": [
    {
     "data": {
      "image/png": "[encoded data removed]",
      "text/plain": [
       "<Figure size 432x288 with 2 Axes>"
      ]
     },
     "metadata": {
      "needs_background": "light"
     },
     "output_type": "display_data"
    }
   ],
   "source": [
    "plot_confusion_matrix_heatmap(rf_opt_cm, \"rf_opt_cm\")"
   ]
  },
  {
   "cell_type": "markdown",
   "id": "Ea0P1g9G-b-u",
   "metadata": {
    "id": "Ea0P1g9G-b-u"
   },
   "source": [
    "### Algorithm 5: Gradient Boosting Model (GradientBoostClassifier)"
   ]
  },
  {
   "cell_type": "code",
   "execution_count": 44,
   "id": "Wix5P_8qlR7C",
   "metadata": {
    "colab": {
     "base_uri": "https://localhost:8080/"
    },
    "id": "Wix5P_8qlR7C",
    "outputId": "0d6c1bed-58af-4c0d-bd5a-927a0539885b"
   },
   "outputs": [
    {
     "name": "stdout",
     "output_type": "stream",
     "text": [
      "\n",
      "==========================TEST=====================================\n",
      "confusion matrix: \n",
      " [[ 4  4]\n",
      " [ 5 49]]\n",
      "\n",
      "Accuracy: 0.855\n",
      "Precision: 0.925\n",
      "Sensitivity/recall: 0.907\n",
      "Specificity: 0.500\n",
      "Balanced Accuracy: 0.704\n",
      "F1 score: 0.916\n",
      "Classification report: \n",
      "               precision    recall  f1-score   support\n",
      "\n",
      "          NO       0.44      0.50      0.47         8\n",
      "         YES       0.92      0.91      0.92        54\n",
      "\n",
      "    accuracy                           0.85        62\n",
      "   macro avg       0.68      0.70      0.69        62\n",
      "weighted avg       0.86      0.85      0.86        62\n",
      "\n"
     ]
    }
   ],
   "source": [
    "gb_model = GradientBoostingClassifier(random_state=42)\n",
    "gb_model.fit(X_train_scaled, y_train)\n",
    "\n",
    "\n",
    "# evaluate test set/Generalization scores\n",
    "gb_test_pred = gb_model.predict(X_test_scaled)\n",
    "all_scores_dict['GBoosting'], gb_cm = evaluate_model(y_test, gb_test_pred, 'TEST')"
   ]
  },
  {
   "cell_type": "markdown",
   "id": "CTK56JAEnFvB",
   "metadata": {
    "id": "CTK56JAEnFvB"
   },
   "source": [
    "Gradient Boosting hyperparameter tuning using GridSearchCV (Note: all hyperparameter tuning cells takes a very long time, so DO NOT RERUN)"
   ]
  },
  {
   "cell_type": "code",
   "execution_count": 67,
   "id": "wCb6rfCho9Ja",
   "metadata": {
    "colab": {
     "base_uri": "https://localhost:8080/"
    },
    "id": "wCb6rfCho9Ja",
    "outputId": "621e310c-c838-4fae-dd37-4856a87c55f2"
   },
   "outputs": [],
   "source": [
    "gb_param_grid = {'max_depth':range(1,16,1),\n",
    "                 'min_samples_split':range(2,50,2),\n",
    "                 'max_features':range(7,20,2),\n",
    "                 'min_samples_leaf':range(2,50,2),\n",
    "                 'subsample':[0.5,0.6,0.7,0.75,0.8,0.85,0.9],\n",
    "                }\n",
    "\n",
    "print(\"Parameter Grid: \",gb_param_grid)\n",
    "\n",
    "gb_grid = GridSearchCV(estimator = GradientBoostingClassifier(random_state=42, learning_rate=0.05),\n",
    "                        param_grid = gb_param_grid, scoring='accuracy',n_jobs=4, cv=3, verbose = 3)\n",
    " \n",
    "# fitting the model for grid search\n",
    "gb_grid.fit(X_train_scaled, y_train)\n",
    "\n",
    "# print best parameter after tuning\n",
    "print(\"\\n Best parameters: \\n\",gb_grid.best_params_)\n",
    " \n",
    "# print how our model looks after hyper-parameter tuning\n",
    "print(\"\\n Best Estimators: \\n\",gb_grid.best_estimator_)"
   ]
  },
  {
   "cell_type": "code",
   "execution_count": 45,
   "id": "6fcbQoihGBhR",
   "metadata": {
    "colab": {
     "base_uri": "https://localhost:8080/"
    },
    "id": "6fcbQoihGBhR",
    "outputId": "0f2d9d49-d6ca-4baa-85fa-1044e8879669"
   },
   "outputs": [
    {
     "name": "stdout",
     "output_type": "stream",
     "text": [
      "\n",
      "==========================TEST=====================================\n",
      "confusion matrix: \n",
      " [[ 4  4]\n",
      " [ 2 52]]\n",
      "\n",
      "Accuracy: 0.903\n",
      "Precision: 0.929\n",
      "Sensitivity/recall: 0.963\n",
      "Specificity: 0.500\n",
      "Balanced Accuracy: 0.731\n",
      "F1 score: 0.945\n",
      "Classification report: \n",
      "               precision    recall  f1-score   support\n",
      "\n",
      "          NO       0.67      0.50      0.57         8\n",
      "         YES       0.93      0.96      0.95        54\n",
      "\n",
      "    accuracy                           0.90        62\n",
      "   macro avg       0.80      0.73      0.76        62\n",
      "weighted avg       0.89      0.90      0.90        62\n",
      "\n"
     ]
    }
   ],
   "source": [
    "# try with the optimal parameter and evaluate on test set\n",
    "gb_best_params = {'learning_rate':0.05, 'n_estimators':60,'max_depth':3,\n",
    "                  'min_samples_split':2, 'min_samples_leaf':1, 'subsample':0.6,\n",
    "                  'max_features':3}\n",
    "\n",
    "opt_gb = GradientBoostingClassifier(**gb_best_params, random_state=42)\n",
    "opt_gb.fit(X_train_scaled, y_train)\n",
    "gb_test_pred = opt_gb.predict(X_test_scaled)\n",
    "all_scores_dict['GB_opt'], gb_opt_cm = evaluate_model(y_test, gb_test_pred, 'TEST')"
   ]
  },
  {
   "cell_type": "code",
   "execution_count": 46,
   "id": "bc0eb0fe",
   "metadata": {},
   "outputs": [
    {
     "data": {
      "image/png": "[encoded data removed]",
      "text/plain": [
       "<Figure size 432x288 with 2 Axes>"
      ]
     },
     "metadata": {
      "needs_background": "light"
     },
     "output_type": "display_data"
    }
   ],
   "source": [
    "plot_confusion_matrix_heatmap(gb_opt_cm, \"gb_opt_cm\")"
   ]
  },
  {
   "cell_type": "markdown",
   "id": "4db47497",
   "metadata": {},
   "source": [
    "### Algorithm 6: Naive Bayes"
   ]
  },
  {
   "cell_type": "code",
   "execution_count": 47,
   "id": "4405af50",
   "metadata": {},
   "outputs": [
    {
     "name": "stdout",
     "output_type": "stream",
     "text": [
      "\n",
      "==========================TEST=====================================\n",
      "confusion matrix: \n",
      " [[ 4  4]\n",
      " [ 5 49]]\n",
      "\n",
      "Accuracy: 0.855\n",
      "Precision: 0.925\n",
      "Sensitivity/recall: 0.907\n",
      "Specificity: 0.500\n",
      "Balanced Accuracy: 0.704\n",
      "F1 score: 0.916\n",
      "Classification report: \n",
      "               precision    recall  f1-score   support\n",
      "\n",
      "          NO       0.44      0.50      0.47         8\n",
      "         YES       0.92      0.91      0.92        54\n",
      "\n",
      "    accuracy                           0.85        62\n",
      "   macro avg       0.68      0.70      0.69        62\n",
      "weighted avg       0.86      0.85      0.86        62\n",
      "\n"
     ]
    }
   ],
   "source": [
    "from sklearn.naive_bayes import GaussianNB\n",
    "\n",
    "gnb_model = GaussianNB()\n",
    "gnb_model.fit(X_train_scaled, y_train)\n",
    "\n",
    "gnb_test_pred = gnb_model.predict(X_test_scaled)\n",
    "all_scores_dict['NB'], nb_cm = evaluate_model(y_test, gnb_test_pred, 'TEST')"
   ]
  },
  {
   "cell_type": "code",
   "execution_count": 48,
   "id": "c5b411b6",
   "metadata": {},
   "outputs": [
    {
     "name": "stdout",
     "output_type": "stream",
     "text": [
      "Parameter Grid:  {'var_smoothing': array([1.00000000e+00, 8.11130831e-01, 6.57933225e-01, 5.33669923e-01,\n",
      "       4.32876128e-01, 3.51119173e-01, 2.84803587e-01, 2.31012970e-01,\n",
      "       1.87381742e-01, 1.51991108e-01, 1.23284674e-01, 1.00000000e-01,\n",
      "       8.11130831e-02, 6.57933225e-02, 5.33669923e-02, 4.32876128e-02,\n",
      "       3.51119173e-02, 2.84803587e-02, 2.31012970e-02, 1.87381742e-02,\n",
      "       1.51991108e-02, 1.23284674e-02, 1.00000000e-02, 8.11130831e-03,\n",
      "       6.57933225e-03, 5.33669923e-03, 4.32876128e-03, 3.51119173e-03,\n",
      "       2.84803587e-03, 2.31012970e-03, 1.87381742e-03, 1.51991108e-03,\n",
      "       1.23284674e-03, 1.00000000e-03, 8.11130831e-04, 6.57933225e-04,\n",
      "       5.33669923e-04, 4.32876128e-04, 3.51119173e-04, 2.84803587e-04,\n",
      "       2.31012970e-04, 1.87381742e-04, 1.51991108e-04, 1.23284674e-04,\n",
      "       1.00000000e-04, 8.11130831e-05, 6.57933225e-05, 5.33669923e-05,\n",
      "       4.32876128e-05, 3.51119173e-05, 2.84803587e-05, 2.31012970e-05,\n",
      "       1.87381742e-05, 1.51991108e-05, 1.23284674e-05, 1.00000000e-05,\n",
      "       8.11130831e-06, 6.57933225e-06, 5.33669923e-06, 4.32876128e-06,\n",
      "       3.51119173e-06, 2.84803587e-06, 2.31012970e-06, 1.87381742e-06,\n",
      "       1.51991108e-06, 1.23284674e-06, 1.00000000e-06, 8.11130831e-07,\n",
      "       6.57933225e-07, 5.33669923e-07, 4.32876128e-07, 3.51119173e-07,\n",
      "       2.84803587e-07, 2.31012970e-07, 1.87381742e-07, 1.51991108e-07,\n",
      "       1.23284674e-07, 1.00000000e-07, 8.11130831e-08, 6.57933225e-08,\n",
      "       5.33669923e-08, 4.32876128e-08, 3.51119173e-08, 2.84803587e-08,\n",
      "       2.31012970e-08, 1.87381742e-08, 1.51991108e-08, 1.23284674e-08,\n",
      "       1.00000000e-08, 8.11130831e-09, 6.57933225e-09, 5.33669923e-09,\n",
      "       4.32876128e-09, 3.51119173e-09, 2.84803587e-09, 2.31012970e-09,\n",
      "       1.87381742e-09, 1.51991108e-09, 1.23284674e-09, 1.00000000e-09])}\n",
      "Fitting 3 folds for each of 100 candidates, totalling 300 fits\n",
      "\n",
      " Best parameters: \n",
      " {'var_smoothing': 0.533669923120631}\n",
      "\n",
      " Best Estimators: \n",
      " GaussianNB(var_smoothing=0.533669923120631)\n"
     ]
    }
   ],
   "source": [
    "nb_param_grid = {'var_smoothing': np.logspace(0,-9, num=100)}\n",
    "\n",
    "print(\"Parameter Grid: \",nb_param_grid)\n",
    "\n",
    "nb_grid = GridSearchCV(estimator = GaussianNB(),\n",
    "                        param_grid = nb_param_grid, scoring='accuracy',n_jobs=-1, cv=3, verbose = 3)\n",
    " \n",
    "# fitting the model for grid search\n",
    "nb_grid.fit(X_train_scaled, y_train)\n",
    "\n",
    "\n",
    "# print best parameter after tuning\n",
    "print(\"\\n Best parameters: \\n\",nb_grid.best_params_)\n",
    " \n",
    "# print how our model looks after hyper-parameter tuning\n",
    "print(\"\\n Best Estimators: \\n\",nb_grid.best_estimator_)"
   ]
  },
  {
   "cell_type": "code",
   "execution_count": 48,
   "id": "53589970",
   "metadata": {},
   "outputs": [
    {
     "name": "stdout",
     "output_type": "stream",
     "text": [
      "\n",
      "==========================TEST=====================================\n",
      "confusion matrix: \n",
      " [[ 4  4]\n",
      " [ 3 51]]\n",
      "\n",
      "Accuracy: 0.887\n",
      "Precision: 0.927\n",
      "Sensitivity/recall: 0.944\n",
      "Specificity: 0.500\n",
      "Balanced Accuracy: 0.722\n",
      "F1 score: 0.936\n",
      "Classification report: \n",
      "               precision    recall  f1-score   support\n",
      "\n",
      "          NO       0.57      0.50      0.53         8\n",
      "         YES       0.93      0.94      0.94        54\n",
      "\n",
      "    accuracy                           0.89        62\n",
      "   macro avg       0.75      0.72      0.73        62\n",
      "weighted avg       0.88      0.89      0.88        62\n",
      "\n"
     ]
    }
   ],
   "source": [
    "# try with the optimal parameter and evaluate on test set\n",
    "opt_nb = GaussianNB(var_smoothing=0.533669923120631)\n",
    "opt_nb.fit(X_train_scaled, y_train)\n",
    "\n",
    "nb_test_pred = opt_nb.predict(X_test_scaled)\n",
    "all_scores_dict['NB_opt'], nb_opt_cm = evaluate_model(y_test, nb_test_pred, 'TEST')"
   ]
  },
  {
   "cell_type": "code",
   "execution_count": 49,
   "id": "1025c2ba",
   "metadata": {},
   "outputs": [
    {
     "data": {
      "image/png": "[encoded data removed]",
      "text/plain": [
       "<Figure size 432x288 with 2 Axes>"
      ]
     },
     "metadata": {
      "needs_background": "light"
     },
     "output_type": "display_data"
    }
   ],
   "source": [
    "plot_confusion_matrix_heatmap(nb_opt_cm, \"nb_opt_cm\")"
   ]
  },
  {
   "cell_type": "markdown",
   "id": "b30df74a",
   "metadata": {},
   "source": [
    "### Algorithm 7: Linear Discriminant Analysis"
   ]
  },
  {
   "cell_type": "code",
   "execution_count": 50,
   "id": "44f90c6f",
   "metadata": {},
   "outputs": [
    {
     "name": "stdout",
     "output_type": "stream",
     "text": [
      "\n",
      "==========================TEST=====================================\n",
      "confusion matrix: \n",
      " [[ 5  3]\n",
      " [ 4 50]]\n",
      "\n",
      "Accuracy: 0.887\n",
      "Precision: 0.943\n",
      "Sensitivity/recall: 0.926\n",
      "Specificity: 0.625\n",
      "Balanced Accuracy: 0.775\n",
      "F1 score: 0.935\n",
      "Classification report: \n",
      "               precision    recall  f1-score   support\n",
      "\n",
      "          NO       0.56      0.62      0.59         8\n",
      "         YES       0.94      0.93      0.93        54\n",
      "\n",
      "    accuracy                           0.89        62\n",
      "   macro avg       0.75      0.78      0.76        62\n",
      "weighted avg       0.89      0.89      0.89        62\n",
      "\n"
     ]
    }
   ],
   "source": [
    "from sklearn.discriminant_analysis import LinearDiscriminantAnalysis\n",
    "lda_model = LinearDiscriminantAnalysis()\n",
    "lda_model.fit(X_train_scaled, y_train)\n",
    "\n",
    "lda_test_pred = lda_model.predict(X_test_scaled)\n",
    "all_scores_dict['LDA'], lda_cm = evaluate_model(y_test, lda_test_pred, 'TEST')"
   ]
  },
  {
   "cell_type": "code",
   "execution_count": 74,
   "id": "e7b06245",
   "metadata": {},
   "outputs": [
    {
     "name": "stdout",
     "output_type": "stream",
     "text": [
      "Parameter Grid:  {'solver': ['svd', 'lsqr', 'eigen'], 'shrinkage': array([0.  , 0.01, 0.02, 0.03, 0.04, 0.05, 0.06, 0.07, 0.08, 0.09, 0.1 ,\n",
      "       0.11, 0.12, 0.13, 0.14, 0.15, 0.16, 0.17, 0.18, 0.19, 0.2 , 0.21,\n",
      "       0.22, 0.23, 0.24, 0.25, 0.26, 0.27, 0.28, 0.29, 0.3 , 0.31, 0.32,\n",
      "       0.33, 0.34, 0.35, 0.36, 0.37, 0.38, 0.39, 0.4 , 0.41, 0.42, 0.43,\n",
      "       0.44, 0.45, 0.46, 0.47, 0.48, 0.49, 0.5 , 0.51, 0.52, 0.53, 0.54,\n",
      "       0.55, 0.56, 0.57, 0.58, 0.59, 0.6 , 0.61, 0.62, 0.63, 0.64, 0.65,\n",
      "       0.66, 0.67, 0.68, 0.69, 0.7 , 0.71, 0.72, 0.73, 0.74, 0.75, 0.76,\n",
      "       0.77, 0.78, 0.79, 0.8 , 0.81, 0.82, 0.83, 0.84, 0.85, 0.86, 0.87,\n",
      "       0.88, 0.89, 0.9 , 0.91, 0.92, 0.93, 0.94, 0.95, 0.96, 0.97, 0.98,\n",
      "       0.99])}\n",
      "Fitting 10 folds for each of 300 candidates, totalling 3000 fits\n",
      "\n",
      " Best parameters: \n",
      " {'shrinkage': 0.17, 'solver': 'lsqr'}\n",
      "\n",
      " Best Estimators: \n",
      " LinearDiscriminantAnalysis(shrinkage=0.17, solver='lsqr')\n"
     ]
    }
   ],
   "source": [
    "lda_param_grid = {'solver':['svd', 'lsqr', 'eigen'],\n",
    "                  'shrinkage': np.arange(0, 1, 0.01)}\n",
    "\n",
    "print(\"Parameter Grid: \",lda_param_grid)\n",
    "\n",
    "lda_grid = GridSearchCV(estimator = LinearDiscriminantAnalysis(),\n",
    "                        param_grid = lda_param_grid, scoring='accuracy',n_jobs=-1, cv=10, verbose = 3)\n",
    " \n",
    "# fitting the model for grid search\n",
    "lda_grid.fit(X_train_scaled, y_train)\n",
    "\n",
    "\n",
    "\n",
    "# print best parameter after tuning\n",
    "print(\"\\n Best parameters: \\n\",lda_grid.best_params_)\n",
    " \n",
    "# print how our model looks after hyper-parameter tuning\n",
    "print(\"\\n Best Estimators: \\n\",lda_grid.best_estimator_)"
   ]
  },
  {
   "cell_type": "code",
   "execution_count": 51,
   "id": "e8d8de89",
   "metadata": {},
   "outputs": [
    {
     "name": "stdout",
     "output_type": "stream",
     "text": [
      "\n",
      "==========================TEST=====================================\n",
      "confusion matrix: \n",
      " [[ 5  3]\n",
      " [ 3 51]]\n",
      "\n",
      "Accuracy: 0.903\n",
      "Precision: 0.944\n",
      "Sensitivity/recall: 0.944\n",
      "Specificity: 0.625\n",
      "Balanced Accuracy: 0.785\n",
      "F1 score: 0.944\n",
      "Classification report: \n",
      "               precision    recall  f1-score   support\n",
      "\n",
      "          NO       0.62      0.62      0.62         8\n",
      "         YES       0.94      0.94      0.94        54\n",
      "\n",
      "    accuracy                           0.90        62\n",
      "   macro avg       0.78      0.78      0.78        62\n",
      "weighted avg       0.90      0.90      0.90        62\n",
      "\n"
     ]
    }
   ],
   "source": [
    "# try with the optimal parameter and evaluate on test set\n",
    "opt_lda = LinearDiscriminantAnalysis(shrinkage=0.17, solver='lsqr')\n",
    "opt_lda.fit(X_train_scaled, y_train)\n",
    "lda_test_pred = opt_lda.predict(X_test_scaled)\n",
    "all_scores_dict['LDA_opt'], lda_opt_cm = evaluate_model(y_test, lda_test_pred, 'TEST')"
   ]
  },
  {
   "cell_type": "code",
   "execution_count": 52,
   "id": "d757e989",
   "metadata": {},
   "outputs": [
    {
     "data": {
      "image/png": "[encoded data removed]",
      "text/plain": [
       "<Figure size 432x288 with 2 Axes>"
      ]
     },
     "metadata": {
      "needs_background": "light"
     },
     "output_type": "display_data"
    }
   ],
   "source": [
    "plot_confusion_matrix_heatmap(lda_opt_cm, \"lda_opt_cm\")"
   ]
  },
  {
   "cell_type": "markdown",
   "id": "0af26ee7",
   "metadata": {},
   "source": [
    "### Algorithm 8: Decision Tree"
   ]
  },
  {
   "cell_type": "code",
   "execution_count": 53,
   "id": "d757e3a1",
   "metadata": {},
   "outputs": [
    {
     "name": "stdout",
     "output_type": "stream",
     "text": [
      "\n",
      "==========================TEST=====================================\n",
      "confusion matrix: \n",
      " [[ 7  1]\n",
      " [ 4 50]]\n",
      "\n",
      "Accuracy: 0.919\n",
      "Precision: 0.980\n",
      "Sensitivity/recall: 0.926\n",
      "Specificity: 0.875\n",
      "Balanced Accuracy: 0.900\n",
      "F1 score: 0.952\n",
      "Classification report: \n",
      "               precision    recall  f1-score   support\n",
      "\n",
      "          NO       0.64      0.88      0.74         8\n",
      "         YES       0.98      0.93      0.95        54\n",
      "\n",
      "    accuracy                           0.92        62\n",
      "   macro avg       0.81      0.90      0.84        62\n",
      "weighted avg       0.94      0.92      0.92        62\n",
      "\n"
     ]
    }
   ],
   "source": [
    "from sklearn.tree import DecisionTreeClassifier\n",
    "dt_model = DecisionTreeClassifier(random_state=42)\n",
    "dt_model.fit(X_train_scaled, y_train)\n",
    "\n",
    "dt_test_pred = dt_model.predict(X_test_scaled)\n",
    "all_scores_dict['DT'], dt_cm = evaluate_model(y_test, dt_test_pred, 'TEST')"
   ]
  },
  {
   "cell_type": "code",
   "execution_count": 98,
   "id": "f7cff0aa",
   "metadata": {},
   "outputs": [
    {
     "name": "stdout",
     "output_type": "stream",
     "text": [
      "Parameter Grid:  {'max_depth': [None, 1, 2, 3, 5, 10, 20], 'min_samples_leaf': [1, 2, 4, 5, 10, 20, 50], 'criterion': ['gini', 'entropy'], 'min_samples_split': [1, 2, 5, 6, 8, 10], 'max_features': ['auto', 'sqrt', 'log2']}\n",
      "Fitting 3 folds for each of 1764 candidates, totalling 5292 fits\n",
      "\n",
      " Best parameters: \n",
      " {'criterion': 'entropy', 'max_depth': None, 'max_features': 'auto', 'min_samples_leaf': 2, 'min_samples_split': 8}\n",
      "\n",
      " Best Estimators: \n",
      " DecisionTreeClassifier(criterion='entropy', max_features='auto',\n",
      "                       min_samples_leaf=2, min_samples_split=8,\n",
      "                       random_state=42)\n"
     ]
    }
   ],
   "source": [
    " # Create the parameter grid based on the results of random search \n",
    "dt_param_grid = {'max_depth': [None,1, 2, 3, 5, 10, 20],\n",
    "                 'min_samples_leaf': [1, 2, 4, 5, 10, 20, 50],\n",
    "                 'criterion': [\"gini\", \"entropy\"],\n",
    "                 'min_samples_split': [1,2, 5, 6, 8, 10],\n",
    "                 'max_features': ['auto', 'sqrt', 'log2']\n",
    "                }\n",
    "\n",
    "print(\"Parameter Grid: \",dt_param_grid)\n",
    "\n",
    "dt_grid = GridSearchCV(estimator = DecisionTreeClassifier(random_state=42),\n",
    "                        param_grid = dt_param_grid, scoring='accuracy',n_jobs=-1, cv=3, verbose = 3)\n",
    " \n",
    "# fitting the model for grid search\n",
    "dt_grid.fit(X_train_scaled, y_train)\n",
    "\n",
    "\n",
    "\n",
    "# print best parameter after tuning\n",
    "print(\"\\n Best parameters: \\n\",dt_grid.best_params_)\n",
    " \n",
    "# print how our model looks after hyper-parameter tuning\n",
    "print(\"\\n Best Estimators: \\n\",dt_grid.best_estimator_)"
   ]
  },
  {
   "cell_type": "code",
   "execution_count": 54,
   "id": "9b1462f0",
   "metadata": {},
   "outputs": [
    {
     "name": "stdout",
     "output_type": "stream",
     "text": [
      "\n",
      "==========================TEST=====================================\n",
      "confusion matrix: \n",
      " [[ 7  1]\n",
      " [ 4 50]]\n",
      "\n",
      "Accuracy: 0.919\n",
      "Precision: 0.980\n",
      "Sensitivity/recall: 0.926\n",
      "Specificity: 0.875\n",
      "Balanced Accuracy: 0.900\n",
      "F1 score: 0.952\n",
      "Classification report: \n",
      "               precision    recall  f1-score   support\n",
      "\n",
      "          NO       0.64      0.88      0.74         8\n",
      "         YES       0.98      0.93      0.95        54\n",
      "\n",
      "    accuracy                           0.92        62\n",
      "   macro avg       0.81      0.90      0.84        62\n",
      "weighted avg       0.94      0.92      0.92        62\n",
      "\n"
     ]
    }
   ],
   "source": [
    "# try with the optimal parameter and evaluate on test set\n",
    "opt_dt = DecisionTreeClassifier(random_state=42) # best params returned performed less than the default params\n",
    "\n",
    "opt_dt.fit(X_train_scaled, y_train)\n",
    "dt_test_pred = opt_dt.predict(X_test_scaled)\n",
    "all_scores_dict['DT_opt'], dt_opt_cm = evaluate_model(y_test, dt_test_pred, 'TEST')"
   ]
  },
  {
   "cell_type": "code",
   "execution_count": 55,
   "id": "1e36ee33",
   "metadata": {},
   "outputs": [
    {
     "data": {
      "image/png": "[encoded data removed]",
      "text/plain": [
       "<Figure size 432x288 with 2 Axes>"
      ]
     },
     "metadata": {
      "needs_background": "light"
     },
     "output_type": "display_data"
    }
   ],
   "source": [
    "plot_confusion_matrix_heatmap(dt_opt_cm, \"dt_opt_cm\")"
   ]
  },
  {
   "cell_type": "markdown",
   "id": "6de22746",
   "metadata": {},
   "source": [
    "### Algorithm 9: Bagging"
   ]
  },
  {
   "cell_type": "code",
   "execution_count": 56,
   "id": "8e83150c",
   "metadata": {},
   "outputs": [
    {
     "name": "stdout",
     "output_type": "stream",
     "text": [
      "\n",
      "==========================TEST=====================================\n",
      "confusion matrix: \n",
      " [[ 6  2]\n",
      " [ 6 48]]\n",
      "\n",
      "Accuracy: 0.871\n",
      "Precision: 0.960\n",
      "Sensitivity/recall: 0.889\n",
      "Specificity: 0.750\n",
      "Balanced Accuracy: 0.819\n",
      "F1 score: 0.923\n",
      "Classification report: \n",
      "               precision    recall  f1-score   support\n",
      "\n",
      "          NO       0.50      0.75      0.60         8\n",
      "         YES       0.96      0.89      0.92        54\n",
      "\n",
      "    accuracy                           0.87        62\n",
      "   macro avg       0.73      0.82      0.76        62\n",
      "weighted avg       0.90      0.87      0.88        62\n",
      "\n"
     ]
    }
   ],
   "source": [
    "from sklearn.ensemble import BaggingClassifier\n",
    "\n",
    "# Create bagging classifier\n",
    "bc_model = BaggingClassifier(n_estimators=6,random_state = 22)\n",
    "# Fit the model\n",
    "bc_model.fit(X_train_scaled, y_train)\n",
    "\n",
    "bc_test_pred = bc_model.predict(X_test_scaled)\n",
    "all_scores_dict['Bagging'], bagging_cm = evaluate_model(y_test, bc_test_pred, 'TEST')"
   ]
  },
  {
   "cell_type": "code",
   "execution_count": 115,
   "id": "b575cc20",
   "metadata": {},
   "outputs": [
    {
     "name": "stdout",
     "output_type": "stream",
     "text": [
      "Parameter Grid:  {'n_estimators': range(1, 50, 2)}\n",
      "Fitting 10 folds for each of 25 candidates, totalling 250 fits\n",
      "\n",
      " Best parameters: \n",
      " {'n_estimators': 49}\n",
      "\n",
      " Best Estimators: \n",
      " BaggingClassifier(n_estimators=49, random_state=42)\n"
     ]
    }
   ],
   "source": [
    " # Create the parameter grid based on the results of random search \n",
    "bc_param_grid = {'n_estimators':range(1,50,2)}\n",
    "\n",
    "print(\"Parameter Grid: \",bc_param_grid)\n",
    "\n",
    "bc_grid = GridSearchCV(estimator = BaggingClassifier(random_state = 42),\n",
    "                        param_grid = bc_param_grid, scoring='accuracy',n_jobs=-1, cv=10, verbose = 3)\n",
    " \n",
    "# fitting the model for grid search\n",
    "bc_grid.fit(X_train_scaled, y_train)\n",
    "\n",
    "\n",
    "\n",
    "# print best parameter after tuning\n",
    "print(\"\\n Best parameters: \\n\",bc_grid.best_params_)\n",
    " \n",
    "# print how our model looks after hyper-parameter tuning\n",
    "print(\"\\n Best Estimators: \\n\",bc_grid.best_estimator_)"
   ]
  },
  {
   "cell_type": "code",
   "execution_count": 59,
   "id": "347075ca",
   "metadata": {},
   "outputs": [
    {
     "name": "stdout",
     "output_type": "stream",
     "text": [
      "\n",
      "==========================TEST=====================================\n",
      "confusion matrix: \n",
      " [[ 6  2]\n",
      " [ 5 49]]\n",
      "\n",
      "Accuracy: 0.887\n",
      "Precision: 0.961\n",
      "Sensitivity/recall: 0.907\n",
      "Specificity: 0.750\n",
      "Balanced Accuracy: 0.829\n",
      "F1 score: 0.933\n",
      "Classification report: \n",
      "               precision    recall  f1-score   support\n",
      "\n",
      "          NO       0.55      0.75      0.63         8\n",
      "         YES       0.96      0.91      0.93        54\n",
      "\n",
      "    accuracy                           0.89        62\n",
      "   macro avg       0.75      0.83      0.78        62\n",
      "weighted avg       0.91      0.89      0.89        62\n",
      "\n"
     ]
    }
   ],
   "source": [
    "# try with the optimal parameter and evaluate on test set\n",
    "opt_bc = BaggingClassifier(n_estimators=49, random_state=42) # best params returned performed less than the default params\n",
    "\n",
    "opt_bc.fit(X_train_scaled, y_train)\n",
    "bc_test_pred = opt_bc.predict(X_test_scaled)\n",
    "all_scores_dict['Bagging_opt'], bagging_opt_cm = evaluate_model(y_test, bc_test_pred, 'TEST')"
   ]
  },
  {
   "cell_type": "code",
   "execution_count": 60,
   "id": "5dbb7027",
   "metadata": {},
   "outputs": [
    {
     "data": {
      "image/png": "[encoded data removed]",
      "text/plain": [
       "<Figure size 432x288 with 2 Axes>"
      ]
     },
     "metadata": {
      "needs_background": "light"
     },
     "output_type": "display_data"
    }
   ],
   "source": [
    "plot_confusion_matrix_heatmap(bagging_opt_cm, \"bagging_opt_cm\")"
   ]
  },
  {
   "cell_type": "markdown",
   "id": "50551d6b",
   "metadata": {},
   "source": [
    "### Algorithm 10: NeuralNet"
   ]
  },
  {
   "cell_type": "code",
   "execution_count": 61,
   "id": "d04d9055",
   "metadata": {
    "scrolled": true
   },
   "outputs": [
    {
     "name": "stdout",
     "output_type": "stream",
     "text": [
      "Model: \"sequential\"\n",
      "_________________________________________________________________\n",
      " Layer (type)                Output Shape              Param #   \n",
      "=================================================================\n",
      " dense (Dense)               (None, 32)                512       \n",
      "                                                                 \n",
      " dense_1 (Dense)             (None, 100)               3300      \n",
      "                                                                 \n",
      " dense_2 (Dense)             (None, 64)                6464      \n",
      "                                                                 \n",
      " dense_3 (Dense)             (None, 1)                 65        \n",
      "                                                                 \n",
      "=================================================================\n",
      "Total params: 10,341\n",
      "Trainable params: 10,341\n",
      "Non-trainable params: 0\n",
      "_________________________________________________________________\n",
      "Epoch 1/100\n",
      "4/4 [==============================] - 1s 45ms/step - loss: 0.6549 - accuracy: 0.5951 - val_loss: 0.5239 - val_accuracy: 0.8387\n",
      "Epoch 2/100\n",
      "4/4 [==============================] - 0s 7ms/step - loss: 0.4195 - accuracy: 0.8462 - val_loss: 0.4655 - val_accuracy: 0.8710\n",
      "Epoch 3/100\n",
      "4/4 [==============================] - 0s 7ms/step - loss: 0.3547 - accuracy: 0.8745 - val_loss: 0.4659 - val_accuracy: 0.8710\n",
      "Epoch 4/100\n",
      "4/4 [==============================] - 0s 6ms/step - loss: 0.3324 - accuracy: 0.8745 - val_loss: 0.4524 - val_accuracy: 0.8710\n",
      "Epoch 5/100\n",
      "4/4 [==============================] - 0s 7ms/step - loss: 0.3082 - accuracy: 0.8745 - val_loss: 0.4198 - val_accuracy: 0.8710\n",
      "Epoch 6/100\n",
      "4/4 [==============================] - 0s 7ms/step - loss: 0.2793 - accuracy: 0.8745 - val_loss: 0.3808 - val_accuracy: 0.8548\n",
      "Epoch 7/100\n",
      "4/4 [==============================] - 0s 6ms/step - loss: 0.2522 - accuracy: 0.8785 - val_loss: 0.3496 - val_accuracy: 0.8710\n",
      "Epoch 8/100\n",
      "4/4 [==============================] - 0s 7ms/step - loss: 0.2323 - accuracy: 0.9028 - val_loss: 0.3279 - val_accuracy: 0.8548\n",
      "Epoch 9/100\n",
      "4/4 [==============================] - 0s 7ms/step - loss: 0.2164 - accuracy: 0.9150 - val_loss: 0.3153 - val_accuracy: 0.8548\n",
      "Epoch 10/100\n",
      "4/4 [==============================] - 0s 7ms/step - loss: 0.2065 - accuracy: 0.9190 - val_loss: 0.3070 - val_accuracy: 0.8710\n",
      "Epoch 11/100\n",
      "4/4 [==============================] - 0s 6ms/step - loss: 0.1945 - accuracy: 0.9231 - val_loss: 0.3030 - val_accuracy: 0.8871\n",
      "Epoch 12/100\n",
      "4/4 [==============================] - 0s 6ms/step - loss: 0.1847 - accuracy: 0.9231 - val_loss: 0.2994 - val_accuracy: 0.8871\n",
      "Epoch 13/100\n",
      "4/4 [==============================] - 0s 6ms/step - loss: 0.1749 - accuracy: 0.9231 - val_loss: 0.2963 - val_accuracy: 0.8871\n",
      "Epoch 14/100\n",
      "4/4 [==============================] - 0s 6ms/step - loss: 0.1665 - accuracy: 0.9312 - val_loss: 0.2935 - val_accuracy: 0.8871\n",
      "Epoch 15/100\n",
      "4/4 [==============================] - 0s 6ms/step - loss: 0.1585 - accuracy: 0.9433 - val_loss: 0.2913 - val_accuracy: 0.8871\n",
      "Epoch 16/100\n",
      "4/4 [==============================] - 0s 6ms/step - loss: 0.1509 - accuracy: 0.9433 - val_loss: 0.2890 - val_accuracy: 0.8871\n",
      "Epoch 17/100\n",
      "4/4 [==============================] - 0s 7ms/step - loss: 0.1445 - accuracy: 0.9433 - val_loss: 0.2879 - val_accuracy: 0.8871\n",
      "Epoch 18/100\n",
      "4/4 [==============================] - 0s 7ms/step - loss: 0.1387 - accuracy: 0.9474 - val_loss: 0.2879 - val_accuracy: 0.8871\n",
      "Epoch 19/100\n",
      "4/4 [==============================] - 0s 7ms/step - loss: 0.1331 - accuracy: 0.9474 - val_loss: 0.2879 - val_accuracy: 0.8871\n",
      "Epoch 20/100\n",
      "4/4 [==============================] - 0s 7ms/step - loss: 0.1276 - accuracy: 0.9514 - val_loss: 0.2856 - val_accuracy: 0.8871\n",
      "Epoch 21/100\n",
      "4/4 [==============================] - 0s 6ms/step - loss: 0.1226 - accuracy: 0.9555 - val_loss: 0.2860 - val_accuracy: 0.8871\n",
      "Epoch 22/100\n",
      "4/4 [==============================] - 0s 6ms/step - loss: 0.1180 - accuracy: 0.9555 - val_loss: 0.2859 - val_accuracy: 0.8871\n",
      "Epoch 23/100\n",
      "4/4 [==============================] - 0s 7ms/step - loss: 0.1132 - accuracy: 0.9595 - val_loss: 0.2876 - val_accuracy: 0.8871\n",
      "Epoch 24/100\n",
      "4/4 [==============================] - 0s 7ms/step - loss: 0.1094 - accuracy: 0.9595 - val_loss: 0.2872 - val_accuracy: 0.9032\n",
      "Epoch 25/100\n",
      "4/4 [==============================] - 0s 7ms/step - loss: 0.1048 - accuracy: 0.9636 - val_loss: 0.2881 - val_accuracy: 0.8871\n",
      "Epoch 26/100\n",
      "4/4 [==============================] - 0s 7ms/step - loss: 0.1011 - accuracy: 0.9636 - val_loss: 0.2890 - val_accuracy: 0.9032\n",
      "Epoch 27/100\n",
      "4/4 [==============================] - 0s 7ms/step - loss: 0.0979 - accuracy: 0.9676 - val_loss: 0.2898 - val_accuracy: 0.8871\n",
      "Epoch 28/100\n",
      "4/4 [==============================] - 0s 6ms/step - loss: 0.0939 - accuracy: 0.9676 - val_loss: 0.2911 - val_accuracy: 0.8871\n",
      "Epoch 29/100\n",
      "4/4 [==============================] - 0s 9ms/step - loss: 0.0900 - accuracy: 0.9676 - val_loss: 0.2943 - val_accuracy: 0.8871\n",
      "Epoch 30/100\n",
      "4/4 [==============================] - 0s 6ms/step - loss: 0.0871 - accuracy: 0.9676 - val_loss: 0.2967 - val_accuracy: 0.8871\n",
      "Epoch 31/100\n",
      "4/4 [==============================] - 0s 7ms/step - loss: 0.0848 - accuracy: 0.9676 - val_loss: 0.2980 - val_accuracy: 0.8871\n",
      "Epoch 32/100\n",
      "4/4 [==============================] - 0s 6ms/step - loss: 0.0815 - accuracy: 0.9717 - val_loss: 0.3000 - val_accuracy: 0.8871\n",
      "Epoch 33/100\n",
      "4/4 [==============================] - 0s 7ms/step - loss: 0.0789 - accuracy: 0.9717 - val_loss: 0.3017 - val_accuracy: 0.8871\n",
      "Epoch 34/100\n",
      "4/4 [==============================] - 0s 6ms/step - loss: 0.0763 - accuracy: 0.9717 - val_loss: 0.3046 - val_accuracy: 0.8871\n",
      "Epoch 35/100\n",
      "4/4 [==============================] - 0s 6ms/step - loss: 0.0739 - accuracy: 0.9717 - val_loss: 0.3070 - val_accuracy: 0.9032\n",
      "Epoch 36/100\n",
      "4/4 [==============================] - 0s 7ms/step - loss: 0.0715 - accuracy: 0.9676 - val_loss: 0.3106 - val_accuracy: 0.9032\n",
      "Epoch 37/100\n",
      "4/4 [==============================] - 0s 7ms/step - loss: 0.0693 - accuracy: 0.9676 - val_loss: 0.3143 - val_accuracy: 0.9032\n",
      "Epoch 38/100\n",
      "4/4 [==============================] - 0s 7ms/step - loss: 0.0672 - accuracy: 0.9676 - val_loss: 0.3174 - val_accuracy: 0.9032\n",
      "Epoch 39/100\n",
      "4/4 [==============================] - 0s 7ms/step - loss: 0.0651 - accuracy: 0.9717 - val_loss: 0.3214 - val_accuracy: 0.9032\n",
      "Epoch 40/100\n",
      "4/4 [==============================] - 0s 7ms/step - loss: 0.0629 - accuracy: 0.9717 - val_loss: 0.3246 - val_accuracy: 0.9032\n",
      "Epoch 41/100\n",
      "4/4 [==============================] - 0s 7ms/step - loss: 0.0617 - accuracy: 0.9717 - val_loss: 0.3289 - val_accuracy: 0.9032\n",
      "Epoch 42/100\n",
      "4/4 [==============================] - 0s 6ms/step - loss: 0.0593 - accuracy: 0.9798 - val_loss: 0.3315 - val_accuracy: 0.8871\n",
      "Epoch 43/100\n",
      "4/4 [==============================] - 0s 6ms/step - loss: 0.0584 - accuracy: 0.9757 - val_loss: 0.3350 - val_accuracy: 0.9032\n",
      "Epoch 44/100\n",
      "4/4 [==============================] - 0s 7ms/step - loss: 0.0563 - accuracy: 0.9798 - val_loss: 0.3379 - val_accuracy: 0.8871\n",
      "Epoch 45/100\n",
      "4/4 [==============================] - 0s 7ms/step - loss: 0.0550 - accuracy: 0.9757 - val_loss: 0.3426 - val_accuracy: 0.8871\n",
      "Epoch 46/100\n",
      "4/4 [==============================] - 0s 7ms/step - loss: 0.0534 - accuracy: 0.9838 - val_loss: 0.3458 - val_accuracy: 0.8871\n",
      "Epoch 47/100\n",
      "4/4 [==============================] - 0s 7ms/step - loss: 0.0526 - accuracy: 0.9838 - val_loss: 0.3495 - val_accuracy: 0.8871\n",
      "Epoch 48/100\n",
      "4/4 [==============================] - 0s 6ms/step - loss: 0.0511 - accuracy: 0.9838 - val_loss: 0.3542 - val_accuracy: 0.8871\n",
      "Epoch 49/100\n",
      "4/4 [==============================] - 0s 7ms/step - loss: 0.0500 - accuracy: 0.9838 - val_loss: 0.3589 - val_accuracy: 0.8871\n",
      "Epoch 50/100\n",
      "4/4 [==============================] - 0s 6ms/step - loss: 0.0489 - accuracy: 0.9838 - val_loss: 0.3617 - val_accuracy: 0.8871\n",
      "Epoch 51/100\n",
      "4/4 [==============================] - 0s 7ms/step - loss: 0.0479 - accuracy: 0.9838 - val_loss: 0.3641 - val_accuracy: 0.9032\n",
      "Epoch 52/100\n",
      "4/4 [==============================] - 0s 7ms/step - loss: 0.0465 - accuracy: 0.9838 - val_loss: 0.3673 - val_accuracy: 0.8871\n"
     ]
    },
    {
     "name": "stdout",
     "output_type": "stream",
     "text": [
      "Epoch 53/100\n",
      "4/4 [==============================] - 0s 6ms/step - loss: 0.0453 - accuracy: 0.9879 - val_loss: 0.3727 - val_accuracy: 0.8871\n",
      "Epoch 54/100\n",
      "4/4 [==============================] - 0s 7ms/step - loss: 0.0449 - accuracy: 0.9838 - val_loss: 0.3788 - val_accuracy: 0.8871\n",
      "Epoch 55/100\n",
      "4/4 [==============================] - 0s 7ms/step - loss: 0.0440 - accuracy: 0.9879 - val_loss: 0.3836 - val_accuracy: 0.8871\n",
      "Epoch 56/100\n",
      "4/4 [==============================] - 0s 6ms/step - loss: 0.0436 - accuracy: 0.9879 - val_loss: 0.3875 - val_accuracy: 0.8871\n",
      "Epoch 57/100\n",
      "4/4 [==============================] - 0s 7ms/step - loss: 0.0416 - accuracy: 0.9879 - val_loss: 0.3885 - val_accuracy: 0.9032\n",
      "Epoch 58/100\n",
      "4/4 [==============================] - 0s 7ms/step - loss: 0.0413 - accuracy: 0.9879 - val_loss: 0.3900 - val_accuracy: 0.9032\n",
      "Epoch 59/100\n",
      "4/4 [==============================] - 0s 7ms/step - loss: 0.0401 - accuracy: 0.9879 - val_loss: 0.3940 - val_accuracy: 0.9032\n",
      "Epoch 60/100\n",
      "4/4 [==============================] - 0s 6ms/step - loss: 0.0393 - accuracy: 0.9879 - val_loss: 0.3998 - val_accuracy: 0.8871\n",
      "Epoch 61/100\n",
      "4/4 [==============================] - 0s 7ms/step - loss: 0.0399 - accuracy: 0.9879 - val_loss: 0.4061 - val_accuracy: 0.8871\n",
      "Epoch 62/100\n",
      "4/4 [==============================] - 0s 7ms/step - loss: 0.0385 - accuracy: 0.9879 - val_loss: 0.4080 - val_accuracy: 0.9032\n",
      "Epoch 63/100\n",
      "4/4 [==============================] - 0s 7ms/step - loss: 0.0374 - accuracy: 0.9879 - val_loss: 0.4110 - val_accuracy: 0.9032\n",
      "Epoch 64/100\n",
      "4/4 [==============================] - 0s 7ms/step - loss: 0.0371 - accuracy: 0.9879 - val_loss: 0.4146 - val_accuracy: 0.9032\n",
      "Epoch 65/100\n",
      "4/4 [==============================] - 0s 6ms/step - loss: 0.0359 - accuracy: 0.9879 - val_loss: 0.4191 - val_accuracy: 0.9032\n",
      "Epoch 66/100\n",
      "4/4 [==============================] - 0s 7ms/step - loss: 0.0349 - accuracy: 0.9879 - val_loss: 0.4246 - val_accuracy: 0.9032\n",
      "Epoch 67/100\n",
      "4/4 [==============================] - 0s 7ms/step - loss: 0.0342 - accuracy: 0.9879 - val_loss: 0.4304 - val_accuracy: 0.9032\n",
      "Epoch 68/100\n",
      "4/4 [==============================] - 0s 7ms/step - loss: 0.0336 - accuracy: 0.9879 - val_loss: 0.4353 - val_accuracy: 0.8871\n",
      "Epoch 69/100\n",
      "4/4 [==============================] - 0s 6ms/step - loss: 0.0335 - accuracy: 0.9919 - val_loss: 0.4375 - val_accuracy: 0.9032\n",
      "Epoch 70/100\n",
      "4/4 [==============================] - 0s 7ms/step - loss: 0.0325 - accuracy: 0.9919 - val_loss: 0.4420 - val_accuracy: 0.9032\n",
      "Epoch 71/100\n",
      "4/4 [==============================] - 0s 7ms/step - loss: 0.0329 - accuracy: 0.9879 - val_loss: 0.4473 - val_accuracy: 0.9032\n",
      "Epoch 72/100\n",
      "4/4 [==============================] - 0s 7ms/step - loss: 0.0326 - accuracy: 0.9879 - val_loss: 0.4507 - val_accuracy: 0.9032\n",
      "Epoch 73/100\n",
      "4/4 [==============================] - 0s 7ms/step - loss: 0.0316 - accuracy: 0.9879 - val_loss: 0.4541 - val_accuracy: 0.9032\n",
      "Epoch 74/100\n",
      "4/4 [==============================] - 0s 7ms/step - loss: 0.0315 - accuracy: 0.9919 - val_loss: 0.4577 - val_accuracy: 0.9032\n",
      "Epoch 75/100\n",
      "4/4 [==============================] - 0s 7ms/step - loss: 0.0307 - accuracy: 0.9919 - val_loss: 0.4611 - val_accuracy: 0.9032\n",
      "Epoch 76/100\n",
      "4/4 [==============================] - 0s 7ms/step - loss: 0.0300 - accuracy: 0.9919 - val_loss: 0.4649 - val_accuracy: 0.9032\n",
      "Epoch 77/100\n",
      "4/4 [==============================] - 0s 6ms/step - loss: 0.0306 - accuracy: 0.9919 - val_loss: 0.4700 - val_accuracy: 0.9032\n",
      "Epoch 78/100\n",
      "4/4 [==============================] - 0s 6ms/step - loss: 0.0295 - accuracy: 0.9879 - val_loss: 0.4730 - val_accuracy: 0.9032\n",
      "Epoch 79/100\n",
      "4/4 [==============================] - 0s 7ms/step - loss: 0.0288 - accuracy: 0.9879 - val_loss: 0.4747 - val_accuracy: 0.9032\n",
      "Epoch 80/100\n",
      "4/4 [==============================] - 0s 7ms/step - loss: 0.0286 - accuracy: 0.9879 - val_loss: 0.4780 - val_accuracy: 0.9032\n",
      "Epoch 81/100\n",
      "4/4 [==============================] - 0s 6ms/step - loss: 0.0285 - accuracy: 0.9879 - val_loss: 0.4833 - val_accuracy: 0.9032\n",
      "Epoch 82/100\n",
      "4/4 [==============================] - 0s 7ms/step - loss: 0.0290 - accuracy: 0.9919 - val_loss: 0.4871 - val_accuracy: 0.9032\n",
      "Epoch 83/100\n",
      "4/4 [==============================] - 0s 7ms/step - loss: 0.0276 - accuracy: 0.9879 - val_loss: 0.4921 - val_accuracy: 0.9032\n",
      "Epoch 84/100\n",
      "4/4 [==============================] - 0s 7ms/step - loss: 0.0278 - accuracy: 0.9879 - val_loss: 0.4964 - val_accuracy: 0.9032\n",
      "Epoch 85/100\n",
      "4/4 [==============================] - 0s 7ms/step - loss: 0.0270 - accuracy: 0.9919 - val_loss: 0.4993 - val_accuracy: 0.9032\n",
      "Epoch 86/100\n",
      "4/4 [==============================] - 0s 7ms/step - loss: 0.0276 - accuracy: 0.9879 - val_loss: 0.5008 - val_accuracy: 0.9032\n",
      "Epoch 87/100\n",
      "4/4 [==============================] - 0s 7ms/step - loss: 0.0275 - accuracy: 0.9879 - val_loss: 0.5057 - val_accuracy: 0.9032\n",
      "Epoch 88/100\n",
      "4/4 [==============================] - 0s 6ms/step - loss: 0.0262 - accuracy: 0.9919 - val_loss: 0.5089 - val_accuracy: 0.9032\n",
      "Epoch 89/100\n",
      "4/4 [==============================] - 0s 7ms/step - loss: 0.0262 - accuracy: 0.9919 - val_loss: 0.5110 - val_accuracy: 0.9032\n",
      "Epoch 90/100\n",
      "4/4 [==============================] - 0s 7ms/step - loss: 0.0264 - accuracy: 0.9919 - val_loss: 0.5147 - val_accuracy: 0.9032\n",
      "Epoch 91/100\n",
      "4/4 [==============================] - 0s 6ms/step - loss: 0.0255 - accuracy: 0.9919 - val_loss: 0.5193 - val_accuracy: 0.9032\n",
      "Epoch 92/100\n",
      "4/4 [==============================] - 0s 6ms/step - loss: 0.0261 - accuracy: 0.9879 - val_loss: 0.5241 - val_accuracy: 0.8871\n",
      "Epoch 93/100\n",
      "4/4 [==============================] - 0s 6ms/step - loss: 0.0265 - accuracy: 0.9879 - val_loss: 0.5269 - val_accuracy: 0.8871\n",
      "Epoch 94/100\n",
      "4/4 [==============================] - 0s 6ms/step - loss: 0.0248 - accuracy: 0.9919 - val_loss: 0.5267 - val_accuracy: 0.9032\n",
      "Epoch 95/100\n",
      "4/4 [==============================] - 0s 7ms/step - loss: 0.0251 - accuracy: 0.9919 - val_loss: 0.5295 - val_accuracy: 0.9032\n",
      "Epoch 96/100\n",
      "4/4 [==============================] - 0s 6ms/step - loss: 0.0253 - accuracy: 0.9919 - val_loss: 0.5321 - val_accuracy: 0.9032\n",
      "Epoch 97/100\n",
      "4/4 [==============================] - 0s 6ms/step - loss: 0.0250 - accuracy: 0.9919 - val_loss: 0.5346 - val_accuracy: 0.9032\n",
      "Epoch 98/100\n",
      "4/4 [==============================] - 0s 6ms/step - loss: 0.0239 - accuracy: 0.9919 - val_loss: 0.5400 - val_accuracy: 0.9032\n",
      "Epoch 99/100\n",
      "4/4 [==============================] - 0s 6ms/step - loss: 0.0241 - accuracy: 0.9919 - val_loss: 0.5442 - val_accuracy: 0.9032\n",
      "Epoch 100/100\n",
      "4/4 [==============================] - 0s 6ms/step - loss: 0.0247 - accuracy: 0.9879 - val_loss: 0.5470 - val_accuracy: 0.9032\n"
     ]
    }
   ],
   "source": [
    "model = Sequential([Dense(32, activation='relu', kernel_initializer='he_uniform', input_shape=(X_train_scaled.shape[-1],)),\n",
    "                    Dense(100, activation='relu', kernel_initializer='he_uniform'),\n",
    "                    Dense(64, activation='relu', kernel_initializer='he_uniform'),\n",
    "                    Dense(1, activation='sigmoid')\n",
    "                   ]\n",
    "                  )\n",
    "model.summary()\n",
    "\n",
    "model.compile(optimizer='adam',\n",
    "              loss='binary_crossentropy',\n",
    "              metrics=['accuracy'])\n",
    "\n",
    "# Train the model\n",
    "history = model.fit(X_train_scaled, y_train, batch_size=64, epochs=100, \n",
    "                    validation_data=(X_test_scaled,y_test))"
   ]
  },
  {
   "cell_type": "code",
   "execution_count": 62,
   "id": "8e973007",
   "metadata": {},
   "outputs": [
    {
     "name": "stdout",
     "output_type": "stream",
     "text": [
      "2/2 [==============================] - 0s 1ms/step\n",
      "\n",
      "==========================TEST=====================================\n",
      "confusion matrix: \n",
      " [[ 6  2]\n",
      " [ 4 50]]\n",
      "\n",
      "Accuracy: 0.903\n",
      "Precision: 0.962\n",
      "Sensitivity/recall: 0.926\n",
      "Specificity: 0.750\n",
      "Balanced Accuracy: 0.838\n",
      "F1 score: 0.943\n",
      "Classification report: \n",
      "               precision    recall  f1-score   support\n",
      "\n",
      "          NO       0.60      0.75      0.67         8\n",
      "         YES       0.96      0.93      0.94        54\n",
      "\n",
      "    accuracy                           0.90        62\n",
      "   macro avg       0.78      0.84      0.81        62\n",
      "weighted avg       0.91      0.90      0.91        62\n",
      "\n"
     ]
    }
   ],
   "source": [
    "nn_test_pred = model.predict(X_test_scaled).round()\n",
    "all_scores_dict['NN'], nn_cm = evaluate_model(y_test, nn_test_pred, 'TEST')"
   ]
  },
  {
   "cell_type": "code",
   "execution_count": 63,
   "id": "7dc78475",
   "metadata": {
    "scrolled": true
   },
   "outputs": [
    {
     "name": "stdout",
     "output_type": "stream",
     "text": [
      "Epoch 1/50\n",
      "8/8 [==============================] - 1s 20ms/step - loss: 7.9764 - accuracy: 0.7571 - val_loss: 6.9901 - val_accuracy: 0.8710\n",
      "Epoch 2/50\n",
      "8/8 [==============================] - 0s 4ms/step - loss: 6.3597 - accuracy: 0.8745 - val_loss: 5.6139 - val_accuracy: 0.8710\n",
      "Epoch 3/50\n",
      "8/8 [==============================] - 0s 4ms/step - loss: 5.0520 - accuracy: 0.9028 - val_loss: 4.4087 - val_accuracy: 0.8710\n",
      "Epoch 4/50\n",
      "8/8 [==============================] - 0s 4ms/step - loss: 3.9556 - accuracy: 0.9028 - val_loss: 3.4692 - val_accuracy: 0.8871\n",
      "Epoch 5/50\n",
      "8/8 [==============================] - 0s 4ms/step - loss: 3.1144 - accuracy: 0.9190 - val_loss: 2.7372 - val_accuracy: 0.9032\n",
      "Epoch 6/50\n",
      "8/8 [==============================] - 0s 4ms/step - loss: 2.4706 - accuracy: 0.9190 - val_loss: 2.1813 - val_accuracy: 0.8871\n",
      "Epoch 7/50\n",
      "8/8 [==============================] - 0s 4ms/step - loss: 1.9626 - accuracy: 0.9190 - val_loss: 1.7461 - val_accuracy: 0.9032\n",
      "Epoch 8/50\n",
      "8/8 [==============================] - 0s 4ms/step - loss: 1.5951 - accuracy: 0.9150 - val_loss: 1.4301 - val_accuracy: 0.9194\n",
      "Epoch 9/50\n",
      "8/8 [==============================] - 0s 4ms/step - loss: 1.3068 - accuracy: 0.9231 - val_loss: 1.1815 - val_accuracy: 0.9355\n",
      "Epoch 10/50\n",
      "8/8 [==============================] - 0s 4ms/step - loss: 1.0945 - accuracy: 0.9514 - val_loss: 1.0047 - val_accuracy: 0.9032\n",
      "Epoch 11/50\n",
      "8/8 [==============================] - 0s 4ms/step - loss: 0.9336 - accuracy: 0.9150 - val_loss: 0.8536 - val_accuracy: 0.9355\n",
      "Epoch 12/50\n",
      "8/8 [==============================] - 0s 4ms/step - loss: 0.8055 - accuracy: 0.9271 - val_loss: 0.7434 - val_accuracy: 0.9194\n",
      "Epoch 13/50\n",
      "8/8 [==============================] - 0s 4ms/step - loss: 0.7028 - accuracy: 0.9393 - val_loss: 0.6503 - val_accuracy: 0.9677\n",
      "Epoch 14/50\n",
      "8/8 [==============================] - 0s 4ms/step - loss: 0.6235 - accuracy: 0.9352 - val_loss: 0.5947 - val_accuracy: 0.9516\n",
      "Epoch 15/50\n",
      "8/8 [==============================] - 0s 4ms/step - loss: 0.5716 - accuracy: 0.9555 - val_loss: 0.5222 - val_accuracy: 0.9677\n",
      "Epoch 16/50\n",
      "8/8 [==============================] - 0s 4ms/step - loss: 0.5202 - accuracy: 0.9514 - val_loss: 0.4841 - val_accuracy: 0.9677\n",
      "Epoch 17/50\n",
      "8/8 [==============================] - 0s 4ms/step - loss: 0.4761 - accuracy: 0.9474 - val_loss: 0.4482 - val_accuracy: 0.9677\n",
      "Epoch 18/50\n",
      "8/8 [==============================] - 0s 4ms/step - loss: 0.4380 - accuracy: 0.9474 - val_loss: 0.4089 - val_accuracy: 0.9677\n",
      "Epoch 19/50\n",
      "8/8 [==============================] - 0s 5ms/step - loss: 0.4187 - accuracy: 0.9393 - val_loss: 0.3943 - val_accuracy: 0.9516\n",
      "Epoch 20/50\n",
      "8/8 [==============================] - 0s 4ms/step - loss: 0.4084 - accuracy: 0.9474 - val_loss: 0.3780 - val_accuracy: 0.9677\n",
      "Epoch 21/50\n",
      "8/8 [==============================] - 0s 4ms/step - loss: 0.3859 - accuracy: 0.9514 - val_loss: 0.3599 - val_accuracy: 0.9516\n",
      "Epoch 22/50\n",
      "8/8 [==============================] - 0s 3ms/step - loss: 0.3597 - accuracy: 0.9595 - val_loss: 0.3450 - val_accuracy: 0.9677\n",
      "Epoch 23/50\n",
      "8/8 [==============================] - 0s 4ms/step - loss: 0.3650 - accuracy: 0.9352 - val_loss: 0.3340 - val_accuracy: 0.9677\n",
      "Epoch 24/50\n",
      "8/8 [==============================] - 0s 4ms/step - loss: 0.3523 - accuracy: 0.9514 - val_loss: 0.3239 - val_accuracy: 0.9677\n",
      "Epoch 25/50\n",
      "8/8 [==============================] - 0s 4ms/step - loss: 0.3371 - accuracy: 0.9433 - val_loss: 0.3159 - val_accuracy: 0.9677\n",
      "Epoch 26/50\n",
      "8/8 [==============================] - 0s 4ms/step - loss: 0.3284 - accuracy: 0.9514 - val_loss: 0.3110 - val_accuracy: 0.9677\n",
      "Epoch 27/50\n",
      "8/8 [==============================] - 0s 4ms/step - loss: 0.3245 - accuracy: 0.9393 - val_loss: 0.3044 - val_accuracy: 0.9677\n",
      "Epoch 28/50\n",
      "8/8 [==============================] - 0s 3ms/step - loss: 0.3283 - accuracy: 0.9393 - val_loss: 0.3015 - val_accuracy: 0.9516\n",
      "Epoch 29/50\n",
      "8/8 [==============================] - 0s 4ms/step - loss: 0.3018 - accuracy: 0.9595 - val_loss: 0.2874 - val_accuracy: 0.9516\n",
      "Epoch 30/50\n",
      "8/8 [==============================] - 0s 4ms/step - loss: 0.2960 - accuracy: 0.9595 - val_loss: 0.2878 - val_accuracy: 0.9677\n",
      "Epoch 31/50\n",
      "8/8 [==============================] - 0s 4ms/step - loss: 0.2985 - accuracy: 0.9474 - val_loss: 0.2884 - val_accuracy: 0.9516\n",
      "Epoch 32/50\n",
      "8/8 [==============================] - 0s 3ms/step - loss: 0.2864 - accuracy: 0.9514 - val_loss: 0.2785 - val_accuracy: 0.9677\n",
      "Epoch 33/50\n",
      "8/8 [==============================] - 0s 3ms/step - loss: 0.2824 - accuracy: 0.9514 - val_loss: 0.2739 - val_accuracy: 0.9516\n",
      "Epoch 34/50\n",
      "8/8 [==============================] - 0s 4ms/step - loss: 0.2839 - accuracy: 0.9555 - val_loss: 0.2733 - val_accuracy: 0.9516\n",
      "Epoch 35/50\n",
      "8/8 [==============================] - 0s 4ms/step - loss: 0.2915 - accuracy: 0.9474 - val_loss: 0.2756 - val_accuracy: 0.9516\n",
      "Epoch 36/50\n",
      "8/8 [==============================] - 0s 4ms/step - loss: 0.2950 - accuracy: 0.9433 - val_loss: 0.2723 - val_accuracy: 0.9516\n",
      "Epoch 37/50\n",
      "8/8 [==============================] - 0s 4ms/step - loss: 0.2857 - accuracy: 0.9474 - val_loss: 0.2762 - val_accuracy: 0.9516\n",
      "Epoch 38/50\n",
      "8/8 [==============================] - 0s 4ms/step - loss: 0.2844 - accuracy: 0.9352 - val_loss: 0.2667 - val_accuracy: 0.9677\n",
      "Epoch 39/50\n",
      "8/8 [==============================] - 0s 4ms/step - loss: 0.2709 - accuracy: 0.9514 - val_loss: 0.2707 - val_accuracy: 0.9516\n",
      "Epoch 40/50\n",
      "8/8 [==============================] - 0s 4ms/step - loss: 0.2751 - accuracy: 0.9514 - val_loss: 0.2657 - val_accuracy: 0.9516\n",
      "Epoch 41/50\n",
      "8/8 [==============================] - 0s 4ms/step - loss: 0.2739 - accuracy: 0.9514 - val_loss: 0.2713 - val_accuracy: 0.9677\n",
      "Epoch 42/50\n",
      "8/8 [==============================] - 0s 4ms/step - loss: 0.2666 - accuracy: 0.9636 - val_loss: 0.2638 - val_accuracy: 0.9677\n",
      "Epoch 43/50\n",
      "8/8 [==============================] - 0s 4ms/step - loss: 0.2645 - accuracy: 0.9595 - val_loss: 0.2543 - val_accuracy: 0.9677\n",
      "Epoch 44/50\n",
      "8/8 [==============================] - 0s 4ms/step - loss: 0.2572 - accuracy: 0.9474 - val_loss: 0.2530 - val_accuracy: 0.9677\n",
      "Epoch 45/50\n",
      "8/8 [==============================] - 0s 4ms/step - loss: 0.2637 - accuracy: 0.9474 - val_loss: 0.2513 - val_accuracy: 0.9516\n",
      "Epoch 46/50\n",
      "8/8 [==============================] - 0s 4ms/step - loss: 0.2512 - accuracy: 0.9555 - val_loss: 0.2457 - val_accuracy: 0.9677\n",
      "Epoch 47/50\n",
      "8/8 [==============================] - 0s 3ms/step - loss: 0.2596 - accuracy: 0.9555 - val_loss: 0.2504 - val_accuracy: 0.9677\n",
      "Epoch 48/50\n",
      "8/8 [==============================] - 0s 4ms/step - loss: 0.2541 - accuracy: 0.9555 - val_loss: 0.2549 - val_accuracy: 0.9516\n",
      "Epoch 49/50\n",
      "8/8 [==============================] - 0s 4ms/step - loss: 0.2500 - accuracy: 0.9595 - val_loss: 0.2445 - val_accuracy: 0.9677\n",
      "Epoch 50/50\n",
      "8/8 [==============================] - 0s 4ms/step - loss: 0.2653 - accuracy: 0.9474 - val_loss: 0.2495 - val_accuracy: 0.9677\n"
     ]
    }
   ],
   "source": [
    "# define model\n",
    "reg_param = 0.003\n",
    "initializer = tf.keras.initializers.HeUniform(seed=46)\n",
    "opt_model = Sequential(\n",
    "                [Dense(64,activation='relu', kernel_initializer=initializer, input_shape=(X_train_scaled.shape[-1],),\n",
    "                       kernel_regularizer = regularizers.l1(reg_param)),\n",
    "                 Dense(128,activation='relu', kernel_initializer=initializer, kernel_regularizer = regularizers.l1(reg_param)),\n",
    "                 Dropout(0.15),\n",
    "                 Dense(64,activation='relu', kernel_initializer=initializer, kernel_regularizer = regularizers.l1(reg_param)),\n",
    "                 Dense(16,activation='relu', kernel_initializer=initializer, kernel_regularizer = regularizers.l1(reg_param)),\n",
    "                 Dropout(0.15),\n",
    "                 Dense(1, activation='sigmoid')\n",
    "                 ]\n",
    "                    )\n",
    "\n",
    "# compile model\n",
    "opt_model.compile(optimizer=Adam(learning_rate = 0.008), \n",
    "              loss='binary_crossentropy', \n",
    "              metrics=['accuracy'])\n",
    "\n",
    "# train model\n",
    "history = opt_model.fit(X_train_scaled, y_train, epochs=50, \n",
    "                    validation_data=(X_test_scaled,y_test))"
   ]
  },
  {
   "cell_type": "code",
   "execution_count": 65,
   "id": "a3e458f6",
   "metadata": {},
   "outputs": [
    {
     "name": "stdout",
     "output_type": "stream",
     "text": [
      "2/2 [==============================] - 0s 1ms/step\n",
      "\n",
      "==========================TEST=====================================\n",
      "confusion matrix: \n",
      " [[ 8  0]\n",
      " [ 2 52]]\n",
      "\n",
      "Accuracy: 0.968\n",
      "Precision: 1.000\n",
      "Sensitivity/recall: 0.963\n",
      "Specificity: 1.000\n",
      "Balanced Accuracy: 0.981\n",
      "F1 score: 0.981\n",
      "Classification report: \n",
      "               precision    recall  f1-score   support\n",
      "\n",
      "          NO       0.80      1.00      0.89         8\n",
      "         YES       1.00      0.96      0.98        54\n",
      "\n",
      "    accuracy                           0.97        62\n",
      "   macro avg       0.90      0.98      0.94        62\n",
      "weighted avg       0.97      0.97      0.97        62\n",
      "\n"
     ]
    }
   ],
   "source": [
    "opt_nn_test_pred = opt_model.predict(X_test_scaled).round()\n",
    "all_scores_dict['NN_opt'], nn_opt_cm = evaluate_model(y_test, opt_nn_test_pred, 'TEST')"
   ]
  },
  {
   "cell_type": "code",
   "execution_count": 66,
   "id": "5f9dd2ef",
   "metadata": {
    "scrolled": true
   },
   "outputs": [
    {
     "data": {
      "image/png": "[encoded data removed]",
      "text/plain": [
       "<Figure size 432x288 with 2 Axes>"
      ]
     },
     "metadata": {
      "needs_background": "light"
     },
     "output_type": "display_data"
    }
   ],
   "source": [
    "plot_confusion_matrix_heatmap(nn_opt_cm, \"nn_opt_cm\")"
   ]
  },
  {
   "cell_type": "markdown",
   "id": "aeac4ef1",
   "metadata": {},
   "source": [
    "# Summary of Result"
   ]
  },
  {
   "cell_type": "code",
   "execution_count": 72,
   "id": "34e8b553",
   "metadata": {},
   "outputs": [],
   "source": [
    "metric_score_indices = ['Accuracy', 'Precision', 'Sensitivity/Recall', 'Specificity', 'Balanced Accuracy', 'F1 score']\n",
    "score_df = pd.DataFrame(all_scores_dict,index=metric_score_indices).T.round(3)"
   ]
  },
  {
   "cell_type": "code",
   "execution_count": 73,
   "id": "2aaae87a",
   "metadata": {},
   "outputs": [
    {
     "data": {
      "text/html": [
       "<div>\n",
       "<style scoped>\n",
       "    .dataframe tbody tr th:only-of-type {\n",
       "        vertical-align: middle;\n",
       "    }\n",
       "\n",
       "    .dataframe tbody tr th {\n",
       "        vertical-align: top;\n",
       "    }\n",
       "\n",
       "    .dataframe thead th {\n",
       "        text-align: right;\n",
       "    }\n",
       "</style>\n",
       "<table border=\"1\" class=\"dataframe\">\n",
       "  <thead>\n",
       "    <tr style=\"text-align: right;\">\n",
       "      <th></th>\n",
       "      <th>Accuracy</th>\n",
       "      <th>Precision</th>\n",
       "      <th>Sensitivity/Recall</th>\n",
       "      <th>Specificity</th>\n",
       "      <th>Balanced Accuracy</th>\n",
       "      <th>F1 score</th>\n",
       "    </tr>\n",
       "  </thead>\n",
       "  <tbody>\n",
       "    <tr>\n",
       "      <th>SVC</th>\n",
       "      <td>0.855</td>\n",
       "      <td>0.895</td>\n",
       "      <td>0.944</td>\n",
       "      <td>0.250</td>\n",
       "      <td>0.597</td>\n",
       "      <td>0.919</td>\n",
       "    </tr>\n",
       "    <tr>\n",
       "      <th>SVC_opt</th>\n",
       "      <td>0.903</td>\n",
       "      <td>0.944</td>\n",
       "      <td>0.944</td>\n",
       "      <td>0.625</td>\n",
       "      <td>0.785</td>\n",
       "      <td>0.944</td>\n",
       "    </tr>\n",
       "    <tr>\n",
       "      <th>LR</th>\n",
       "      <td>0.903</td>\n",
       "      <td>0.944</td>\n",
       "      <td>0.944</td>\n",
       "      <td>0.625</td>\n",
       "      <td>0.785</td>\n",
       "      <td>0.944</td>\n",
       "    </tr>\n",
       "    <tr>\n",
       "      <th>LR_opt</th>\n",
       "      <td>0.919</td>\n",
       "      <td>0.945</td>\n",
       "      <td>0.963</td>\n",
       "      <td>0.625</td>\n",
       "      <td>0.794</td>\n",
       "      <td>0.954</td>\n",
       "    </tr>\n",
       "    <tr>\n",
       "      <th>KNN</th>\n",
       "      <td>0.871</td>\n",
       "      <td>0.911</td>\n",
       "      <td>0.944</td>\n",
       "      <td>0.375</td>\n",
       "      <td>0.660</td>\n",
       "      <td>0.927</td>\n",
       "    </tr>\n",
       "    <tr>\n",
       "      <th>KNN_opt</th>\n",
       "      <td>0.871</td>\n",
       "      <td>0.979</td>\n",
       "      <td>0.870</td>\n",
       "      <td>0.875</td>\n",
       "      <td>0.873</td>\n",
       "      <td>0.922</td>\n",
       "    </tr>\n",
       "    <tr>\n",
       "      <th>RF</th>\n",
       "      <td>0.919</td>\n",
       "      <td>0.962</td>\n",
       "      <td>0.944</td>\n",
       "      <td>0.750</td>\n",
       "      <td>0.847</td>\n",
       "      <td>0.953</td>\n",
       "    </tr>\n",
       "    <tr>\n",
       "      <th>RF_opt</th>\n",
       "      <td>0.919</td>\n",
       "      <td>0.962</td>\n",
       "      <td>0.944</td>\n",
       "      <td>0.750</td>\n",
       "      <td>0.847</td>\n",
       "      <td>0.953</td>\n",
       "    </tr>\n",
       "    <tr>\n",
       "      <th>GBoosting</th>\n",
       "      <td>0.855</td>\n",
       "      <td>0.925</td>\n",
       "      <td>0.907</td>\n",
       "      <td>0.500</td>\n",
       "      <td>0.704</td>\n",
       "      <td>0.916</td>\n",
       "    </tr>\n",
       "    <tr>\n",
       "      <th>GB_opt</th>\n",
       "      <td>0.903</td>\n",
       "      <td>0.929</td>\n",
       "      <td>0.963</td>\n",
       "      <td>0.500</td>\n",
       "      <td>0.731</td>\n",
       "      <td>0.945</td>\n",
       "    </tr>\n",
       "    <tr>\n",
       "      <th>NB</th>\n",
       "      <td>0.855</td>\n",
       "      <td>0.925</td>\n",
       "      <td>0.907</td>\n",
       "      <td>0.500</td>\n",
       "      <td>0.704</td>\n",
       "      <td>0.916</td>\n",
       "    </tr>\n",
       "    <tr>\n",
       "      <th>NB_opt</th>\n",
       "      <td>0.887</td>\n",
       "      <td>0.927</td>\n",
       "      <td>0.944</td>\n",
       "      <td>0.500</td>\n",
       "      <td>0.722</td>\n",
       "      <td>0.936</td>\n",
       "    </tr>\n",
       "    <tr>\n",
       "      <th>LDA</th>\n",
       "      <td>0.887</td>\n",
       "      <td>0.943</td>\n",
       "      <td>0.926</td>\n",
       "      <td>0.625</td>\n",
       "      <td>0.775</td>\n",
       "      <td>0.935</td>\n",
       "    </tr>\n",
       "    <tr>\n",
       "      <th>LDA_opt</th>\n",
       "      <td>0.903</td>\n",
       "      <td>0.944</td>\n",
       "      <td>0.944</td>\n",
       "      <td>0.625</td>\n",
       "      <td>0.785</td>\n",
       "      <td>0.944</td>\n",
       "    </tr>\n",
       "    <tr>\n",
       "      <th>DT</th>\n",
       "      <td>0.919</td>\n",
       "      <td>0.980</td>\n",
       "      <td>0.926</td>\n",
       "      <td>0.875</td>\n",
       "      <td>0.900</td>\n",
       "      <td>0.952</td>\n",
       "    </tr>\n",
       "    <tr>\n",
       "      <th>DT_opt</th>\n",
       "      <td>0.919</td>\n",
       "      <td>0.980</td>\n",
       "      <td>0.926</td>\n",
       "      <td>0.875</td>\n",
       "      <td>0.900</td>\n",
       "      <td>0.952</td>\n",
       "    </tr>\n",
       "    <tr>\n",
       "      <th>Bagging</th>\n",
       "      <td>0.871</td>\n",
       "      <td>0.960</td>\n",
       "      <td>0.889</td>\n",
       "      <td>0.750</td>\n",
       "      <td>0.819</td>\n",
       "      <td>0.923</td>\n",
       "    </tr>\n",
       "    <tr>\n",
       "      <th>Bagging_opt</th>\n",
       "      <td>0.887</td>\n",
       "      <td>0.961</td>\n",
       "      <td>0.907</td>\n",
       "      <td>0.750</td>\n",
       "      <td>0.829</td>\n",
       "      <td>0.933</td>\n",
       "    </tr>\n",
       "    <tr>\n",
       "      <th>NN</th>\n",
       "      <td>0.903</td>\n",
       "      <td>0.962</td>\n",
       "      <td>0.926</td>\n",
       "      <td>0.750</td>\n",
       "      <td>0.838</td>\n",
       "      <td>0.943</td>\n",
       "    </tr>\n",
       "    <tr>\n",
       "      <th>NN_opt</th>\n",
       "      <td>0.968</td>\n",
       "      <td>1.000</td>\n",
       "      <td>0.963</td>\n",
       "      <td>1.000</td>\n",
       "      <td>0.981</td>\n",
       "      <td>0.981</td>\n",
       "    </tr>\n",
       "  </tbody>\n",
       "</table>\n",
       "</div>"
      ],
      "text/plain": [
       "             Accuracy  Precision  Sensitivity/Recall  Specificity  \\\n",
       "SVC             0.855      0.895               0.944        0.250   \n",
       "SVC_opt         0.903      0.944               0.944        0.625   \n",
       "LR              0.903      0.944               0.944        0.625   \n",
       "LR_opt          0.919      0.945               0.963        0.625   \n",
       "KNN             0.871      0.911               0.944        0.375   \n",
       "KNN_opt         0.871      0.979               0.870        0.875   \n",
       "RF              0.919      0.962               0.944        0.750   \n",
       "RF_opt          0.919      0.962               0.944        0.750   \n",
       "GBoosting       0.855      0.925               0.907        0.500   \n",
       "GB_opt          0.903      0.929               0.963        0.500   \n",
       "NB              0.855      0.925               0.907        0.500   \n",
       "NB_opt          0.887      0.927               0.944        0.500   \n",
       "LDA             0.887      0.943               0.926        0.625   \n",
       "LDA_opt         0.903      0.944               0.944        0.625   \n",
       "DT              0.919      0.980               0.926        0.875   \n",
       "DT_opt          0.919      0.980               0.926        0.875   \n",
       "Bagging         0.871      0.960               0.889        0.750   \n",
       "Bagging_opt     0.887      0.961               0.907        0.750   \n",
       "NN              0.903      0.962               0.926        0.750   \n",
       "NN_opt          0.968      1.000               0.963        1.000   \n",
       "\n",
       "             Balanced Accuracy  F1 score  \n",
       "SVC                      0.597     0.919  \n",
       "SVC_opt                  0.785     0.944  \n",
       "LR                       0.785     0.944  \n",
       "LR_opt                   0.794     0.954  \n",
       "KNN                      0.660     0.927  \n",
       "KNN_opt                  0.873     0.922  \n",
       "RF                       0.847     0.953  \n",
       "RF_opt                   0.847     0.953  \n",
       "GBoosting                0.704     0.916  \n",
       "GB_opt                   0.731     0.945  \n",
       "NB                       0.704     0.916  \n",
       "NB_opt                   0.722     0.936  \n",
       "LDA                      0.775     0.935  \n",
       "LDA_opt                  0.785     0.944  \n",
       "DT                       0.900     0.952  \n",
       "DT_opt                   0.900     0.952  \n",
       "Bagging                  0.819     0.923  \n",
       "Bagging_opt              0.829     0.933  \n",
       "NN                       0.838     0.943  \n",
       "NN_opt                   0.981     0.981  "
      ]
     },
     "execution_count": 73,
     "metadata": {},
     "output_type": "execute_result"
    }
   ],
   "source": [
    "score_df"
   ]
  },
  {
   "cell_type": "code",
   "execution_count": 80,
   "id": "67c6fc17",
   "metadata": {},
   "outputs": [
    {
     "data": {
      "text/html": [
       "<div>\n",
       "<style scoped>\n",
       "    .dataframe tbody tr th:only-of-type {\n",
       "        vertical-align: middle;\n",
       "    }\n",
       "\n",
       "    .dataframe tbody tr th {\n",
       "        vertical-align: top;\n",
       "    }\n",
       "\n",
       "    .dataframe thead th {\n",
       "        text-align: right;\n",
       "    }\n",
       "</style>\n",
       "<table border=\"1\" class=\"dataframe\">\n",
       "  <thead>\n",
       "    <tr style=\"text-align: right;\">\n",
       "      <th></th>\n",
       "      <th>Accuracy</th>\n",
       "      <th>Precision</th>\n",
       "      <th>Sensitivity/Recall</th>\n",
       "      <th>Specificity</th>\n",
       "      <th>Balanced Accuracy</th>\n",
       "      <th>F1 score</th>\n",
       "    </tr>\n",
       "  </thead>\n",
       "  <tbody>\n",
       "    <tr>\n",
       "      <th>SVC</th>\n",
       "      <td>0.855</td>\n",
       "      <td>0.895</td>\n",
       "      <td>0.944</td>\n",
       "      <td>0.250</td>\n",
       "      <td>0.597</td>\n",
       "      <td>0.919</td>\n",
       "    </tr>\n",
       "    <tr>\n",
       "      <th>LR</th>\n",
       "      <td>0.903</td>\n",
       "      <td>0.944</td>\n",
       "      <td>0.944</td>\n",
       "      <td>0.625</td>\n",
       "      <td>0.785</td>\n",
       "      <td>0.944</td>\n",
       "    </tr>\n",
       "    <tr>\n",
       "      <th>KNN</th>\n",
       "      <td>0.871</td>\n",
       "      <td>0.911</td>\n",
       "      <td>0.944</td>\n",
       "      <td>0.375</td>\n",
       "      <td>0.660</td>\n",
       "      <td>0.927</td>\n",
       "    </tr>\n",
       "    <tr>\n",
       "      <th>RF</th>\n",
       "      <td>0.919</td>\n",
       "      <td>0.962</td>\n",
       "      <td>0.944</td>\n",
       "      <td>0.750</td>\n",
       "      <td>0.847</td>\n",
       "      <td>0.953</td>\n",
       "    </tr>\n",
       "    <tr>\n",
       "      <th>GBoosting</th>\n",
       "      <td>0.855</td>\n",
       "      <td>0.925</td>\n",
       "      <td>0.907</td>\n",
       "      <td>0.500</td>\n",
       "      <td>0.704</td>\n",
       "      <td>0.916</td>\n",
       "    </tr>\n",
       "    <tr>\n",
       "      <th>NB</th>\n",
       "      <td>0.855</td>\n",
       "      <td>0.925</td>\n",
       "      <td>0.907</td>\n",
       "      <td>0.500</td>\n",
       "      <td>0.704</td>\n",
       "      <td>0.916</td>\n",
       "    </tr>\n",
       "    <tr>\n",
       "      <th>LDA</th>\n",
       "      <td>0.887</td>\n",
       "      <td>0.943</td>\n",
       "      <td>0.926</td>\n",
       "      <td>0.625</td>\n",
       "      <td>0.775</td>\n",
       "      <td>0.935</td>\n",
       "    </tr>\n",
       "    <tr>\n",
       "      <th>DT</th>\n",
       "      <td>0.919</td>\n",
       "      <td>0.980</td>\n",
       "      <td>0.926</td>\n",
       "      <td>0.875</td>\n",
       "      <td>0.900</td>\n",
       "      <td>0.952</td>\n",
       "    </tr>\n",
       "    <tr>\n",
       "      <th>Bagging</th>\n",
       "      <td>0.871</td>\n",
       "      <td>0.960</td>\n",
       "      <td>0.889</td>\n",
       "      <td>0.750</td>\n",
       "      <td>0.819</td>\n",
       "      <td>0.923</td>\n",
       "    </tr>\n",
       "    <tr>\n",
       "      <th>NN</th>\n",
       "      <td>0.903</td>\n",
       "      <td>0.962</td>\n",
       "      <td>0.926</td>\n",
       "      <td>0.750</td>\n",
       "      <td>0.838</td>\n",
       "      <td>0.943</td>\n",
       "    </tr>\n",
       "  </tbody>\n",
       "</table>\n",
       "</div>"
      ],
      "text/plain": [
       "           Accuracy  Precision  Sensitivity/Recall  Specificity  \\\n",
       "SVC           0.855      0.895               0.944        0.250   \n",
       "LR            0.903      0.944               0.944        0.625   \n",
       "KNN           0.871      0.911               0.944        0.375   \n",
       "RF            0.919      0.962               0.944        0.750   \n",
       "GBoosting     0.855      0.925               0.907        0.500   \n",
       "NB            0.855      0.925               0.907        0.500   \n",
       "LDA           0.887      0.943               0.926        0.625   \n",
       "DT            0.919      0.980               0.926        0.875   \n",
       "Bagging       0.871      0.960               0.889        0.750   \n",
       "NN            0.903      0.962               0.926        0.750   \n",
       "\n",
       "           Balanced Accuracy  F1 score  \n",
       "SVC                    0.597     0.919  \n",
       "LR                     0.785     0.944  \n",
       "KNN                    0.660     0.927  \n",
       "RF                     0.847     0.953  \n",
       "GBoosting              0.704     0.916  \n",
       "NB                     0.704     0.916  \n",
       "LDA                    0.775     0.935  \n",
       "DT                     0.900     0.952  \n",
       "Bagging                0.819     0.923  \n",
       "NN                     0.838     0.943  "
      ]
     },
     "execution_count": 80,
     "metadata": {},
     "output_type": "execute_result"
    }
   ],
   "source": [
    "score_df[~score_df.index.str.contains('opt', regex=False)]"
   ]
  },
  {
   "cell_type": "code",
   "execution_count": 83,
   "id": "5d0ac315",
   "metadata": {},
   "outputs": [
    {
     "data": {
      "text/plain": [
       "array([ 7.19822813,  3.95010395,  3.99568035, 33.33333333, 17.06443914,\n",
       "        4.02969247])"
      ]
     },
     "execution_count": 83,
     "metadata": {},
     "output_type": "execute_result"
    }
   ],
   "source": [
    "om = np.array([0.903,0.962,0.926,0.750,0.838,0.943])\n",
    "mo = np.array([0.968,1.000,0.963,1.000,0.981,0.981])\n",
    "\n",
    "((mo-om)/om)*100"
   ]
  },
  {
   "cell_type": "code",
   "execution_count": 79,
   "id": "31e108aa",
   "metadata": {},
   "outputs": [
    {
     "data": {
      "text/html": [
       "<div>\n",
       "<style scoped>\n",
       "    .dataframe tbody tr th:only-of-type {\n",
       "        vertical-align: middle;\n",
       "    }\n",
       "\n",
       "    .dataframe tbody tr th {\n",
       "        vertical-align: top;\n",
       "    }\n",
       "\n",
       "    .dataframe thead th {\n",
       "        text-align: right;\n",
       "    }\n",
       "</style>\n",
       "<table border=\"1\" class=\"dataframe\">\n",
       "  <thead>\n",
       "    <tr style=\"text-align: right;\">\n",
       "      <th></th>\n",
       "      <th>Accuracy</th>\n",
       "      <th>Precision</th>\n",
       "      <th>Sensitivity/Recall</th>\n",
       "      <th>Specificity</th>\n",
       "      <th>Balanced Accuracy</th>\n",
       "      <th>F1 score</th>\n",
       "    </tr>\n",
       "  </thead>\n",
       "  <tbody>\n",
       "    <tr>\n",
       "      <th>SVC_opt</th>\n",
       "      <td>0.903</td>\n",
       "      <td>0.944</td>\n",
       "      <td>0.944</td>\n",
       "      <td>0.625</td>\n",
       "      <td>0.785</td>\n",
       "      <td>0.944</td>\n",
       "    </tr>\n",
       "    <tr>\n",
       "      <th>LR_opt</th>\n",
       "      <td>0.919</td>\n",
       "      <td>0.945</td>\n",
       "      <td>0.963</td>\n",
       "      <td>0.625</td>\n",
       "      <td>0.794</td>\n",
       "      <td>0.954</td>\n",
       "    </tr>\n",
       "    <tr>\n",
       "      <th>KNN_opt</th>\n",
       "      <td>0.871</td>\n",
       "      <td>0.979</td>\n",
       "      <td>0.870</td>\n",
       "      <td>0.875</td>\n",
       "      <td>0.873</td>\n",
       "      <td>0.922</td>\n",
       "    </tr>\n",
       "    <tr>\n",
       "      <th>RF_opt</th>\n",
       "      <td>0.919</td>\n",
       "      <td>0.962</td>\n",
       "      <td>0.944</td>\n",
       "      <td>0.750</td>\n",
       "      <td>0.847</td>\n",
       "      <td>0.953</td>\n",
       "    </tr>\n",
       "    <tr>\n",
       "      <th>GB_opt</th>\n",
       "      <td>0.903</td>\n",
       "      <td>0.929</td>\n",
       "      <td>0.963</td>\n",
       "      <td>0.500</td>\n",
       "      <td>0.731</td>\n",
       "      <td>0.945</td>\n",
       "    </tr>\n",
       "    <tr>\n",
       "      <th>NB_opt</th>\n",
       "      <td>0.887</td>\n",
       "      <td>0.927</td>\n",
       "      <td>0.944</td>\n",
       "      <td>0.500</td>\n",
       "      <td>0.722</td>\n",
       "      <td>0.936</td>\n",
       "    </tr>\n",
       "    <tr>\n",
       "      <th>LDA_opt</th>\n",
       "      <td>0.903</td>\n",
       "      <td>0.944</td>\n",
       "      <td>0.944</td>\n",
       "      <td>0.625</td>\n",
       "      <td>0.785</td>\n",
       "      <td>0.944</td>\n",
       "    </tr>\n",
       "    <tr>\n",
       "      <th>DT_opt</th>\n",
       "      <td>0.919</td>\n",
       "      <td>0.980</td>\n",
       "      <td>0.926</td>\n",
       "      <td>0.875</td>\n",
       "      <td>0.900</td>\n",
       "      <td>0.952</td>\n",
       "    </tr>\n",
       "    <tr>\n",
       "      <th>Bagging_opt</th>\n",
       "      <td>0.887</td>\n",
       "      <td>0.961</td>\n",
       "      <td>0.907</td>\n",
       "      <td>0.750</td>\n",
       "      <td>0.829</td>\n",
       "      <td>0.933</td>\n",
       "    </tr>\n",
       "    <tr>\n",
       "      <th>NN_opt</th>\n",
       "      <td>0.968</td>\n",
       "      <td>1.000</td>\n",
       "      <td>0.963</td>\n",
       "      <td>1.000</td>\n",
       "      <td>0.981</td>\n",
       "      <td>0.981</td>\n",
       "    </tr>\n",
       "  </tbody>\n",
       "</table>\n",
       "</div>"
      ],
      "text/plain": [
       "             Accuracy  Precision  Sensitivity/Recall  Specificity  \\\n",
       "SVC_opt         0.903      0.944               0.944        0.625   \n",
       "LR_opt          0.919      0.945               0.963        0.625   \n",
       "KNN_opt         0.871      0.979               0.870        0.875   \n",
       "RF_opt          0.919      0.962               0.944        0.750   \n",
       "GB_opt          0.903      0.929               0.963        0.500   \n",
       "NB_opt          0.887      0.927               0.944        0.500   \n",
       "LDA_opt         0.903      0.944               0.944        0.625   \n",
       "DT_opt          0.919      0.980               0.926        0.875   \n",
       "Bagging_opt     0.887      0.961               0.907        0.750   \n",
       "NN_opt          0.968      1.000               0.963        1.000   \n",
       "\n",
       "             Balanced Accuracy  F1 score  \n",
       "SVC_opt                  0.785     0.944  \n",
       "LR_opt                   0.794     0.954  \n",
       "KNN_opt                  0.873     0.922  \n",
       "RF_opt                   0.847     0.953  \n",
       "GB_opt                   0.731     0.945  \n",
       "NB_opt                   0.722     0.936  \n",
       "LDA_opt                  0.785     0.944  \n",
       "DT_opt                   0.900     0.952  \n",
       "Bagging_opt              0.829     0.933  \n",
       "NN_opt                   0.981     0.981  "
      ]
     },
     "execution_count": 79,
     "metadata": {},
     "output_type": "execute_result"
    }
   ],
   "source": [
    "score_df[score_df.index.str.contains('opt', regex=False)]"
   ]
  },
  {
   "cell_type": "markdown",
   "id": "SyHY5YOM1MKM",
   "metadata": {
    "id": "SyHY5YOM1MKM"
   },
   "source": [
    "# Feature Importance using Random Forest model"
   ]
  },
  {
   "cell_type": "code",
   "execution_count": 97,
   "id": "uSiiSrfU1Sd2",
   "metadata": {
    "colab": {
     "base_uri": "https://localhost:8080/",
     "height": 513
    },
    "id": "uSiiSrfU1Sd2",
    "outputId": "b120abd8-96aa-4490-c4c9-f55a1eb43865"
   },
   "outputs": [
    {
     "data": {
      "image/png": "[encoded data removed]",
      "text/plain": [
       "<Figure size 576x432 with 1 Axes>"
      ]
     },
     "metadata": {
      "needs_background": "light"
     },
     "output_type": "display_data"
    }
   ],
   "source": [
    "fig, ax = plt.subplots()\n",
    "(pd.Series(rf_model.feature_importances_*100, index=X_test_scaled.columns).sort_values().plot(kind='barh', \n",
    "                                                                                              figsize=(8,8), ax=ax))\n",
    "fig.set_size_inches(8, 6)\n",
    "plt.title(\"Plot of Feature Importance\")\n",
    "plt.xlabel(\"Importance (%)\")\n",
    "plt.ylabel(\"Feature names\")\n",
    "plt.savefig('feature_imp.jpeg',bbox_inches='tight')\n",
    "plt.show()"
   ]
  }
 ],
 "metadata": {
  "accelerator": "GPU",
  "colab": {
   "collapsed_sections": [
    "7749ac75",
    "5dd1d046",
    "00b27d4c",
    "8c835a4a",
    "4f15e394",
    "ba84f1e6",
    "90edcca5",
    "4973c502",
    "23e40d9a",
    "SyHY5YOM1MKM"
   ],
   "name": "Mr_Bode_Final_Paul-1.ipynb",
   "provenance": []
  },
  "interpreter": {
   "hash": "c51c2e7927791d4067f734361fbfcc12bbf3c7537a425b3080a88b639bdf082f"
  },
  "kernelspec": {
   "display_name": "Python 3 (ipykernel)",
   "language": "python",
   "name": "python3"
  },
  "language_info": {
   "codemirror_mode": {
    "name": "ipython",
    "version": 3
   },
   "file_extension": ".py",
   "mimetype": "text/x-python",
   "name": "python",
   "nbconvert_exporter": "python",
   "pygments_lexer": "ipython3",
   "version": "3.8.13"
  }
 },
 "nbformat": 4,
 "nbformat_minor": 5
}
